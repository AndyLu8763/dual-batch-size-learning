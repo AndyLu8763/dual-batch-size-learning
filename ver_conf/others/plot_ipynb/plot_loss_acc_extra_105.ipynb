{
 "cells": [
  {
   "cell_type": "markdown",
   "id": "1e16402c",
   "metadata": {},
   "source": [
    "### Import and Define"
   ]
  },
  {
   "cell_type": "code",
   "execution_count": null,
   "id": "20a5e0d9",
   "metadata": {},
   "outputs": [],
   "source": [
    "import numpy as np\n",
    "import matplotlib.pyplot as plt"
   ]
  },
  {
   "cell_type": "code",
   "execution_count": null,
   "id": "438fd02e",
   "metadata": {},
   "outputs": [],
   "source": [
    "def restruct_array(content):\n",
    "    # concatenate all np.ndarray to an array\n",
    "    time = np.reshape((content.item()['push_time']-content.item()['start_time'])[1:, :], (1, -1))\n",
    "    train_loss = np.reshape(content.item()['train_loss'][1:, :], (1, -1))\n",
    "    train_acc = np.reshape(content.item()['train_acc'][1:, :], (1, -1))\n",
    "    test_loss = np.reshape(content.item()['test_loss'][1:, :], (1, -1))\n",
    "    test_acc = np.reshape(content.item()['test_acc'][1:, :], (1, -1))\n",
    "    alles = np.concatenate((time, train_loss, train_acc, test_loss, test_acc))\n",
    "    # sort the array by push time\n",
    "    index = np.argsort(alles[0])\n",
    "    alles = alles[:, index]\n",
    "    # remove items unused\n",
    "    index2 = alles[0, :] > 0\n",
    "    alles = alles[:, index2]\n",
    "    print(np.min(alles[3]), np.argmin(alles[3]))\n",
    "    print(alles[3,-1], alles[4,-1])\n",
    "    return alles"
   ]
  },
  {
   "cell_type": "markdown",
   "id": "e3411dcb",
   "metadata": {},
   "source": [
    "### Load Data"
   ]
  },
  {
   "cell_type": "code",
   "execution_count": null,
   "id": "5f5859f9",
   "metadata": {},
   "outputs": [],
   "source": [
    "dir_path = '../../scp/tf_npy'\n",
    "base = '500'\n",
    "extra = '1.05'\n",
    "ls = [1, 2, 3, 4]\n",
    "small = [83, 154, 205, 242]\n",
    "dlr = []\n",
    "\n",
    "dlr.append(restruct_array(np.load(f'./{dir_path}/tf_4GPU_{base}.npy', allow_pickle=True)))\n",
    "for num1, num2 in zip(ls, small):\n",
    "    dlr.append(restruct_array(np.load(f'./{dir_path}/tf_extra{extra}_{num1}s_{num2}_{base}.npy',\n",
    "                                      allow_pickle=True)))"
   ]
  },
  {
   "cell_type": "code",
   "execution_count": null,
   "id": "26afa2fd",
   "metadata": {},
   "outputs": [],
   "source": [
    "def get_csv():\n",
    "    loss = []\n",
    "    acc = []\n",
    "    loss.append(np.arange(1, 561)/4)\n",
    "    acc.append(np.arange(1, 561)/4)\n",
    "    for i in dlr:\n",
    "        loss.append(i[3])\n",
    "        acc.append(i[4])\n",
    "    loss = np.array(loss).T\n",
    "    acc = np.array(acc).T\n",
    "    np.savetxt('loss_105.csv', loss, delimiter=',')\n",
    "    np.savetxt('acc_105.csv', acc, delimiter=',')\n",
    "\n",
    "#get_csv()"
   ]
  },
  {
   "cell_type": "markdown",
   "id": "f6f0daaa",
   "metadata": {},
   "source": [
    "### Plot"
   ]
  },
  {
   "cell_type": "code",
   "execution_count": null,
   "id": "f71a55db",
   "metadata": {},
   "outputs": [],
   "source": [
    "label = []\n",
    "\n",
    "label.append(f'0 small, $B_L={base}$')\n",
    "for num1, num2 in zip(ls, small):\n",
    "    label.append(f'{num1} small, $B_S={num2}$')\n",
    "\n",
    "DPI = 300\n",
    "#zorder=len(label)-i"
   ]
  },
  {
   "cell_type": "code",
   "execution_count": null,
   "id": "ca932e52",
   "metadata": {},
   "outputs": [],
   "source": [
    "## testing loss\n",
    "plt.figure(dpi=DPI)\n",
    "for i in range(len(label)):\n",
    "    plt.plot(np.arange(1, 561)/4, dlr[i][3], label=label[i], linewidth=1)\n",
    "plt.ylim(1, 5)\n",
    "#plt.title('Decaying Learning Rate, Testing Loss vs. Time')\n",
    "plt.xlabel('Epoch')\n",
    "plt.ylabel('Testing Loss')\n",
    "plt.legend()\n",
    "plt.show()\n",
    "\n",
    "## testing accuracy\n",
    "plt.figure(dpi=DPI)\n",
    "for i in range(len(label)):\n",
    "    plt.plot(np.arange(1, 561)/4, dlr[i][4], label=label[i], linewidth=1)\n",
    "#plt.title('Decaying Learning Rate, Testing Accuracy vs. Time')\n",
    "plt.xlabel('Epoch')\n",
    "plt.ylabel('Testing Accuracy')\n",
    "plt.legend()\n",
    "plt.show()"
   ]
  },
  {
   "cell_type": "code",
   "execution_count": null,
   "id": "efe4c004",
   "metadata": {},
   "outputs": [],
   "source": [
    "## training loss\n",
    "plt.figure(dpi=DPI)\n",
    "for i in range(len(label)):\n",
    "    plt.plot(dlr[i][0], dlr[i][1], label=label[i], linewidth=1)\n",
    "plt.title('Decaying Learning Rate, Training Loss vs. Time')\n",
    "plt.xlabel('Time (sec)')\n",
    "plt.ylabel('Training Loss')\n",
    "plt.legend()\n",
    "plt.show()\n",
    "\n",
    "## training accuracy\n",
    "plt.figure(dpi=DPI)\n",
    "for i in range(len(label)):\n",
    "    plt.plot(dlr[i][0], dlr[i][2], label=label[i], linewidth=1)\n",
    "plt.title('Decaying Learning Rate, Training Accuracy vs. Time')\n",
    "plt.xlabel('Time (sec)')\n",
    "plt.ylabel('Training Accuracy')\n",
    "plt.legend()\n",
    "plt.show()\n",
    "\n",
    "## testing loss\n",
    "plt.figure(dpi=DPI)\n",
    "for i in range(len(label)):\n",
    "    plt.plot(dlr[i][0], dlr[i][3], label=label[i], linewidth=1)\n",
    "plt.ylim(1, 5)\n",
    "#plt.title('Decaying Learning Rate, Testing Loss vs. Time')\n",
    "plt.xlabel('Time (sec)')\n",
    "plt.ylabel('Testing Loss')\n",
    "plt.legend()\n",
    "plt.show()\n",
    "\n",
    "## testing accuracy\n",
    "plt.figure(dpi=DPI)\n",
    "for i in range(len(label)):\n",
    "    plt.plot(dlr[i][0], dlr[i][4], label=label[i], linewidth=1)\n",
    "#plt.title('Decaying Learning Rate, Testing Accuracy vs. Time')\n",
    "plt.xlabel('Time (sec)')\n",
    "plt.ylabel('Testing Accuracy')\n",
    "plt.legend()\n",
    "plt.show()"
   ]
  },
  {
   "cell_type": "code",
   "execution_count": null,
   "id": "eec4169c",
   "metadata": {},
   "outputs": [],
   "source": []
  }
 ],
 "metadata": {
  "kernelspec": {
   "display_name": "Python 3 (ipykernel)",
   "language": "python",
   "name": "python3"
  },
  "language_info": {
   "codemirror_mode": {
    "name": "ipython",
    "version": 3
   },
   "file_extension": ".py",
   "mimetype": "text/x-python",
   "name": "python",
   "nbconvert_exporter": "python",
   "pygments_lexer": "ipython3",
   "version": "3.10.9"
  }
 },
 "nbformat": 4,
 "nbformat_minor": 5
}
