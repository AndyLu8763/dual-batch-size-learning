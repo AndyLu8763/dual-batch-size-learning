{
 "cells": [
  {
   "cell_type": "code",
   "execution_count": null,
   "id": "81305361",
   "metadata": {},
   "outputs": [],
   "source": [
    "import matplotlib.pyplot as plt\n",
    "import numpy as np\n",
    "import scipy\n",
    "from sklearn.linear_model import LinearRegression"
   ]
  },
  {
   "cell_type": "code",
   "execution_count": null,
   "id": "d6bdcb04",
   "metadata": {},
   "outputs": [],
   "source": [
    "bs = np.arange(1, 501)\n",
    "\n",
    "pt_epoch_true_val = np.load('../../scp/pt_train_time_1_501_1.npy')\n",
    "tf_epoch_true_val = np.load('../../scp/tf_train_time_1_501_1.npy')\n",
    "\n",
    "pt_batch_true_val = pt_epoch_true_val / np.ceil(50000/bs)\n",
    "tf_batch_true_val = tf_epoch_true_val / np.ceil(50000/bs)"
   ]
  },
  {
   "cell_type": "code",
   "execution_count": null,
   "id": "ff54305d",
   "metadata": {},
   "outputs": [],
   "source": [
    "pt_reg_model = LinearRegression().fit(bs.reshape(-1,1), pt_batch_true_val)\n",
    "tf_reg_model = LinearRegression().fit(bs.reshape(-1,1), tf_batch_true_val)"
   ]
  },
  {
   "cell_type": "code",
   "execution_count": null,
   "id": "06ef14b4",
   "metadata": {},
   "outputs": [],
   "source": [
    "pt_batch_predict_val = pt_reg_model.predict(bs.reshape(-1,1))\n",
    "tf_batch_predict_val = tf_reg_model.predict(bs.reshape(-1,1))\n",
    "\n",
    "pt_epoch_predict_val = pt_batch_predict_val * np.ceil(50000/bs)\n",
    "tf_epoch_predict_val = tf_batch_predict_val * np.ceil(50000/bs)"
   ]
  },
  {
   "cell_type": "code",
   "execution_count": null,
   "id": "37d76a8a",
   "metadata": {},
   "outputs": [],
   "source": [
    "def get_csv():\n",
    "    time_an_epoch = []\n",
    "    time_an_epoch.append(np.arange(1, 501))\n",
    "    time_an_epoch.append(pt_epoch_true_val)\n",
    "    time_an_epoch.append(pt_epoch_predict_val)\n",
    "    time_an_epoch.append(tf_epoch_true_val)\n",
    "    time_an_epoch.append(tf_epoch_predict_val)\n",
    "    time_an_epoch = np.array(time_an_epoch).T\n",
    "\n",
    "    time_a_batch = []\n",
    "    time_a_batch.append(np.arange(1, 501))\n",
    "    time_a_batch.append(pt_batch_true_val)\n",
    "    time_a_batch.append(pt_batch_predict_val)\n",
    "    time_a_batch.append(tf_batch_true_val)\n",
    "    time_a_batch.append(tf_batch_predict_val)\n",
    "    time_a_batch = np.array(time_a_batch).T\n",
    "    \n",
    "    np.savetxt('train_time_an_epoch.csv', time_an_epoch, delimiter=',')\n",
    "    np.savetxt('train_time_a_batch.csv', time_a_batch, delimiter=',')\n",
    "\n",
    "#get_csv()"
   ]
  },
  {
   "cell_type": "code",
   "execution_count": null,
   "id": "1e67b1f2",
   "metadata": {},
   "outputs": [],
   "source": [
    "DPI = 300"
   ]
  },
  {
   "cell_type": "code",
   "execution_count": null,
   "id": "9958dae3",
   "metadata": {},
   "outputs": [],
   "source": [
    "plt.figure(dpi=DPI)\n",
    "plt.plot(\n",
    "    bs,\n",
    "    pt_epoch_true_val,\n",
    "    label='PyTorch, measurement',\n",
    "    linewidth=1,\n",
    ")\n",
    "plt.plot(\n",
    "    bs,\n",
    "    pt_epoch_predict_val,\n",
    "    label='PyTorch, prediction',\n",
    "    linestyle='--',\n",
    "    linewidth=1,\n",
    ")\n",
    "plt.plot(\n",
    "    bs,\n",
    "    tf_epoch_true_val,\n",
    "    label='TensorFlow, measurement',\n",
    "    linewidth=1,\n",
    ")\n",
    "plt.plot(\n",
    "    bs,\n",
    "    tf_epoch_predict_val,\n",
    "    label='TensorFlow, prediction',\n",
    "    linestyle='--',\n",
    "    linewidth=1,\n",
    ")\n",
    "#plt.title('Training Time an Epoch')\n",
    "plt.xlabel('Batch Size')\n",
    "plt.ylabel('Time (sec)')\n",
    "plt.legend()\n",
    "plt.show()"
   ]
  },
  {
   "cell_type": "code",
   "execution_count": null,
   "id": "61242ed5",
   "metadata": {},
   "outputs": [],
   "source": [
    "plt.figure(dpi=DPI)\n",
    "plt.plot(\n",
    "    bs,\n",
    "    pt_batch_true_val,\n",
    "    label='PyTorch, measurement',\n",
    "    linewidth=1,\n",
    ")\n",
    "plt.plot(\n",
    "    bs,\n",
    "    pt_batch_predict_val,\n",
    "    label='PyTorch, prediction',\n",
    "    linestyle='--',\n",
    "    linewidth=1,\n",
    ")\n",
    "plt.plot(\n",
    "    bs,\n",
    "    tf_batch_true_val,\n",
    "    label='TensorFlow, measurement',\n",
    "    linewidth=1,\n",
    ")\n",
    "plt.plot(\n",
    "    bs,\n",
    "    tf_batch_predict_val,\n",
    "    label='TensorFlow, prediction',\n",
    "    linestyle='--',\n",
    "    linewidth=1,\n",
    ")\n",
    "#plt.title('Training Time a Batch')\n",
    "plt.xlabel('Batch Size')\n",
    "plt.ylabel('Time (sec)')\n",
    "plt.legend()\n",
    "plt.show()"
   ]
  },
  {
   "cell_type": "code",
   "execution_count": null,
   "id": "7b2a76e9",
   "metadata": {},
   "outputs": [],
   "source": [
    "predict_over_true = tf_batch_predict_val / tf_batch_true_val\n",
    "temp = np.abs(predict_over_true-1)\n",
    "print(np.max(temp), np.argmax(temp), scipy.stats.gmean(temp))"
   ]
  },
  {
   "cell_type": "code",
   "execution_count": null,
   "id": "cae2a960",
   "metadata": {},
   "outputs": [],
   "source": [
    "bbss = 500\n",
    "datasize = 13125\n",
    "tf_batch_true_val[bbss-1]*datasize/bbss"
   ]
  },
  {
   "cell_type": "code",
   "execution_count": null,
   "id": "920d30f1",
   "metadata": {},
   "outputs": [],
   "source": []
  }
 ],
 "metadata": {
  "kernelspec": {
   "display_name": "Python 3 (ipykernel)",
   "language": "python",
   "name": "python3"
  },
  "language_info": {
   "codemirror_mode": {
    "name": "ipython",
    "version": 3
   },
   "file_extension": ".py",
   "mimetype": "text/x-python",
   "name": "python",
   "nbconvert_exporter": "python",
   "pygments_lexer": "ipython3",
   "version": "3.11.7"
  }
 },
 "nbformat": 4,
 "nbformat_minor": 5
}
