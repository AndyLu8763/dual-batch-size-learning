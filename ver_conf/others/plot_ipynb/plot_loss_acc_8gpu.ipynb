{
 "cells": [
  {
   "cell_type": "markdown",
   "id": "1e16402c",
   "metadata": {},
   "source": [
    "### Import and Define"
   ]
  },
  {
   "cell_type": "code",
   "execution_count": null,
   "id": "20a5e0d9",
   "metadata": {},
   "outputs": [],
   "source": [
    "import numpy as np\n",
    "import matplotlib.pyplot as plt"
   ]
  },
  {
   "cell_type": "code",
   "execution_count": null,
   "id": "438fd02e",
   "metadata": {},
   "outputs": [],
   "source": [
    "def restruct_array(content):\n",
    "    # concatenate all np.ndarray to an array\n",
    "    time = np.reshape((content.item()['push_time']-content.item()['start_time'])[1:, :], (1, -1))\n",
    "    train_loss = np.reshape(content.item()['train_loss'][1:, :], (1, -1))\n",
    "    train_acc = np.reshape(content.item()['train_acc'][1:, :], (1, -1))\n",
    "    test_loss = np.reshape(content.item()['test_loss'][1:, :], (1, -1))\n",
    "    test_acc = np.reshape(content.item()['test_acc'][1:, :], (1, -1))\n",
    "    alles = np.concatenate((time, train_loss, train_acc, test_loss, test_acc))\n",
    "    # sort the array by push time\n",
    "    index = np.argsort(alles[0])\n",
    "    alles = alles[:, index]\n",
    "    # remove items unused\n",
    "    index2 = alles[0, :] > 0\n",
    "    alles = alles[:, index2]\n",
    "    print(np.min(alles[3]), np.argmin(alles[3]))\n",
    "    print(alles[3,-1], alles[4,-1])\n",
    "    return alles"
   ]
  },
  {
   "cell_type": "markdown",
   "id": "e3411dcb",
   "metadata": {},
   "source": [
    "### Load Data"
   ]
  },
  {
   "cell_type": "code",
   "execution_count": null,
   "id": "5f5859f9",
   "metadata": {},
   "outputs": [],
   "source": [
    "dir_path = '../../scp/tf_npy'\n",
    "base = '500'\n",
    "ls = [1, 2, 3, 4, 5, 6, 7, 8]\n",
    "small_105 = [35, 83, 122, 155, 182, 205, 225, 242]\n",
    "small_110 = [8, 38, 64, 87, 108, 127, 144, 160]\n",
    "extra_105 = []\n",
    "extra_110 = []\n",
    "\n",
    "extra_105.append(restruct_array(np.load(f'./{dir_path}/tf_8GPU_{base}.npy', allow_pickle=True)))\n",
    "extra_110.append(restruct_array(np.load(f'./{dir_path}/tf_8GPU_{base}.npy', allow_pickle=True)))\n",
    "for i in range(len(ls)):\n",
    "    extra_105.append(restruct_array(\n",
    "        np.load(f'./{dir_path}/tf8_extra1.05_{ls[i]}s_{small_105[i]}_{base}.npy',\n",
    "                allow_pickle=True)))\n",
    "    extra_110.append(restruct_array(\n",
    "        np.load(f'./{dir_path}/tf8_extra1.1_{ls[i]}s_{small_110[i]}_{base}.npy',\n",
    "                allow_pickle=True)))"
   ]
  },
  {
   "cell_type": "code",
   "execution_count": null,
   "id": "ee223d1e",
   "metadata": {},
   "outputs": [],
   "source": [
    "def get_csv():\n",
    "    loss_105 = []\n",
    "    loss_110 = []\n",
    "    acc_105 = []\n",
    "    acc_110 = []\n",
    "    loss_105.append(np.arange(1, 140*8+1)/8)\n",
    "    loss_110.append(np.arange(1, 140*8+1)/8)\n",
    "    acc_105.append(np.arange(1, 140*8+1)/8)\n",
    "    acc_110.append(np.arange(1, 140*8+1)/8)\n",
    "    for i, j in zip(extra_105, extra_110):\n",
    "        loss_105.append(i[3])\n",
    "        loss_110.append(j[3])\n",
    "        acc_105.append(i[4])\n",
    "        acc_110.append(j[4])\n",
    "    loss_105, loss_110 = np.array(loss_105).T, np.array(loss_110).T\n",
    "    acc_105, acc_110 = np.array(acc_105).T, np.array(acc_110).T\n",
    "    np.savetxt('loss_105_8gpu.csv', loss_105, delimiter=',')\n",
    "    np.savetxt('loss_110_8gpu.csv', loss_110, delimiter=',')\n",
    "    np.savetxt('acc_105_8gpu.csv', acc_105, delimiter=',')\n",
    "    np.savetxt('acc_110_8gpu.csv', acc_110, delimiter=',')\n",
    "\n",
    "#get_csv()"
   ]
  },
  {
   "cell_type": "markdown",
   "id": "f6f0daaa",
   "metadata": {},
   "source": [
    "### Plot 1.05"
   ]
  },
  {
   "cell_type": "code",
   "execution_count": null,
   "id": "f71a55db",
   "metadata": {},
   "outputs": [],
   "source": [
    "label = []\n",
    "\n",
    "label.append(f'0 small, $B_L={base}$')\n",
    "for count, bs in zip(ls, small_105):\n",
    "    label.append(f'{count} small, $B_S={bs}$')\n",
    "\n",
    "DPI = 300"
   ]
  },
  {
   "cell_type": "code",
   "execution_count": null,
   "id": "5f60d7a8",
   "metadata": {},
   "outputs": [],
   "source": [
    "## testing loss\n",
    "plt.figure(dpi=DPI)\n",
    "for i in range(len(label)):\n",
    "    plt.plot(np.arange(1, 140*8+1)/8, extra_105[i][3], label=label[i], linewidth=1)\n",
    "plt.ylim(1, 5)\n",
    "#plt.title('The Testing Loss versus the Training Epoch')\n",
    "plt.xlabel('Epoch')\n",
    "plt.ylabel('Testing Loss')\n",
    "plt.legend()\n",
    "plt.show()\n",
    "\n",
    "## testing accuracy\n",
    "plt.figure(dpi=DPI)\n",
    "for i in range(len(label)):\n",
    "    plt.plot(np.arange(1, 140*8+1)/8, extra_105[i][4], label=label[i], linewidth=1)\n",
    "#plt.title('The Testing Accuracy versus the Training Epoch')\n",
    "plt.xlabel('Epoch')\n",
    "plt.ylabel('Testing Accuracy')\n",
    "plt.legend()\n",
    "plt.show()"
   ]
  },
  {
   "cell_type": "markdown",
   "id": "a8483b8c",
   "metadata": {},
   "source": [
    "### Plot 1.1"
   ]
  },
  {
   "cell_type": "code",
   "execution_count": null,
   "id": "059c075d",
   "metadata": {},
   "outputs": [],
   "source": [
    "label = []\n",
    "\n",
    "label.append(f'0 small, $B_L={base}$')\n",
    "for count, bs in zip(ls, small_110):\n",
    "    label.append(f'{count} small, $B_S={bs}$')\n",
    "\n",
    "DPI = 300"
   ]
  },
  {
   "cell_type": "code",
   "execution_count": null,
   "id": "5136c2ee",
   "metadata": {},
   "outputs": [],
   "source": [
    "## testing loss\n",
    "plt.figure(dpi=DPI)\n",
    "for i in range(len(label)):\n",
    "    plt.plot(np.arange(1, 140*8+1)/8, extra_110[i][3], label=label[i], linewidth=1)\n",
    "plt.ylim(1, 5)\n",
    "#plt.title('The Testing Loss versus the Training Epoch')\n",
    "plt.xlabel('Epoch')\n",
    "plt.ylabel('Testing Loss')\n",
    "plt.legend()\n",
    "plt.show()\n",
    "\n",
    "## testing accuracy\n",
    "plt.figure(dpi=DPI)\n",
    "for i in range(len(label)):\n",
    "    plt.plot(np.arange(1, 140*8+1)/8, extra_110[i][4], label=label[i], linewidth=1)\n",
    "#plt.title('The Testing Accuracy versus the Training Epoch')\n",
    "plt.xlabel('Epoch')\n",
    "plt.ylabel('Testing Accuracy')\n",
    "plt.legend()\n",
    "plt.show()"
   ]
  },
  {
   "cell_type": "code",
   "execution_count": null,
   "id": "415ac704",
   "metadata": {},
   "outputs": [],
   "source": []
  }
 ],
 "metadata": {
  "kernelspec": {
   "display_name": "Python 3 (ipykernel)",
   "language": "python",
   "name": "python3"
  },
  "language_info": {
   "codemirror_mode": {
    "name": "ipython",
    "version": 3
   },
   "file_extension": ".py",
   "mimetype": "text/x-python",
   "name": "python",
   "nbconvert_exporter": "python",
   "pygments_lexer": "ipython3",
   "version": "3.11.7"
  }
 },
 "nbformat": 4,
 "nbformat_minor": 5
}
