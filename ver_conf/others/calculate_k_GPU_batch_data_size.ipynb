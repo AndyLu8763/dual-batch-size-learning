{
 "cells": [
  {
   "cell_type": "code",
   "execution_count": null,
   "id": "d2bc6422",
   "metadata": {},
   "outputs": [],
   "source": [
    "import numpy as np"
   ]
  },
  {
   "cell_type": "code",
   "execution_count": null,
   "id": "7b44b59a",
   "metadata": {},
   "outputs": [],
   "source": [
    "base_BS = 500\n",
    "num_GPU = 8\n",
    "num_small = 7\n",
    "num_large = num_GPU - num_small\n",
    "extra_time_rate = 1.1\n",
    "\n",
    "def count_small_BS_data_size():\n",
    "    # cifar10/100, resnet18, GTX1080\n",
    "    # ax+b\n",
    "    a, b = 0.00056607, 0.014041204118283607\n",
    "    num_train_data = 50000\n",
    "    # t = (a+b/x1)*d1 = (a+b/x2)*d2\n",
    "    time_base = (a + b/base_BS) * num_train_data / num_GPU\n",
    "    time_new = extra_time_rate * time_base\n",
    "    # data\n",
    "    base_data = int(extra_time_rate * num_train_data / num_GPU)\n",
    "    small_data = int((num_train_data - base_data * num_large) / num_small) if num_small else 0\n",
    "    # batch size\n",
    "    small_BS = int(b / (time_new / small_data - a)) if small_data else 0\n",
    "    return small_BS, base_data, small_data\n",
    "\n",
    "small_BS, base_data, small_data = count_small_BS_data_size()\n",
    "print('base:', num_large, base_BS, base_data)\n",
    "print('small:', num_small, small_BS, small_data)\n",
    "print('total data:', num_large*base_data+num_small*small_data)\n",
    "print('model update factor:', small_data / base_data)"
   ]
  },
  {
   "cell_type": "code",
   "execution_count": null,
   "id": "9dccbb10",
   "metadata": {},
   "outputs": [],
   "source": []
  }
 ],
 "metadata": {
  "kernelspec": {
   "display_name": "Python 3 (ipykernel)",
   "language": "python",
   "name": "python3"
  },
  "language_info": {
   "codemirror_mode": {
    "name": "ipython",
    "version": 3
   },
   "file_extension": ".py",
   "mimetype": "text/x-python",
   "name": "python",
   "nbconvert_exporter": "python",
   "pygments_lexer": "ipython3",
   "version": "3.9.9"
  }
 },
 "nbformat": 4,
 "nbformat_minor": 5
}
