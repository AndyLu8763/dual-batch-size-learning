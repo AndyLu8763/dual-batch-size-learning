{
 "cells": [
  {
   "cell_type": "code",
   "execution_count": null,
   "id": "42719010",
   "metadata": {},
   "outputs": [],
   "source": [
    "import torch\n",
    "import torch.nn as nn\n",
    "import torch.optim as optim\n",
    "from torchvision import datasets, models, transforms"
   ]
  },
  {
   "cell_type": "code",
   "execution_count": null,
   "id": "be62b7f8",
   "metadata": {},
   "outputs": [],
   "source": [
    "root = '~/.pytorch/datasets/'\n",
    "device = torch.device('cuda:0' if torch.cuda.is_available() else 'cpu')\n",
    "print(f'Using device: {device}')"
   ]
  },
  {
   "cell_type": "code",
   "execution_count": null,
   "id": "acc9ed39",
   "metadata": {},
   "outputs": [],
   "source": [
    "mean = torch.tensor([129.3, 124.1, 112.4]) / 255\n",
    "std = torch.tensor([68.2, 65.4, 70.4]) / 255\n",
    "\n",
    "train_transform = transforms.Compose(\n",
    "    [transforms.ToTensor(),\n",
    "     transforms.Normalize(mean, std),\n",
    "     transforms.RandomCrop(32, padding=4, padding_mode='constant'),\n",
    "     transforms.RandomHorizontalFlip()])\n",
    "eval_transform = transforms.Compose(\n",
    "    [transforms.ToTensor(),\n",
    "     transforms.Normalize(mean, std)])\n",
    "\n",
    "trainset = datasets.CIFAR100(root=root, train=True, download=True, transform=train_transform)\n",
    "testset = datasets.CIFAR100(root=root, train=False, download=True, transform=eval_transform)"
   ]
  },
  {
   "cell_type": "code",
   "execution_count": null,
   "id": "fe1fe518",
   "metadata": {},
   "outputs": [],
   "source": [
    "model = models.resnet18()\n",
    "model.conv1 = nn.Conv2d(3, 64, kernel_size=(3, 3), stride=(1, 1), padding=(1, 1), bias=False)\n",
    "model.maxpool = nn.Sequential()\n",
    "model.fc = nn.Linear(in_features=512, out_features=100, bias=True)\n",
    "model = model.to(device)"
   ]
  },
  {
   "cell_type": "code",
   "execution_count": null,
   "id": "6dba32a0",
   "metadata": {},
   "outputs": [],
   "source": [
    "criterion = nn.CrossEntropyLoss()\n",
    "optimizer = optim.SGD(model.parameters(), lr=1e-1, momentum=0.9, weight_decay=0)\n",
    "#scheduler = optim.lr_scheduler.StepLR(optimizer, step_size=25, gamma=0.5)"
   ]
  },
  {
   "cell_type": "code",
   "execution_count": null,
   "id": "343708b8",
   "metadata": {},
   "outputs": [],
   "source": [
    "num_workers = 2\n",
    "epochs = 10\n",
    "batch_size = 500\n",
    "eval_batch_size = 1000"
   ]
  },
  {
   "cell_type": "code",
   "execution_count": null,
   "id": "bafa2e2e",
   "metadata": {},
   "outputs": [],
   "source": [
    "trainloader = torch.utils.data.DataLoader(\n",
    "    trainset,\n",
    "    batch_size=batch_size,\n",
    "    shuffle=True,\n",
    "    num_workers=num_workers\n",
    ")\n",
    "testloader = torch.utils.data.DataLoader(testset, batch_size=eval_batch_size, num_workers=num_workers)"
   ]
  },
  {
   "cell_type": "code",
   "execution_count": null,
   "id": "9d347ca8",
   "metadata": {},
   "outputs": [],
   "source": [
    "for epoch in range(epochs):\n",
    "    train_loss, train_acc, test_loss, test_acc = 0, 0, 0, 0\n",
    "    # train\n",
    "    model.train()\n",
    "    for i, data in enumerate(trainloader):\n",
    "        # load data\n",
    "        inputs = data[0].to(device)\n",
    "        labels = data[1].to(device)\n",
    "        # compute\n",
    "        optimizer.zero_grad()\n",
    "        outputs = model(inputs)\n",
    "        loss = criterion(outputs, labels)\n",
    "        loss.backward()\n",
    "        optimizer.step()\n",
    "        # record\n",
    "        predict_labels = torch.max(outputs, dim=1).indices\n",
    "        train_loss += loss.item()\n",
    "        train_acc += torch.sum(labels==predict_labels).item()\n",
    "    train_loss /= len(trainloader)\n",
    "    train_acc /= len(trainset)\n",
    "    # eval\n",
    "    model.eval()\n",
    "    with torch.no_grad():\n",
    "        for i, data in enumerate(testloader):\n",
    "            # load data\n",
    "            inputs = data[0].to(device)\n",
    "            labels = data[1].to(device)\n",
    "            # compute\n",
    "            outputs = model(inputs)\n",
    "            loss = criterion(outputs, labels)\n",
    "            # record\n",
    "            predict_labels = torch.max(outputs, dim=1).indices\n",
    "            test_loss += loss.item()\n",
    "            test_acc += torch.sum(labels==predict_labels).item()\n",
    "    test_loss /= len(testloader)\n",
    "    test_acc /= len(testset)\n",
    "    # print results\n",
    "    print(f'epoch {epoch}')\n",
    "    print(f'train_loss: {train_loss}, train_acc: {train_acc}')\n",
    "    print(f'test_loss: {test_loss}, test_acc: {test_acc}')\n",
    "    print('--------')"
   ]
  },
  {
   "cell_type": "code",
   "execution_count": null,
   "id": "1b87a4be",
   "metadata": {},
   "outputs": [],
   "source": []
  }
 ],
 "metadata": {
  "kernelspec": {
   "display_name": "Python 3 (ipykernel)",
   "language": "python",
   "name": "python3"
  },
  "language_info": {
   "codemirror_mode": {
    "name": "ipython",
    "version": 3
   },
   "file_extension": ".py",
   "mimetype": "text/x-python",
   "name": "python",
   "nbconvert_exporter": "python",
   "pygments_lexer": "ipython3",
   "version": "3.10.6"
  }
 },
 "nbformat": 4,
 "nbformat_minor": 5
}
