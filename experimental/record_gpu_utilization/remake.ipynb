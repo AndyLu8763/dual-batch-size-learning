{
 "cells": [
  {
   "cell_type": "code",
   "execution_count": null,
   "id": "5270f474",
   "metadata": {},
   "outputs": [],
   "source": [
    "import argparse\n",
    "import time\n",
    "import tensorflow as tf\n",
    "from tensorflow import keras"
   ]
  },
  {
   "cell_type": "code",
   "execution_count": null,
   "id": "3a832761",
   "metadata": {},
   "outputs": [],
   "source": [
    "parser = argparse.ArgumentParser(\n",
    "    description='Too simple! Sometimes naive!'\n",
    ")\n",
    "parser.add_argument(\n",
    "    '-m', '--mixed',\n",
    "    type=bool,\n",
    "    default=False,\n",
    "    help='MIXED_PRECISION'\n",
    ")\n",
    "parser.add_argument(\n",
    "    '-j', '--jit',\n",
    "    type=bool,\n",
    "    default=False,\n",
    "    help='JIT_COMPILE'\n",
    ")\n",
    "parser.add_argument(\n",
    "    '-b', '--batch',\n",
    "    type=int,\n",
    "    default=100,\n",
    "    help='batch_size'\n",
    ")\n",
    "# parser.parse_args() is used in .py files\n",
    "# parser.parse_args('') is used in .ipynb files\n",
    "args = parser.parse_args()"
   ]
  },
  {
   "cell_type": "code",
   "execution_count": null,
   "id": "0d45c8f7",
   "metadata": {},
   "outputs": [],
   "source": [
    "# Optimization Setting\n",
    "device_index = -1\n",
    "MIXED_PRECISION_FLAG = args.mixed\n",
    "JIT_COMPILE_FLAG = args.jit\n",
    "\n",
    "# Dataloader Setting\n",
    "batch_size = args.batch\n",
    "\n",
    "# Training Setting\n",
    "learning_rate = 1e-1\n",
    "momentum = 0.9\n",
    "weight_decay = 0\n",
    "epochs = 1"
   ]
  },
  {
   "cell_type": "code",
   "execution_count": null,
   "id": "727c319c",
   "metadata": {},
   "outputs": [],
   "source": [
    "physical_devices = tf.config.list_physical_devices('GPU')\n",
    "tf.config.set_visible_devices(physical_devices[device_index], 'GPU')\n",
    "tf.config.experimental.set_memory_growth(physical_devices[device_index], True)"
   ]
  },
  {
   "cell_type": "code",
   "execution_count": null,
   "id": "f6094e61",
   "metadata": {},
   "outputs": [],
   "source": [
    "if MIXED_PRECISION_FLAG:\n",
    "    policy = keras.mixed_precision.Policy('mixed_float16')\n",
    "    keras.mixed_precision.set_global_policy(policy)"
   ]
  },
  {
   "cell_type": "code",
   "execution_count": null,
   "id": "e2f91802",
   "metadata": {},
   "outputs": [],
   "source": [
    "def load_cifar100(\n",
    "    batch_size: int,\n",
    "    validation_batch_size: int = batch_size,\n",
    "    seed: int = None,\n",
    "    num_parallel_calls: int = tf.data.AUTOTUNE):\n",
    "    \n",
    "    def map_preprocessing(image):\n",
    "        mean = [0.50705886, 0.48666665, 0.4407843 ]\n",
    "        variance = [0.07153001, 0.06577717, 0.0762193 ]\n",
    "        transform = keras.Sequential([\n",
    "            keras.layers.Rescaling(1/255),\n",
    "            keras.layers.Normalization(mean=mean, variance=variance)\n",
    "        ])\n",
    "        return transform(image)\n",
    "    \n",
    "    def map_augmentation(image):\n",
    "        transform = keras.Sequential([\n",
    "            keras.layers.RandomTranslation(height_factor=0.1, width_factor=0.1, fill_mode='constant'),\n",
    "            keras.layers.RandomFlip('horizontal')\n",
    "        ])\n",
    "        return transform(image)\n",
    "    \n",
    "    (x_train, y_train), (x_test, y_test) = keras.datasets.cifar100.load_data()\n",
    "    dataloader = {\n",
    "        'train': (tf.data.Dataset.from_tensor_slices((x_train, y_train))\n",
    "                  .map(lambda x, y: (map_preprocessing(x), y), num_parallel_calls=num_parallel_calls)\n",
    "                  .cache()\n",
    "                  .shuffle(buffer_size=len(x_train), seed=seed)\n",
    "                  .map(lambda x, y: (map_augmentation(x), y), num_parallel_calls=num_parallel_calls)\n",
    "                  .batch(batch_size=batch_size)\n",
    "                  .prefetch(buffer_size=tf.data.AUTOTUNE)),\n",
    "        'test': (tf.data.Dataset.from_tensor_slices((x_test, y_test))\n",
    "                 .map(lambda x, y: (map_preprocessing(x), y), num_parallel_calls=num_parallel_calls)\n",
    "                 .cache()\n",
    "                 .batch(batch_size=validation_batch_size)\n",
    "                 .prefetch(buffer_size=tf.data.AUTOTUNE))\n",
    "    }\n",
    "    return dataloader"
   ]
  },
  {
   "cell_type": "code",
   "execution_count": null,
   "id": "df7427a6",
   "metadata": {},
   "outputs": [],
   "source": [
    "def make_resnet18(\n",
    "    inputs: keras.Input = keras.Input(shape=(32, 32, 3)),\n",
    "    num_classes: int = 100) -> keras.Model:\n",
    "    \n",
    "    def basicblock(inputs: keras.Input, filters: int, bottleneck: bool):\n",
    "        if bottleneck:\n",
    "            identity = keras.layers.Conv2D(\n",
    "                filters, 1, strides=2, padding='valid', kernel_initializer='he_normal'\n",
    "            )(inputs)\n",
    "            identity = keras.layers.BatchNormalization()(identity)\n",
    "            x = keras.layers.Conv2D(\n",
    "                filters, 3, strides=2, padding='same', kernel_initializer='he_normal'\n",
    "            )(inputs)\n",
    "        else:\n",
    "            identity = inputs\n",
    "            x = keras.layers.Conv2D(\n",
    "                filters, 3, strides=1, padding='same', kernel_initializer='he_normal'\n",
    "            )(inputs)\n",
    "        x = keras.layers.BatchNormalization()(x)\n",
    "        x = keras.layers.Activation('relu')(x)\n",
    "        x = keras.layers.Conv2D(\n",
    "            filters, 3, strides=1, padding='same', kernel_initializer='he_normal'\n",
    "        )(x)\n",
    "        x = keras.layers.BatchNormalization()(x)\n",
    "        x = keras.layers.Add()([x, identity])\n",
    "        x = keras.layers.Activation('relu')(x)\n",
    "        return x\n",
    "    \n",
    "    x = keras.layers.Conv2D(64, 3, strides=1, padding='same', kernel_initializer='he_normal')(inputs)\n",
    "    x = keras.layers.BatchNormalization()(x)\n",
    "    x = keras.layers.Activation('relu')(x)\n",
    "    x = basicblock(x, 64, False)\n",
    "    x = basicblock(x, 64, False)\n",
    "    x = basicblock(x, 128, True)\n",
    "    x = basicblock(x, 128, False)\n",
    "    x = basicblock(x, 256, True)\n",
    "    x = basicblock(x, 256, False)\n",
    "    x = basicblock(x, 512, True)\n",
    "    x = basicblock(x, 512, False)\n",
    "    x = keras.layers.GlobalAveragePooling2D()(x)\n",
    "    outputs = keras.layers.Dense(num_classes, activation='softmax')(x)\n",
    "    return keras.Model(inputs=inputs, outputs=outputs)"
   ]
  },
  {
   "cell_type": "code",
   "execution_count": null,
   "id": "02c393d8",
   "metadata": {},
   "outputs": [],
   "source": [
    "dataloader = load_cifar100(batch_size=batch_size)"
   ]
  },
  {
   "cell_type": "code",
   "execution_count": null,
   "id": "c8d5abb4",
   "metadata": {},
   "outputs": [],
   "source": [
    "model = make_resnet18(num_classes=100)"
   ]
  },
  {
   "cell_type": "code",
   "execution_count": null,
   "id": "4899d662",
   "metadata": {},
   "outputs": [],
   "source": [
    "def lr_schedule(epoch, lr):\n",
    "    if not epoch % 25 and epoch:\n",
    "        lr *= 0.2\n",
    "    return lr\n",
    "\n",
    "class TimeCallback(keras.callbacks.Callback):\n",
    "    def on_train_begin(self, logs=None):\n",
    "        self.history = []\n",
    "    def on_epoch_begin(self, epoch, logs=None):\n",
    "        self.time_epoch_begin = time.perf_counter()\n",
    "    def on_epoch_end(self, epoch, logs=None):\n",
    "        self.history.append(time.perf_counter() - self.time_epoch_begin)\n",
    "\n",
    "lr_scheduler_callback = keras.callbacks.LearningRateScheduler(lr_schedule)\n",
    "time_callback = TimeCallback()"
   ]
  },
  {
   "cell_type": "code",
   "execution_count": null,
   "id": "6e1645b5",
   "metadata": {},
   "outputs": [],
   "source": [
    "model.compile(\n",
    "    optimizer=keras.mixed_precision.LossScaleOptimizer(keras.optimizers.SGD(\n",
    "        learning_rate=learning_rate,\n",
    "        momentum=momentum,\n",
    "        weight_decay=weight_decay\n",
    "    )) if MIXED_PRECISION_FLAG\n",
    "    else keras.optimizers.SGD(\n",
    "        learning_rate=learning_rate,\n",
    "        momentum=momentum,\n",
    "        weight_decay=weight_decay\n",
    "    ),\n",
    "    loss=keras.losses.SparseCategoricalCrossentropy(),\n",
    "    metrics=['accuracy'],\n",
    "    jit_compile=JIT_COMPILE_FLAG\n",
    ")"
   ]
  },
  {
   "cell_type": "code",
   "execution_count": null,
   "id": "d1fec268",
   "metadata": {},
   "outputs": [],
   "source": [
    "logs = model.fit(\n",
    "    dataloader['train'],\n",
    "    epochs=epochs,\n",
    "    callbacks=[lr_scheduler_callback, time_callback],\n",
    "    validation_data=dataloader['test']\n",
    ")\n",
    "logs.history['t'] = time_callback.history"
   ]
  },
  {
   "cell_type": "code",
   "execution_count": null,
   "id": "2e01763b",
   "metadata": {},
   "outputs": [],
   "source": [
    "print('----')\n",
    "print(f'BATCH_SIZE: {batch_size}')\n",
    "print(f'MIXED_PRECISION: {MIXED_PRECISION_FLAG}')\n",
    "print(f'JIT_COMPILE: {JIT_COMPILE_FLAG}')\n",
    "print(f'time: {logs.history[\"t\"]}')\n",
    "print(f'learning_rate: {logs.history[\"lr\"]}')\n",
    "print(f'loss: {logs.history[\"loss\"]}')\n",
    "print(f'acc: {logs.history[\"accuracy\"]}')\n",
    "print(f'val_loss: {logs.history[\"val_loss\"]}')\n",
    "print(f'val_acc: {logs.history[\"val_loss\"]}')\n",
    "print('----')"
   ]
  },
  {
   "cell_type": "code",
   "execution_count": null,
   "id": "3770c631",
   "metadata": {},
   "outputs": [],
   "source": []
  }
 ],
 "metadata": {
  "kernelspec": {
   "display_name": "Python 3 (ipykernel)",
   "language": "python",
   "name": "python3"
  },
  "language_info": {
   "codemirror_mode": {
    "name": "ipython",
    "version": 3
   },
   "file_extension": ".py",
   "mimetype": "text/x-python",
   "name": "python",
   "nbconvert_exporter": "python",
   "pygments_lexer": "ipython3",
   "version": "3.10.9"
  }
 },
 "nbformat": 4,
 "nbformat_minor": 5
}
