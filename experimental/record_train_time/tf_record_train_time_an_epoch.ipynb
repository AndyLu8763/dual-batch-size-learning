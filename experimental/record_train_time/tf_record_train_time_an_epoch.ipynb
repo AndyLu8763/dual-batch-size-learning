{
 "cells": [
  {
   "cell_type": "code",
   "execution_count": null,
   "metadata": {},
   "outputs": [],
   "source": [
    "import time\n",
    "\n",
    "import torch\n",
    "import numpy as np\n",
    "import tensorflow as tf\n",
    "import tensorflow.keras as keras\n",
    "from tensorflow.keras import layers"
   ]
  },
  {
   "cell_type": "code",
   "execution_count": null,
   "metadata": {},
   "outputs": [],
   "source": [
    "physical_devices = tf.config.list_physical_devices('GPU')\n",
    "tf.config.set_visible_devices(physical_devices[0], 'GPU')\n",
    "tf.config.experimental.set_memory_growth(physical_devices[0], True)"
   ]
  },
  {
   "cell_type": "code",
   "execution_count": null,
   "metadata": {},
   "outputs": [],
   "source": [
    "def load_cifar10():\n",
    "    def data_preprocessing(x, y):\n",
    "        mean = tf.constant([125.3, 123.0, 113.9]) / 255\n",
    "        std = tf.constant([63.0, 62.1, 66.7]) / 255\n",
    "        pre = keras.Sequential([\n",
    "            layers.Rescaling(1/255),\n",
    "            layers.Normalization(mean=mean, variance=tf.math.square(std))\n",
    "        ])\n",
    "        return pre(x), keras.utils.to_categorical(y)\n",
    "    \n",
    "    (x_train, y_train), (x_test, y_test) = keras.datasets.cifar10.load_data()\n",
    "    x_train, y_train = data_preprocessing(x_train, y_train)\n",
    "    x_test, y_test = data_preprocessing(x_test, y_test)\n",
    "    return (x_train, y_train), (x_test, y_test)\n",
    "\n",
    "def load_cifar100():\n",
    "    def data_preprocessing(x, y):\n",
    "        mean = tf.constant([129.3, 124.1, 112.4]) / 255\n",
    "        std = tf.constant([68.2, 65.4, 70.4]) / 255\n",
    "        pre = keras.Sequential([\n",
    "            layers.Rescaling(1/255),\n",
    "            layers.Normalization(mean=mean, variance=tf.math.square(std))\n",
    "        ])\n",
    "        return pre(x), keras.utils.to_categorical(y)\n",
    "    \n",
    "    (x_train, y_train), (x_test, y_test) = keras.datasets.cifar100.load_data()\n",
    "    x_train, y_train = data_preprocessing(x_train, y_train)\n",
    "    x_test, y_test = data_preprocessing(x_test, y_test)\n",
    "    return (x_train, y_train), (x_test, y_test)\n",
    "\n",
    "def make_resnet18(inputs: keras.Input = keras.Input(shape=(32, 32, 3)),\n",
    "                  num_classes: int = 100\n",
    "                 ) -> keras.Model:\n",
    "    def basicblock(inputs: keras.Input, filters: int, bottleneck: bool):\n",
    "        if bottleneck:\n",
    "            identity = layers.Conv2D(filters, 1, strides=2, padding='valid',\n",
    "                                     kernel_initializer='he_normal'\n",
    "                                    )(inputs)\n",
    "            identity = layers.BatchNormalization()(identity)\n",
    "            x = layers.Conv2D(filters, 3, strides=2, padding='same',\n",
    "                              kernel_initializer='he_normal'\n",
    "                             )(inputs)\n",
    "        else:\n",
    "            identity = inputs\n",
    "            x = layers.Conv2D(filters, 3, strides=1, padding='same',\n",
    "                              kernel_initializer='he_normal',\n",
    "                             )(inputs)\n",
    "        x = layers.BatchNormalization()(x)\n",
    "        x = layers.Activation('relu')(x)\n",
    "        x = layers.Conv2D(filters, 3, strides=1, padding='same',\n",
    "                          kernel_initializer='he_normal',\n",
    "                         )(x)\n",
    "        x = layers.BatchNormalization()(x)\n",
    "        x = layers.Add()([x, identity])\n",
    "        x = layers.Activation('relu')(x)\n",
    "        return x\n",
    "    \n",
    "    x = layers.Conv2D(64, 3, strides=1, padding='same',\n",
    "                      kernel_initializer='he_normal',\n",
    "                     )(inputs)\n",
    "    x = layers.BatchNormalization()(x)\n",
    "    x = layers.Activation('relu')(x)\n",
    "    x = basicblock(x, 64, False)\n",
    "    x = basicblock(x, 64, False)\n",
    "    x = basicblock(x, 128, True)\n",
    "    x = basicblock(x, 128, False)\n",
    "    x = basicblock(x, 256, True)\n",
    "    x = basicblock(x, 256, False)\n",
    "    x = basicblock(x, 512, True)\n",
    "    x = basicblock(x, 512, False)\n",
    "    x = layers.GlobalAveragePooling2D()(x)\n",
    "    outputs = layers.Dense(num_classes, activation='softmax')(x)\n",
    "    return keras.Model(inputs=inputs, outputs=outputs)"
   ]
  },
  {
   "cell_type": "code",
   "execution_count": null,
   "metadata": {},
   "outputs": [],
   "source": [
    "model = make_resnet18()\n",
    "(x_train, y_train), (x_test, y_test) = load_cifar100()"
   ]
  },
  {
   "cell_type": "code",
   "execution_count": null,
   "metadata": {},
   "outputs": [],
   "source": [
    "model.compile(\n",
    "    optimizer=keras.optimizers.SGD(learning_rate=1e-1, momentum=0.9),\n",
    "    loss=keras.losses.CategoricalCrossentropy(),\n",
    "    metrics=['accuracy']\n",
    ")"
   ]
  },
  {
   "cell_type": "code",
   "execution_count": null,
   "metadata": {},
   "outputs": [],
   "source": [
    "datagen = keras.preprocessing.image.ImageDataGenerator(\n",
    "    width_shift_range=0.1,\n",
    "    height_shift_range=0.1,\n",
    "    horizontal_flip=True\n",
    ")"
   ]
  },
  {
   "cell_type": "code",
   "execution_count": null,
   "metadata": {},
   "outputs": [],
   "source": [
    "workers = 2\n",
    "epochs = 1"
   ]
  },
  {
   "cell_type": "code",
   "execution_count": null,
   "metadata": {},
   "outputs": [],
   "source": [
    "start_batch = 1\n",
    "stop_batch = 1000 + 1\n",
    "step = 1\n",
    "record_train_time = np.zeros((stop_batch - start_batch) // step + 1)"
   ]
  },
  {
   "cell_type": "code",
   "execution_count": null,
   "metadata": {},
   "outputs": [],
   "source": [
    "counter = 0\n",
    "for batch_size in range(start_batch, stop_batch, step):\n",
    "    print(f'Batch Size = {batch_size}')\n",
    "    # warming\n",
    "    model.fit(\n",
    "        datagen.flow(x_train[:batch_size], y_train[:batch_size], batch_size=batch_size),\n",
    "        epochs=epochs,\n",
    "        workers=workers\n",
    "    )\n",
    "    # start\n",
    "    record_train_time[counter] = time.time()\n",
    "    # main\n",
    "    model.fit(\n",
    "        datagen.flow(x_train, y_train, batch_size=batch_size),\n",
    "        epochs=epochs,\n",
    "        workers=workers\n",
    "    )\n",
    "    # end\n",
    "    record_train_time[counter] = time.time() - record_train_time[counter]\n",
    "    counter += 1"
   ]
  },
  {
   "cell_type": "code",
   "execution_count": null,
   "metadata": {},
   "outputs": [],
   "source": [
    "np.save(f'tf_train_time_{start_batch}_{stop_batch}_{step}.npy', record_train_time)"
   ]
  },
  {
   "cell_type": "code",
   "execution_count": null,
   "metadata": {},
   "outputs": [],
   "source": []
  }
 ],
 "metadata": {
  "kernelspec": {
   "display_name": "Python 3.10.8 ('dbsl': conda)",
   "language": "python",
   "name": "python3"
  },
  "language_info": {
   "codemirror_mode": {
    "name": "ipython",
    "version": 3
   },
   "file_extension": ".py",
   "mimetype": "text/x-python",
   "name": "python",
   "nbconvert_exporter": "python",
   "pygments_lexer": "ipython3",
   "version": "3.10.8"
  },
  "vscode": {
   "interpreter": {
    "hash": "a9256eb731680a56ea8f16c23df37304b115d0b63eb18635c7a8ec56bed68df5"
   }
  }
 },
 "nbformat": 4,
 "nbformat_minor": 2
}
