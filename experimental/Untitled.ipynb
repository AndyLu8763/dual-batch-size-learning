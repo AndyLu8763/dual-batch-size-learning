{
 "cells": [
  {
   "cell_type": "code",
   "execution_count": null,
   "id": "55ebefad",
   "metadata": {},
   "outputs": [],
   "source": [
    "import matplotlib.pyplot as plt\n",
    "import numpy as np"
   ]
  },
  {
   "cell_type": "code",
   "execution_count": null,
   "id": "d39cd796",
   "metadata": {},
   "outputs": [],
   "source": [
    "load_path = './npy'\n",
    "save_path = './figure'"
   ]
  },
  {
   "cell_type": "code",
   "execution_count": null,
   "id": "f41f6c9e",
   "metadata": {},
   "outputs": [],
   "source": [
    "SAVEFIG = False\n",
    "DPI = 300 if SAVEFIG else 72 # [72, 150, 240, 300]"
   ]
  },
  {
   "cell_type": "markdown",
   "id": "fc849410",
   "metadata": {},
   "source": [
    "## Load Data from `/dev/shm` or `/dev/sda`"
   ]
  },
  {
   "cell_type": "code",
   "execution_count": null,
   "id": "bfcbcca6",
   "metadata": {},
   "outputs": [],
   "source": [
    "dict_plot = {\n",
    "    '/dev/sda': np.load(\n",
    "        './npy/imagenet/bs1x_mp_xla/imagenet_resnet18_cycle_90.npy',\n",
    "        allow_pickle=True\n",
    "    ).item(),\n",
    "    '/dev/shm': np.load(\n",
    "        './npy/imagenet/bs1x_mp_xla/imagenet_resnet18_cycle_90_shm.npy',\n",
    "        allow_pickle=True\n",
    "    ).item(),\n",
    "}"
   ]
  },
  {
   "cell_type": "code",
   "execution_count": null,
   "id": "9e063526",
   "metadata": {},
   "outputs": [],
   "source": [
    "ylabel = 't'\n",
    "save_title = ''\n",
    "\n",
    "plt.figure(dpi=DPI)\n",
    "for key, value in dict_plot.items():\n",
    "    plt.plot(\n",
    "        np.arange(1, len(value[ylabel]) + 1),\n",
    "        value[ylabel],\n",
    "        label=key\n",
    "    )\n",
    "plt.xlabel('epoch')\n",
    "plt.ylabel(ylabel)\n",
    "plt.title('Training Time per Epoch')\n",
    "plt.legend()\n",
    "plt.savefig(f'{save_path}/figure_{save_title}.png', transparent=True) if SAVEFIG else plt.show()\n",
    "\n",
    "plt.figure(dpi=DPI)\n",
    "for key, value in dict_plot.items():\n",
    "    plt.plot(\n",
    "        np.arange(1, len(value[ylabel]) + 1),\n",
    "        np.cumsum(value[ylabel]),\n",
    "        label=key\n",
    "    )\n",
    "plt.xlabel('epoch')\n",
    "plt.ylabel(ylabel)\n",
    "plt.title('Cumulative Training Time for Epochs')\n",
    "plt.legend()\n",
    "plt.savefig(f'{save_path}/figure_{save_title}.png', transparent=True) if SAVEFIG else plt.show()"
   ]
  },
  {
   "cell_type": "markdown",
   "id": "b1c03e66",
   "metadata": {},
   "source": [
    "## Main"
   ]
  },
  {
   "cell_type": "code",
   "execution_count": null,
   "id": "ebd370ae",
   "metadata": {},
   "outputs": [],
   "source": [
    "dict_plot = {\n",
    "    'bs1x': {\n",
    "        'iter': np.load(\n",
    "            './npy/imagenet/bs1x_mp_xla/imagenet_resnet18_iter_90.npy',\n",
    "            allow_pickle=True\n",
    "        ).item(),\n",
    "        'cycle': np.load(\n",
    "            './npy/imagenet/bs1x_mp_xla/imagenet_resnet18_cycle_90.npy',\n",
    "            allow_pickle=True\n",
    "        ).item(),\n",
    "    },\n",
    "    'bs2x': {\n",
    "        'iter': np.load(\n",
    "            './npy/imagenet/bs2x_mp_xla/imagenet_resnet18_iter_90.npy',\n",
    "            allow_pickle=True\n",
    "        ).item(),\n",
    "        'cycle': np.load(\n",
    "            './npy/imagenet/bs2x_mp_xla/imagenet_resnet18_cycle_90.npy',\n",
    "            allow_pickle=True\n",
    "        ).item(),\n",
    "    },\n",
    "    'bs4x': {\n",
    "        'iter': np.load(\n",
    "            './npy/imagenet/bs4x_mp/imagenet_resnet18_iter_90.npy',\n",
    "            allow_pickle=True\n",
    "        ).item(),\n",
    "        'cycle': np.load(\n",
    "            './npy/imagenet/bs4x_mp/imagenet_resnet18_cycle_90.npy',\n",
    "            allow_pickle=True\n",
    "        ).item(),\n",
    "    },\n",
    "}"
   ]
  },
  {
   "cell_type": "code",
   "execution_count": null,
   "id": "0ca8e011",
   "metadata": {},
   "outputs": [],
   "source": [
    "### Cycle or Iter for the Image Resoultion during Training\n",
    "\n",
    "ls_ylabel = ['val_loss', 'val_accuracy']\n",
    "save_title = ''\n",
    "\n",
    "for ylabel in ls_ylabel:\n",
    "    plt.figure(dpi=DPI)\n",
    "    for key1, value1 in dict_plot.items():\n",
    "        for key2, value2 in value1.items():\n",
    "            plt.plot(\n",
    "                np.arange(1, len(value2[ylabel]) + 1),\n",
    "                value2[ylabel],\n",
    "                label=(key1, key2)\n",
    "            )\n",
    "    plt.xlabel('epoch')\n",
    "    plt.ylabel(ylabel)\n",
    "    plt.legend()\n",
    "    plt.savefig(f'{save_path}/figure_{ylabel}.png', transparent=True) if SAVEFIG else plt.show()"
   ]
  },
  {
   "cell_type": "code",
   "execution_count": null,
   "id": "b3ed6c4f",
   "metadata": {},
   "outputs": [],
   "source": [
    "### Training Time\n",
    "ylabel = 't'\n",
    "\n",
    "plt.figure(dpi=DPI)\n",
    "for key1, value1 in dict_plot.items():\n",
    "    if key1 == 'bs4x':\n",
    "        continue\n",
    "    for key2, value2 in value1.items():\n",
    "        plt.plot(\n",
    "            np.arange(1, len(value2[ylabel]) + 1),\n",
    "            value2[ylabel],\n",
    "            label=(key1, key2)\n",
    "        )\n",
    "plt.xlabel('epoch')\n",
    "plt.ylabel(ylabel)\n",
    "plt.title('Training Time per Epoch')\n",
    "plt.legend()\n",
    "plt.savefig(f'{save_path}/figure_{ylabel}.png', transparent=True) if SAVEFIG else plt.show()\n",
    "\n",
    "plt.figure(dpi=DPI)\n",
    "for key1, value1 in dict_plot.items():\n",
    "    if key1 == 'bs4x':\n",
    "        continue\n",
    "    for key2, value2 in value1.items():\n",
    "        plt.plot(\n",
    "            np.arange(1, len(value2[ylabel]) + 1),\n",
    "            np.cumsum(value2[ylabel]),\n",
    "            label=(key1, key2)\n",
    "        )\n",
    "plt.xlabel('epoch')\n",
    "plt.ylabel(ylabel)\n",
    "plt.title('Cumulative Training Time for Epochs')\n",
    "plt.legend()\n",
    "plt.savefig(f'{save_path}/figure_{ylabel}.png', transparent=True) if SAVEFIG else plt.show()"
   ]
  },
  {
   "cell_type": "code",
   "execution_count": null,
   "id": "87418ee6",
   "metadata": {},
   "outputs": [],
   "source": []
  }
 ],
 "metadata": {
  "kernelspec": {
   "display_name": "Python 3 (ipykernel)",
   "language": "python",
   "name": "python3"
  },
  "language_info": {
   "codemirror_mode": {
    "name": "ipython",
    "version": 3
   },
   "file_extension": ".py",
   "mimetype": "text/x-python",
   "name": "python",
   "nbconvert_exporter": "python",
   "pygments_lexer": "ipython3",
   "version": "3.9.18"
  }
 },
 "nbformat": 4,
 "nbformat_minor": 5
}
