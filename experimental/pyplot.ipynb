{
 "cells": [
  {
   "cell_type": "code",
   "execution_count": null,
   "id": "31bc5abe",
   "metadata": {},
   "outputs": [],
   "source": [
    "import matplotlib.pyplot as plt\n",
    "import numpy as np"
   ]
  },
  {
   "cell_type": "code",
   "execution_count": null,
   "id": "43abde36",
   "metadata": {},
   "outputs": [],
   "source": [
    "load_path = './npy'\n",
    "save_path = './figure'"
   ]
  },
  {
   "cell_type": "code",
   "execution_count": null,
   "id": "e9fcd61d",
   "metadata": {},
   "outputs": [],
   "source": [
    "iterRES_sameBS = np.load(\n",
    "    f'{load_path}/cifar100_resnet18_iterRES_sameBS.npy', allow_pickle=True\n",
    ").item()\n",
    "cycleRES_sameBS = np.load(\n",
    "    f'{load_path}/cifar100_resnet18_cycleRES_sameBS.npy', allow_pickle=True\n",
    ").item()\n",
    "iterRES_diffBS = np.load(\n",
    "    f'{load_path}/cifar100_resnet18_iterRES_diffBS.npy', allow_pickle=True\n",
    ").item()\n",
    "cycleRES_diffBS = np.load(\n",
    "    f'{load_path}/cifar100_resnet18_cycleRES_diffBS.npy', allow_pickle=True\n",
    ").item()\n",
    "\n",
    "ls_data = [iterRES_sameBS, cycleRES_sameBS, iterRES_diffBS, cycleRES_diffBS]\n",
    "ls_label = ['iterRES_sameBS', 'cycleRES_sameBS', 'iterRES_diffBS', 'cycleRES_diffBS']\n",
    "ls_ylabel = ['val_loss', 'val_accuracy']"
   ]
  },
  {
   "cell_type": "code",
   "execution_count": null,
   "id": "fe7a7ae1",
   "metadata": {},
   "outputs": [],
   "source": [
    "SAVEFIG = False\n",
    "DPI = 300 if SAVEFIG else 72 # [72, 150, 240, 300]"
   ]
  },
  {
   "cell_type": "code",
   "execution_count": null,
   "id": "5032ee3c",
   "metadata": {},
   "outputs": [],
   "source": [
    "for ylabel in ls_ylabel:\n",
    "    plt.figure(dpi=DPI)\n",
    "    for data, label in zip(ls_data, ls_label):\n",
    "        plt.plot(\n",
    "            np.arange(1, len(data[ylabel]) + 1),\n",
    "            data[ylabel],\n",
    "            #'--.',\n",
    "            label=label,\n",
    "            #linewidth=1,\n",
    "            #markersize=4\n",
    "        )\n",
    "    plt.xlabel('epoch')\n",
    "    plt.ylabel(ylabel)\n",
    "    plt.legend()\n",
    "    plt.savefig(f'{save_path}/figure_{ylabel}.png', transparent=True) if SAVEFIG else plt.show()"
   ]
  },
  {
   "cell_type": "code",
   "execution_count": null,
   "id": "381b53d3",
   "metadata": {},
   "outputs": [],
   "source": [
    "plt.figure(dpi=DPI)\n",
    "ylabel = 't'\n",
    "for data, label in zip(ls_data, ls_label):\n",
    "    plt.plot(\n",
    "        np.arange(1, len(data[ylabel]) + 1),\n",
    "        np.cumsum(data[ylabel]), #list(itertools.accumulate(data[ylabel_to_plot])),\n",
    "        #'--.',\n",
    "        label=label,\n",
    "        #linewidth=1,\n",
    "        #markersize=4\n",
    "    )\n",
    "plt.xlabel('epoch')\n",
    "plt.ylabel(ylabel)\n",
    "plt.legend()\n",
    "plt.savefig(f'{save_path}/figure_{ylabel}.png', transparent=True) if SAVEFIG else plt.show()"
   ]
  },
  {
   "cell_type": "code",
   "execution_count": null,
   "id": "d5524d10",
   "metadata": {},
   "outputs": [],
   "source": []
  }
 ],
 "metadata": {
  "kernelspec": {
   "display_name": "Python 3 (ipykernel)",
   "language": "python",
   "name": "python3"
  },
  "language_info": {
   "codemirror_mode": {
    "name": "ipython",
    "version": 3
   },
   "file_extension": ".py",
   "mimetype": "text/x-python",
   "name": "python",
   "nbconvert_exporter": "python",
   "pygments_lexer": "ipython3",
   "version": "3.9.18"
  }
 },
 "nbformat": 4,
 "nbformat_minor": 5
}
