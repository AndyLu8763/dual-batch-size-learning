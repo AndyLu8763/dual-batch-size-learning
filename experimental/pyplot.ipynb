{
 "cells": [
  {
   "cell_type": "code",
   "execution_count": null,
   "id": "31bc5abe",
   "metadata": {},
   "outputs": [],
   "source": [
    "import matplotlib.pyplot as plt\n",
    "import numpy as np"
   ]
  },
  {
   "cell_type": "code",
   "execution_count": null,
   "id": "e9fcd61d",
   "metadata": {},
   "outputs": [],
   "source": [
    "a80 = np.load('a80.npy', allow_pickle=True).tolist()"
   ]
  },
  {
   "cell_type": "code",
   "execution_count": null,
   "id": "93c30b52",
   "metadata": {},
   "outputs": [],
   "source": [
    "print(a80['loss'][-1])\n",
    "print(a80['accuracy'][-1])\n",
    "print(a80['val_loss'][-1])\n",
    "print(a80['val_accuracy'][-1])\n",
    "print(a80['lr'][-1])\n",
    "print(a80['t'][-1])"
   ]
  },
  {
   "cell_type": "code",
   "execution_count": null,
   "id": "0b6d47f5",
   "metadata": {},
   "outputs": [],
   "source": [
    "DPI = 100\n",
    "\n",
    "plt.figure(dpi=DPI)\n",
    "plt.plot(\n",
    "    np.arange(1, len(a80['loss']) + 1),\n",
    "    a80['accuracy'],\n",
    "    '--',\n",
    "    label='80 epoch, lr=0.8, train_acc',\n",
    "    #linewidth=1,\n",
    "    #markersize=5,\n",
    ")\n",
    "plt.plot(\n",
    "    np.arange(1, len(a80['loss']) + 1),\n",
    "    a80['val_accuracy'],\n",
    "    '-',\n",
    "    label='80 epoch, lr=0.8, val_acc',\n",
    "    #linewidth=1,\n",
    "    #markersize=5,\n",
    ")\n",
    "plt.xlabel('Epoch')\n",
    "plt.ylabel('Accuracy')\n",
    "plt.legend()\n",
    "plt.show()"
   ]
  },
  {
   "cell_type": "code",
   "execution_count": null,
   "id": "1187b4da",
   "metadata": {},
   "outputs": [],
   "source": []
  }
 ],
 "metadata": {
  "kernelspec": {
   "display_name": "Python 3 (ipykernel)",
   "language": "python",
   "name": "python3"
  },
  "language_info": {
   "codemirror_mode": {
    "name": "ipython",
    "version": 3
   },
   "file_extension": ".py",
   "mimetype": "text/x-python",
   "name": "python",
   "nbconvert_exporter": "python",
   "pygments_lexer": "ipython3",
   "version": "3.9.18"
  }
 },
 "nbformat": 4,
 "nbformat_minor": 5
}
