{
 "cells": [
  {
   "cell_type": "code",
   "execution_count": null,
   "id": "31bc5abe",
   "metadata": {},
   "outputs": [],
   "source": [
    "import matplotlib.pyplot as plt\n",
    "import numpy as np"
   ]
  },
  {
   "cell_type": "code",
   "execution_count": null,
   "id": "43abde36",
   "metadata": {},
   "outputs": [],
   "source": [
    "load_path = './npy'\n",
    "save_path = './figure'\n",
    "dataset = 'imagenet' # 'cifar100' or 'imagenet'"
   ]
  },
  {
   "cell_type": "code",
   "execution_count": null,
   "id": "2b2ddd75",
   "metadata": {},
   "outputs": [],
   "source": [
    "ls_data = []\n",
    "\n",
    "if dataset == 'cifar100':\n",
    "    ls_label = ['iterRES_sameBS', 'cycleRES_sameBS', 'iterRES_diffBS', 'cycleRES_diffBS']\n",
    "    for label in ls_label:\n",
    "        ls_data.append(\n",
    "            np.load(f'{load_path}/cifar100_resnet18_{label}_90.npy', allow_pickle=True).item()\n",
    "        )\n",
    "elif dataset == 'imagenet':\n",
    "    ls_label = ['iter', 'cycle']\n",
    "    for label in ls_label:\n",
    "        ls_data.append(\n",
    "            np.load(f'{load_path}/imagenet_resnet18_{label}_90.npy', allow_pickle=True).item()\n",
    "        )\n",
    "\n",
    "ls_ylabel = ['val_loss', 'val_accuracy']\n",
    "ls_ylabel2 = ['batch_size', 'resolution', 'dropout_rate', 'lr']"
   ]
  },
  {
   "cell_type": "code",
   "execution_count": null,
   "id": "fe7a7ae1",
   "metadata": {},
   "outputs": [],
   "source": [
    "SAVEFIG = False\n",
    "DPI = 300 if SAVEFIG else 72 # [72, 150, 240, 300]"
   ]
  },
  {
   "cell_type": "code",
   "execution_count": null,
   "id": "5032ee3c",
   "metadata": {},
   "outputs": [],
   "source": [
    "for ylabel in ls_ylabel:\n",
    "    plt.figure(dpi=DPI)\n",
    "    for data, label in zip(ls_data, ls_label):\n",
    "        plt.plot(\n",
    "            np.arange(1, len(data[ylabel]) + 1),\n",
    "            data[ylabel],\n",
    "            #'--.',\n",
    "            label=label,\n",
    "            #linewidth=1,\n",
    "            #markersize=4\n",
    "        )\n",
    "    plt.xlabel('epoch')\n",
    "    plt.ylabel(ylabel)\n",
    "    plt.legend()\n",
    "    plt.savefig(f'{save_path}/figure_{ylabel}.png', transparent=True) if SAVEFIG else plt.show()"
   ]
  },
  {
   "cell_type": "code",
   "execution_count": null,
   "id": "45351311",
   "metadata": {},
   "outputs": [],
   "source": [
    "for ylabel in ls_ylabel2:\n",
    "    plt.figure(dpi=DPI)\n",
    "    for data, label in zip(ls_data, ls_label):\n",
    "        plt.plot(\n",
    "            np.arange(1, len(data[ylabel]) + 1),\n",
    "            data[ylabel],\n",
    "            #'--.',\n",
    "            label=label,\n",
    "            #linewidth=1,\n",
    "            #markersize=4\n",
    "        )\n",
    "    plt.xlabel('epoch')\n",
    "    plt.ylabel(ylabel)\n",
    "    plt.legend()\n",
    "    plt.savefig(f'{save_path}/figure_{ylabel}.png', transparent=True) if SAVEFIG else plt.show()"
   ]
  },
  {
   "cell_type": "code",
   "execution_count": null,
   "id": "381b53d3",
   "metadata": {},
   "outputs": [],
   "source": [
    "# time\n",
    "\n",
    "## each epoch\n",
    "plt.figure(dpi=DPI)\n",
    "ylabel = 't'\n",
    "for data, label in zip(ls_data, ls_label):\n",
    "    plt.plot(\n",
    "        np.arange(1, len(data[ylabel]) + 1),\n",
    "        data[ylabel], #list(itertools.accumulate(data[ylabel_to_plot])),\n",
    "        #'--.',\n",
    "        label=label,\n",
    "        #linewidth=1,\n",
    "        #markersize=4\n",
    "    )\n",
    "plt.xlabel('epoch')\n",
    "plt.ylabel(ylabel)\n",
    "plt.legend()\n",
    "plt.savefig(f'{save_path}/figure_{ylabel}.png', transparent=True) if SAVEFIG else plt.show()\n",
    "\n",
    "## accumulation\n",
    "plt.figure(dpi=DPI)\n",
    "ylabel = 't'\n",
    "for data, label in zip(ls_data, ls_label):\n",
    "    plt.plot(\n",
    "        np.arange(1, len(data[ylabel]) + 1),\n",
    "        np.cumsum(data[ylabel]), #list(itertools.accumulate(data[ylabel_to_plot])),\n",
    "        #'--.',\n",
    "        label=label,\n",
    "        #linewidth=1,\n",
    "        #markersize=4\n",
    "    )\n",
    "plt.xlabel('epoch')\n",
    "plt.ylabel(ylabel)\n",
    "plt.legend()\n",
    "plt.savefig(f'{save_path}/figure_{ylabel}.png', transparent=True) if SAVEFIG else plt.show()"
   ]
  },
  {
   "cell_type": "code",
   "execution_count": null,
   "id": "6906625b",
   "metadata": {},
   "outputs": [],
   "source": []
  }
 ],
 "metadata": {
  "kernelspec": {
   "display_name": "Python 3 (ipykernel)",
   "language": "python",
   "name": "python3"
  },
  "language_info": {
   "codemirror_mode": {
    "name": "ipython",
    "version": 3
   },
   "file_extension": ".py",
   "mimetype": "text/x-python",
   "name": "python",
   "nbconvert_exporter": "python",
   "pygments_lexer": "ipython3",
   "version": "3.9.18"
  }
 },
 "nbformat": 4,
 "nbformat_minor": 5
}
