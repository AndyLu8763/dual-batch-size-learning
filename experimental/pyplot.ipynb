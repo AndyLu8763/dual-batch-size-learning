{
 "cells": [
  {
   "cell_type": "code",
   "execution_count": null,
   "id": "17b03c4c",
   "metadata": {},
   "outputs": [],
   "source": [
    "import matplotlib.pyplot as plt\n",
    "import numpy as np"
   ]
  },
  {
   "cell_type": "code",
   "execution_count": null,
   "id": "17cb74d3",
   "metadata": {},
   "outputs": [],
   "source": [
    "load_path = './npy'\n",
    "save_path = './figure'"
   ]
  },
  {
   "cell_type": "code",
   "execution_count": null,
   "id": "35e1260f",
   "metadata": {},
   "outputs": [],
   "source": [
    "SAVEFIG = False\n",
    "DPI = 300 if SAVEFIG else 72 # [72, 150, 240, 300]"
   ]
  },
  {
   "cell_type": "code",
   "execution_count": null,
   "id": "08f98b9b",
   "metadata": {},
   "outputs": [],
   "source": [
    "dict_plot = {\n",
    "    'bs1x': {\n",
    "        'amp_xla': np.load(\n",
    "            './npy/imagenet/bs1x/imagenet_resnet18_90_amp_xla.npy',\n",
    "            allow_pickle=True\n",
    "        ).item(),\n",
    "        'cycle_amp_xla': np.load(\n",
    "            './npy/imagenet/bs1x/imagenet_resnet18_90_cycle_amp_xla.npy',\n",
    "            allow_pickle=True\n",
    "        ).item(),\n",
    "        'amp_xla_shm': np.load(\n",
    "            './npy/imagenet/bs1x/imagenet_resnet18_90_amp_xla_shm.npy',\n",
    "            allow_pickle=True\n",
    "        ).item(),\n",
    "        'cycle_amp_xla_shm': np.load(\n",
    "            './npy/imagenet/bs1x/imagenet_resnet18_90_cycle_amp_xla_shm.npy',\n",
    "            allow_pickle=True\n",
    "        ).item(),\n",
    "        'cycle_amp': np.load(\n",
    "            './npy/imagenet/bs1x/imagenet_resnet18_90_cycle_amp.npy',\n",
    "            allow_pickle=True\n",
    "        ).item(),\n",
    "    },\n",
    "    'bs2x': {\n",
    "        'amp_xla': np.load(\n",
    "            './npy/imagenet/bs2x/imagenet_resnet18_90_amp_xla.npy',\n",
    "            allow_pickle=True\n",
    "        ).item(),\n",
    "        'cycle_amp_xla': np.load(\n",
    "            './npy/imagenet/bs2x/imagenet_resnet18_90_cycle_amp_xla.npy',\n",
    "            allow_pickle=True\n",
    "        ).item(),\n",
    "        'cycle_amp': np.load(\n",
    "            './npy/imagenet/bs2x/imagenet_resnet18_90_cycle_amp.npy',\n",
    "            allow_pickle=True\n",
    "        ).item(),\n",
    "    },\n",
    "    'bs4x': {\n",
    "        'amp': np.load(\n",
    "            './npy/imagenet/bs4x/imagenet_resnet18_90_amp.npy',\n",
    "            allow_pickle=True\n",
    "        ).item(),\n",
    "        'cycle_amp': np.load(\n",
    "            './npy/imagenet/bs4x/imagenet_resnet18_90_cycle_amp.npy',\n",
    "            allow_pickle=True\n",
    "        ).item(),\n",
    "    },\n",
    "}"
   ]
  },
  {
   "cell_type": "markdown",
   "id": "21fec121",
   "metadata": {},
   "source": [
    "### \"Iter\" or \"Cycle\" for Batch Size Training Schedule"
   ]
  },
  {
   "cell_type": "code",
   "execution_count": null,
   "id": "d0208338",
   "metadata": {},
   "outputs": [],
   "source": [
    "ls_ylabel = ['val_loss', 'val_accuracy', 't']\n",
    "\n",
    "for ylabel in ls_ylabel:\n",
    "    plt.figure(dpi=DPI)\n",
    "    for key1, value1 in dict_plot.items():\n",
    "        for key2, value2 in value1.items():\n",
    "            if 'xla' in key2 and 'shm' not in key2:\n",
    "                plt.plot(\n",
    "                    np.arange(1, len(value2[ylabel]) + 1),\n",
    "                    value2[ylabel],\n",
    "                    '-' if 'cycle' in key2 else '--',\n",
    "                    label=(key1, key2),\n",
    "                )\n",
    "    plt.xlabel('epoch')\n",
    "    plt.ylabel(ylabel)\n",
    "    plt.legend()\n",
    "    plt.savefig(f'{save_path}/figure_{ylabel}.png', transparent=True) if SAVEFIG else plt.show()\n",
    "\n",
    "ylabel='t'\n",
    "plt.figure(dpi=DPI)\n",
    "for key1, value1 in dict_plot.items():\n",
    "    for key2, value2 in value1.items():\n",
    "        if 'xla' in key2 and 'shm' not in key2:\n",
    "            plt.plot(\n",
    "                np.arange(1, len(value2[ylabel]) + 1),\n",
    "                np.cumsum(value2[ylabel]),\n",
    "                '-' if 'cycle' in key2 else '--',\n",
    "                label=(key1, key2),\n",
    "            )\n",
    "plt.xlabel('epoch')\n",
    "plt.ylabel(ylabel)\n",
    "plt.title('Cumulative Training Time')\n",
    "plt.legend()\n",
    "plt.savefig(f'{save_path}/figure_{ylabel}.png', transparent=True) if SAVEFIG else plt.show()"
   ]
  },
  {
   "cell_type": "markdown",
   "id": "b3714242",
   "metadata": {},
   "source": [
    "### Load Data from \"/dev/shm\" or \"/dev/sda\""
   ]
  },
  {
   "cell_type": "code",
   "execution_count": null,
   "id": "007533ee",
   "metadata": {},
   "outputs": [],
   "source": [
    "ylabel='t'\n",
    "\n",
    "plt.figure(dpi=DPI)\n",
    "for key1, value1 in dict_plot.items():\n",
    "    for key2, value2 in value1.items():\n",
    "        if 'xla' in key2 and key1 == 'bs1x':\n",
    "            plt.plot(\n",
    "                np.arange(1, len(value2[ylabel]) + 1),\n",
    "                value2[ylabel],\n",
    "                '--' if 'shm' in key2 else '-',\n",
    "                label=(key1, key2),\n",
    "            )\n",
    "plt.xlabel('epoch')\n",
    "plt.ylabel(ylabel)\n",
    "plt.legend()\n",
    "plt.savefig(f'{save_path}/figure_{ylabel}.png', transparent=True) if SAVEFIG else plt.show()\n",
    "\n",
    "plt.figure(dpi=DPI)\n",
    "for key1, value1 in dict_plot.items():\n",
    "    for key2, value2 in value1.items():\n",
    "        if 'xla' in key2 and key1 == 'bs1x':\n",
    "            plt.plot(\n",
    "                np.arange(1, len(value2[ylabel]) + 1),\n",
    "                np.cumsum(value2[ylabel]),\n",
    "                '--' if 'shm' in key2 else '-',\n",
    "                label=(key1, key2),\n",
    "            )\n",
    "plt.xlabel('epoch')\n",
    "plt.ylabel(ylabel)\n",
    "plt.title('Cumulative Training Time')\n",
    "plt.legend()\n",
    "plt.savefig(f'{save_path}/figure_{ylabel}.png', transparent=True) if SAVEFIG else plt.show()"
   ]
  },
  {
   "cell_type": "markdown",
   "id": "053c0866",
   "metadata": {},
   "source": [
    "### \"1x\", \"4x\", and \"8x\" for Training Batch Size Ratio"
   ]
  },
  {
   "cell_type": "code",
   "execution_count": null,
   "id": "4eded158",
   "metadata": {},
   "outputs": [],
   "source": [
    "ls_ylabel = ['val_loss', 'val_accuracy', 't']\n",
    "\n",
    "for ylabel in ls_ylabel:\n",
    "    plt.figure(dpi=DPI)\n",
    "    for key1, value1 in dict_plot.items():\n",
    "        for key2, value2 in value1.items():\n",
    "            if 'shm' not in key2:\n",
    "                plt.plot(\n",
    "                    np.arange(1, len(value2[ylabel]) + 1),\n",
    "                    value2[ylabel],\n",
    "                    '-' if 'cycle' in key2 else '--',\n",
    "                    label=(key1, key2),\n",
    "                )\n",
    "    plt.xlabel('epoch')\n",
    "    plt.ylabel(ylabel)\n",
    "    plt.legend()\n",
    "    plt.savefig(f'{save_path}/figure_{ylabel}.png', transparent=True) if SAVEFIG else plt.show()\n",
    "\n",
    "ylabel='t'\n",
    "plt.figure(dpi=DPI)\n",
    "for key1, value1 in dict_plot.items():\n",
    "    for key2, value2 in value1.items():\n",
    "        if 'shm' not in key2:\n",
    "            plt.plot(\n",
    "                np.arange(1, len(value2[ylabel]) + 1),\n",
    "                np.cumsum(value2[ylabel]),\n",
    "                '-' if 'cycle' in key2 else '--',\n",
    "                label=(key1, key2)\n",
    "            )\n",
    "plt.xlabel('epoch')\n",
    "plt.ylabel(ylabel)\n",
    "plt.title('Cumulative Training Time')\n",
    "plt.legend()\n",
    "plt.savefig(f'{save_path}/figure_{ylabel}.png', transparent=True) if SAVEFIG else plt.show()"
   ]
  },
  {
   "cell_type": "markdown",
   "id": "78ee9e80",
   "metadata": {},
   "source": [
    "### Print val_loss and val_accuracy of Training Results"
   ]
  },
  {
   "cell_type": "code",
   "execution_count": null,
   "id": "59191ee2",
   "metadata": {},
   "outputs": [],
   "source": [
    "for key1, value1 in dict_plot.items():\n",
    "    for key2, value2 in value1.items():\n",
    "        if 'shm' not in key2:\n",
    "            print(\n",
    "                f'({key1}, {key2})',\n",
    "                '\\t',\n",
    "                f'- val_loss: {value2[\"val_loss\"][-1]: .4f}',\n",
    "                f'- val_accuracy: {value2[\"val_accuracy\"][-1]: .4f}',\n",
    "            )"
   ]
  },
  {
   "cell_type": "code",
   "execution_count": null,
   "id": "b8714c5c",
   "metadata": {},
   "outputs": [],
   "source": []
  }
 ],
 "metadata": {
  "kernelspec": {
   "display_name": "Python 3 (ipykernel)",
   "language": "python",
   "name": "python3"
  },
  "language_info": {
   "codemirror_mode": {
    "name": "ipython",
    "version": 3
   },
   "file_extension": ".py",
   "mimetype": "text/x-python",
   "name": "python",
   "nbconvert_exporter": "python",
   "pygments_lexer": "ipython3",
   "version": "3.9.18"
  }
 },
 "nbformat": 4,
 "nbformat_minor": 5
}
