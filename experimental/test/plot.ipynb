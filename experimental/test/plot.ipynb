{
 "cells": [
  {
   "cell_type": "code",
   "execution_count": null,
   "id": "56f66731",
   "metadata": {},
   "outputs": [],
   "source": [
    "import matplotlib.pyplot as plt\n",
    "import numpy as np\n",
    "import scipy\n",
    "from sklearn.linear_model import LinearRegression"
   ]
  },
  {
   "cell_type": "code",
   "execution_count": null,
   "id": "118d7664",
   "metadata": {},
   "outputs": [],
   "source": [
    "machines = 5 - 1 # abandon gpu05 data\n",
    "DPI = 100\n",
    "batch_size = np.arange(1, 512 + 1)"
   ]
  },
  {
   "cell_type": "code",
   "execution_count": null,
   "id": "6dc99696",
   "metadata": {},
   "outputs": [],
   "source": [
    "time_epoch_8_origin = []\n",
    "time_epoch_16_origin = []\n",
    "time_epoch_32_origin = []\n",
    "time_epoch_16_RA = []\n",
    "time_epoch_32_RA = []\n",
    "\n",
    "n = 3\n",
    "for i in range(1, machines + 1):\n",
    "    time_epoch_8_origin.append(np.load(f'./save/save_n{n}_{i}/time_epoch_s8_b1_e513_g1_origin.npy'))\n",
    "    time_epoch_16_origin.append(np.load(f'./save/save_n{n}_{i}/time_epoch_s16_b1_e513_g1_origin.npy'))\n",
    "    time_epoch_32_origin.append(np.load(f'./save/save_n{n}_{i}/time_epoch_s32_b1_e513_g1_origin.npy'))\n",
    "    time_epoch_16_RA.append(np.load(f'./save/save_n{n}_{i}/time_epoch_s16_b1_e513_g1_RA.npy'))\n",
    "    time_epoch_32_RA.append(np.load(f'./save/save_n{n}_{i}/time_epoch_s32_b1_e513_g1_RA.npy'))"
   ]
  },
  {
   "cell_type": "code",
   "execution_count": null,
   "id": "ec36aaa0",
   "metadata": {},
   "outputs": [],
   "source": [
    "time_batch_8_origin = []\n",
    "time_batch_16_origin = []\n",
    "time_batch_32_origin = []\n",
    "time_batch_16_RA = []\n",
    "time_batch_32_RA = []\n",
    "\n",
    "for i in range(machines):\n",
    "    time_batch_8_origin.append(time_epoch_8_origin[i] / np.floor(50000 / batch_size))\n",
    "    time_batch_16_origin.append(time_epoch_16_origin[i] / np.floor(50000 / batch_size))\n",
    "    time_batch_32_origin.append(time_epoch_32_origin[i] / np.floor(50000 / batch_size))\n",
    "    time_batch_16_RA.append(time_epoch_16_RA[i] / np.floor(50000 / batch_size))\n",
    "    time_batch_32_RA.append(time_epoch_32_RA[i] / np.floor(50000 / batch_size))"
   ]
  },
  {
   "cell_type": "code",
   "execution_count": null,
   "id": "a3c871da",
   "metadata": {},
   "outputs": [],
   "source": [
    "avgtime_epoch_8_origin = np.mean(np.array(time_epoch_8_origin), axis=0)\n",
    "avgtime_epoch_16_origin = np.mean(np.array(time_epoch_16_origin), axis=0)\n",
    "avgtime_epoch_32_origin = np.mean(np.array(time_epoch_32_origin), axis=0)\n",
    "avgtime_epoch_16_RA = np.mean(np.array(time_epoch_16_RA), axis=0)\n",
    "avgtime_epoch_32_RA = np.mean(np.array(time_epoch_32_RA), axis=0)\n",
    "\n",
    "avgtime_batch_8_origin = np.mean(np.array(time_batch_8_origin), axis=0)\n",
    "avgtime_batch_16_origin = np.mean(np.array(time_batch_16_origin), axis=0)\n",
    "avgtime_batch_32_origin = np.mean(np.array(time_batch_32_origin), axis=0)\n",
    "avgtime_batch_16_RA = np.mean(np.array(time_batch_16_RA), axis=0)\n",
    "avgtime_batch_32_RA = np.mean(np.array(time_batch_32_RA), axis=0)"
   ]
  },
  {
   "cell_type": "code",
   "execution_count": null,
   "id": "b96f8f41",
   "metadata": {},
   "outputs": [],
   "source": [
    "plt.figure(dpi=DPI)\n",
    "for i in range(machines):\n",
    "    plt.plot(\n",
    "        batch_size,\n",
    "        time_epoch_32_origin[i],\n",
    "        label=f'gpu0{i+1}, RandomCrop',\n",
    "        linewidth=1,\n",
    "    )\n",
    "for i in range(machines):\n",
    "    plt.plot(\n",
    "        batch_size,\n",
    "        time_epoch_32_RA[i],\n",
    "        label=f'gpu0{i+1}, RandAugment',\n",
    "        linewidth=1,\n",
    "    )\n",
    "plt.xlabel('Batch Size')\n",
    "plt.ylabel('Time (sec)')\n",
    "plt.legend()\n",
    "plt.show()"
   ]
  },
  {
   "cell_type": "code",
   "execution_count": null,
   "id": "1aa8fe9e",
   "metadata": {},
   "outputs": [],
   "source": [
    "plt.figure(dpi=DPI)\n",
    "for i in range(machines):\n",
    "    plt.plot(\n",
    "        batch_size,\n",
    "        time_batch_16_origin[i],\n",
    "        label=f'gpu0{i+1}, RandomCrop',\n",
    "        linewidth=1,\n",
    "    )\n",
    "for i in range(machines):\n",
    "    plt.plot(\n",
    "        batch_size,\n",
    "        time_batch_16_RA[i],\n",
    "        label=f'gpu0{i+1}, RandAugment',\n",
    "        linewidth=1,\n",
    "    )\n",
    "plt.xlabel('Batch Size')\n",
    "plt.ylabel('Time (sec)')\n",
    "plt.title ('Training Time a Batch, Image Size 32x32')\n",
    "plt.legend()\n",
    "plt.show()"
   ]
  },
  {
   "cell_type": "code",
   "execution_count": null,
   "id": "4f34d5d4",
   "metadata": {},
   "outputs": [],
   "source": [
    "plt.figure(dpi=DPI)\n",
    "plt.plot(\n",
    "    batch_size,\n",
    "    avgtime_batch_8_origin,\n",
    "    label=f'average time, 8x8, RandomCrop',\n",
    "    linewidth=1,\n",
    ")\n",
    "plt.plot(\n",
    "    batch_size,\n",
    "    avgtime_batch_16_origin,\n",
    "    label=f'average time, 16x16, RandomCrop',\n",
    "    linewidth=1,\n",
    ")\n",
    "plt.plot(\n",
    "    batch_size,\n",
    "    avgtime_batch_32_origin,\n",
    "    label=f'average time, 32x32, RandomCrop',\n",
    "    linewidth=1,\n",
    ")\n",
    "plt.plot(\n",
    "    batch_size,\n",
    "    avgtime_batch_16_RA,\n",
    "    label=f'average time, 16x16, RandAugment',\n",
    "    linewidth=1,\n",
    ")\n",
    "plt.plot(\n",
    "    batch_size,\n",
    "    avgtime_batch_32_RA,\n",
    "    label=f'average time, 32x32, RandAugment',\n",
    "    linewidth=1,\n",
    ")\n",
    "plt.xlabel('Batch Size')\n",
    "plt.ylabel('Time (sec)')\n",
    "plt.legend()\n",
    "plt.show()"
   ]
  },
  {
   "cell_type": "code",
   "execution_count": null,
   "id": "4026a6b3",
   "metadata": {},
   "outputs": [],
   "source": []
  },
  {
   "cell_type": "code",
   "execution_count": null,
   "id": "2f08e445",
   "metadata": {},
   "outputs": [],
   "source": [
    "time_epoch_8 = []\n",
    "time_epoch_16 = []\n",
    "time_epoch_32 = []\n",
    "\n",
    "n = 9\n",
    "for i in range(1, machines + 1):\n",
    "    time_epoch_8.append(np.load(f'./save/save_n{n}_{i}/time_epoch_s8_b1_e513_g1_adjustBS.npy'))\n",
    "    time_epoch_16.append(np.load(f'./save/save_n{n}_{i}/time_epoch_s16_b1_e513_g1_adjustBS.npy'))\n",
    "    time_epoch_32.append(np.load(f'./save/save_n{n}_{i}/time_epoch_s32_b1_e513_g1_adjustBS.npy'))"
   ]
  },
  {
   "cell_type": "code",
   "execution_count": null,
   "id": "df3b8010",
   "metadata": {},
   "outputs": [],
   "source": [
    "time_batch_8 = []\n",
    "time_batch_16 = []\n",
    "time_batch_32 = []\n",
    "\n",
    "for i in range(machines):\n",
    "    time_batch_8.append(time_epoch_8[i] / np.floor(50000 / (16*batch_size)))\n",
    "    time_batch_16.append(time_epoch_16[i] / np.floor(50000 / (4*batch_size)))\n",
    "    time_batch_32.append(time_epoch_32[i] / np.floor(50000 / batch_size))"
   ]
  },
  {
   "cell_type": "code",
   "execution_count": null,
   "id": "274f011b",
   "metadata": {},
   "outputs": [],
   "source": [
    "avgtime_epoch_8 = np.mean(np.array(time_epoch_8), axis=0)\n",
    "avgtime_epoch_16 = np.mean(np.array(time_epoch_16), axis=0)\n",
    "avgtime_epoch_32 = np.mean(np.array(time_epoch_32), axis=0)\n",
    "\n",
    "avgtime_batch_8 = np.mean(np.array(time_batch_8), axis=0)\n",
    "avgtime_batch_16 = np.mean(np.array(time_batch_16), axis=0)\n",
    "avgtime_batch_32 = np.mean(np.array(time_batch_32), axis=0)"
   ]
  },
  {
   "cell_type": "code",
   "execution_count": null,
   "id": "dc539370",
   "metadata": {},
   "outputs": [],
   "source": [
    "plt.figure(dpi=DPI)\n",
    "for i in range(machines):\n",
    "    plt.plot(\n",
    "        batch_size,\n",
    "        time_epoch_32[i],\n",
    "        label=f'gpu0{i+1}, Adjust Batch Size',\n",
    "        linewidth=1,\n",
    "    )\n",
    "plt.xlabel('$f(x) = b * (32 / s)$')\n",
    "plt.ylabel('Time (sec)')\n",
    "plt.legend()\n",
    "plt.show()"
   ]
  },
  {
   "cell_type": "code",
   "execution_count": null,
   "id": "1f7e88d1",
   "metadata": {},
   "outputs": [],
   "source": [
    "plt.figure(dpi=DPI)\n",
    "for i in range(machines):\n",
    "    plt.plot(\n",
    "        batch_size,\n",
    "        time_batch_32[i],\n",
    "        label=f'gpu0{i+1}',\n",
    "        linewidth=1,\n",
    "    )\n",
    "plt.xlabel('Batch Size')\n",
    "plt.ylabel('Time (sec)')\n",
    "plt.title('Training Time a Batch, Image Size 32x32')\n",
    "plt.legend()\n",
    "plt.show()"
   ]
  },
  {
   "cell_type": "code",
   "execution_count": null,
   "id": "fe842cd3",
   "metadata": {},
   "outputs": [],
   "source": [
    "plt.figure(dpi=DPI)\n",
    "plt.plot(\n",
    "    batch_size,\n",
    "    avgtime_batch_8,\n",
    "    label=f'average time, 8x8, $4b$',\n",
    "    linewidth=1,\n",
    ")\n",
    "plt.plot(\n",
    "    batch_size,\n",
    "    avgtime_batch_16,\n",
    "    label=f'average time, 16x16, $2b$',\n",
    "    linewidth=1,\n",
    ")\n",
    "plt.plot(\n",
    "    batch_size,\n",
    "    avgtime_batch_32,\n",
    "    label=f'average time, 32x32, $b$',\n",
    "    linewidth=1,\n",
    ")\n",
    "plt.xlabel('$f(b, s) = b * (32 / s)$')\n",
    "plt.ylabel('Time (sec)')\n",
    "plt.title('b: batch size, s: image size')\n",
    "plt.legend()\n",
    "plt.show()"
   ]
  },
  {
   "cell_type": "code",
   "execution_count": null,
   "id": "9f5eccd2",
   "metadata": {},
   "outputs": [],
   "source": []
  }
 ],
 "metadata": {
  "kernelspec": {
   "display_name": "Python 3 (ipykernel)",
   "language": "python",
   "name": "python3"
  },
  "language_info": {
   "codemirror_mode": {
    "name": "ipython",
    "version": 3
   },
   "file_extension": ".py",
   "mimetype": "text/x-python",
   "name": "python",
   "nbconvert_exporter": "python",
   "pygments_lexer": "ipython3",
   "version": "3.10.10"
  }
 },
 "nbformat": 4,
 "nbformat_minor": 5
}
