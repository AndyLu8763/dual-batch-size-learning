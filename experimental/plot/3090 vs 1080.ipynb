{
 "cells": [
  {
   "cell_type": "code",
   "execution_count": null,
   "id": "f4a1836a",
   "metadata": {},
   "outputs": [],
   "source": [
    "import numpy as np\n",
    "import matplotlib.pyplot as plt\n",
    "from sklearn.linear_model import LinearRegression"
   ]
  },
  {
   "cell_type": "code",
   "execution_count": null,
   "id": "e99242f1",
   "metadata": {},
   "outputs": [],
   "source": [
    "pt3090_epoch_time = np.load('./record/first/pt_train_time_1_1001_1_gpu06.npy')[:500]\n",
    "tf3090_epoch_time = np.load('./record/first/tf_train_time_1_1001_1_gpu06.npy')[:500]\n",
    "\n",
    "pt1080_epoch_time = np.load('./record/first/pt_train_time_1_501_1_gpu01.npy')[:-1]\n",
    "tf1080_epoch_time = np.load('./record/first/tf_train_time_1_501_1_gpu01.npy')[:-1]"
   ]
  },
  {
   "cell_type": "code",
   "execution_count": null,
   "id": "e34dd046",
   "metadata": {},
   "outputs": [],
   "source": [
    "data_size = 50000\n",
    "batch_sizes = np.arange(1, 501)\n",
    "batches = np.ceil(data_size / batch_sizes)"
   ]
  },
  {
   "cell_type": "code",
   "execution_count": null,
   "id": "164498c5",
   "metadata": {},
   "outputs": [],
   "source": [
    "pt3090_batch_time = pt3090_epoch_time / batches\n",
    "tf3090_batch_time = tf3090_epoch_time / batches\n",
    "pt1080_batch_time = pt1080_epoch_time / batches\n",
    "tf1080_batch_time = tf1080_epoch_time / batches"
   ]
  },
  {
   "cell_type": "code",
   "execution_count": null,
   "id": "fa53ce9b",
   "metadata": {},
   "outputs": [],
   "source": [
    "DPI = 300"
   ]
  },
  {
   "cell_type": "code",
   "execution_count": null,
   "id": "9d35ceca",
   "metadata": {},
   "outputs": [],
   "source": [
    "plt.figure(dpi=DPI)\n",
    "plt.plot(\n",
    "    batch_sizes,\n",
    "    pt3090_batch_time,\n",
    "    label='RTX-3090, PyTorch',\n",
    "    linewidth=1,\n",
    ")\n",
    "plt.plot(\n",
    "    batch_sizes,\n",
    "    tf3090_batch_time,\n",
    "    label='RTX-3090, TensorFlow',\n",
    "    linewidth=1,\n",
    ")\n",
    "plt.plot(\n",
    "    batch_sizes,\n",
    "    pt1080_batch_time,\n",
    "    label='GTX-1080, PyTorch',\n",
    "    linewidth=1,\n",
    ")\n",
    "plt.plot(\n",
    "    batch_sizes,\n",
    "    tf1080_batch_time,\n",
    "    label='GTX-1080, TensorFlow',\n",
    "    linewidth=1,\n",
    ")\n",
    "#plt.title('Training Time a Batch')\n",
    "plt.xlabel('Batch Size')\n",
    "plt.ylabel('Time (sec)')\n",
    "plt.legend()\n",
    "#plt.show()\n",
    "plt.savefig('./temp_figure/RTX3090_GTX1080.png', transparent=True)"
   ]
  },
  {
   "cell_type": "code",
   "execution_count": null,
   "id": "5804c1d2",
   "metadata": {},
   "outputs": [],
   "source": []
  }
 ],
 "metadata": {
  "kernelspec": {
   "display_name": "Python 3 (ipykernel)",
   "language": "python",
   "name": "python3"
  },
  "language_info": {
   "codemirror_mode": {
    "name": "ipython",
    "version": 3
   },
   "file_extension": ".py",
   "mimetype": "text/x-python",
   "name": "python",
   "nbconvert_exporter": "python",
   "pygments_lexer": "ipython3",
   "version": "3.10.6"
  }
 },
 "nbformat": 4,
 "nbformat_minor": 5
}
