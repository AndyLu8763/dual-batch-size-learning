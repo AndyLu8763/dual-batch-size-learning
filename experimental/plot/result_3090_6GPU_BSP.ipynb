{
 "cells": [
  {
   "cell_type": "code",
   "execution_count": null,
   "id": "795572e0",
   "metadata": {},
   "outputs": [],
   "source": [
    "import numpy as np\n",
    "import matplotlib.pyplot as plt"
   ]
  },
  {
   "cell_type": "code",
   "execution_count": null,
   "id": "569427c0",
   "metadata": {},
   "outputs": [],
   "source": [
    "def restruct_array(content):\n",
    "    # concatenate all np.ndarray to an array\n",
    "    time = np.reshape((content.item()['push_time']-content.item()['start_time'])[1:, :], (1, -1))\n",
    "    train_loss = np.reshape(content.item()['train_loss'][1:, :], (1, -1))\n",
    "    train_acc = np.reshape(content.item()['train_acc'][1:, :], (1, -1))\n",
    "    test_loss = np.reshape(content.item()['test_loss'][1:, :], (1, -1))\n",
    "    test_acc = np.reshape(content.item()['test_acc'][1:, :], (1, -1))\n",
    "    alles = np.concatenate((time, train_loss, train_acc, test_loss, test_acc))\n",
    "    # sort the array by push time\n",
    "    index = np.argsort(alles[0])\n",
    "    alles = alles[:, index]\n",
    "    # remove items unused\n",
    "    index2 = alles[0, :] > 0\n",
    "    alles = alles[:, index2]\n",
    "    print('Min Loss:', np.min(alles[3]), ', at:', np.argmin(alles[3]))\n",
    "    print('Loss:', alles[3,-1], 'Acc:', alles[4,-1])\n",
    "    print('----')\n",
    "    return alles"
   ]
  },
  {
   "cell_type": "code",
   "execution_count": null,
   "id": "54f8e5d8",
   "metadata": {},
   "outputs": [],
   "source": [
    "npy = []\n",
    "small = [0, 62, 138, 203, 258, 307, 349]\n",
    "for i, s in enumerate(small):\n",
    "    npy.append(\n",
    "        restruct_array(\n",
    "            np.load(f'./record/DBSL_npy_3090/6GPU_1.05extra_{i}small_{s}SBatch_1000LBatch.npy',\n",
    "                    allow_pickle=True)))"
   ]
  },
  {
   "cell_type": "code",
   "execution_count": null,
   "id": "2a7f7866",
   "metadata": {},
   "outputs": [],
   "source": [
    "npy[0].shape[1]"
   ]
  },
  {
   "cell_type": "code",
   "execution_count": null,
   "id": "24f80683",
   "metadata": {},
   "outputs": [],
   "source": [
    "label = []\n",
    "for i, s in enumerate(small):\n",
    "    label.append(f'{i} small, $B_S={s}$')"
   ]
  },
  {
   "cell_type": "code",
   "execution_count": null,
   "id": "756d82b0",
   "metadata": {},
   "outputs": [],
   "source": [
    "DPI = 300"
   ]
  },
  {
   "cell_type": "code",
   "execution_count": null,
   "id": "309560de",
   "metadata": {},
   "outputs": [],
   "source": [
    "## testing loss\n",
    "plt.figure(dpi=DPI)\n",
    "for i in range(len(label)):\n",
    "    plt.plot(np.arange(1, npy[i].shape[1]+1)/(len(npy)-1), npy[i][3], label=label[i], linewidth=1)\n",
    "plt.ylim(0.9, 5.1)\n",
    "#plt.title('Decaying Learning Rate, Testing Loss vs. Time')\n",
    "plt.xlabel('Epoch')\n",
    "plt.ylabel('Testing Loss')\n",
    "plt.legend()\n",
    "#plt.show()\n",
    "plt.savefig('./temp_figure/result_3090_6GPU_BSP_loss.png', transparent=True)\n",
    "## testing accuracy\n",
    "plt.figure(dpi=DPI)\n",
    "for i in range(len(label)):\n",
    "    plt.plot(np.arange(1, npy[i].shape[1]+1)/(len(npy)-1), npy[i][4], label=label[i], linewidth=1)\n",
    "#plt.title('Decaying Learning Rate, Testing Accuracy vs. Time')\n",
    "plt.xlabel('Epoch')\n",
    "plt.ylabel('Testing Accuracy')\n",
    "plt.legend()\n",
    "#plt.show()\n",
    "plt.savefig('./temp_figure/result_3090_6GPU_BSP_acc.png', transparent=True)"
   ]
  },
  {
   "cell_type": "code",
   "execution_count": null,
   "id": "ab77e272",
   "metadata": {},
   "outputs": [],
   "source": [
    "# from '0 large n small' to 'n small 0 large'\n",
    "len(npy)"
   ]
  },
  {
   "cell_type": "code",
   "execution_count": null,
   "id": "e8139072",
   "metadata": {},
   "outputs": [],
   "source": [
    "# npy axis 0\n",
    "# time, train_loss, train_acc, test_loss, test_acc\n",
    "npy[0].shape"
   ]
  },
  {
   "cell_type": "code",
   "execution_count": null,
   "id": "bbf35cdd",
   "metadata": {},
   "outputs": [],
   "source": [
    "epo = 140\n",
    "gpus = 6\n",
    "print(f'train_loss: {npy[0][1][(epo - 1) * gpus + (gpus - 1)]}')\n",
    "print(f'train_acc: {npy[0][2][(epo - 1) * gpus + (gpus - 1)]}')\n",
    "print(f'test_loss: {npy[0][3][(epo - 1) * gpus + (gpus - 1)]}')\n",
    "print(f'test_acc: {npy[0][4][(epo - 1) * gpus + (gpus - 1)]}')"
   ]
  },
  {
   "cell_type": "code",
   "execution_count": null,
   "id": "af9ad8a7",
   "metadata": {},
   "outputs": [],
   "source": []
  }
 ],
 "metadata": {
  "kernelspec": {
   "display_name": "Python 3 (ipykernel)",
   "language": "python",
   "name": "python3"
  },
  "language_info": {
   "codemirror_mode": {
    "name": "ipython",
    "version": 3
   },
   "file_extension": ".py",
   "mimetype": "text/x-python",
   "name": "python",
   "nbconvert_exporter": "python",
   "pygments_lexer": "ipython3",
   "version": "3.10.8"
  }
 },
 "nbformat": 4,
 "nbformat_minor": 5
}
