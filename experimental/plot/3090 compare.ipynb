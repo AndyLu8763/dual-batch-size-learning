{
 "cells": [
  {
   "cell_type": "code",
   "execution_count": null,
   "id": "72b5ef3e",
   "metadata": {},
   "outputs": [],
   "source": [
    "import numpy as np\n",
    "import matplotlib.pyplot as plt"
   ]
  },
  {
   "cell_type": "code",
   "execution_count": null,
   "id": "74c3a63d",
   "metadata": {},
   "outputs": [],
   "source": [
    "index = ['06', '07', '08', '09', '10', '14']\n",
    "tf = []"
   ]
  },
  {
   "cell_type": "code",
   "execution_count": null,
   "id": "13672bfb",
   "metadata": {},
   "outputs": [],
   "source": [
    "start = 1\n",
    "stop = 1001"
   ]
  },
  {
   "cell_type": "code",
   "execution_count": null,
   "id": "e1bdaa88",
   "metadata": {},
   "outputs": [],
   "source": [
    "for i in index:\n",
    "    tf.append(np.load(f'./record/tf_train_time_{start}_{stop}_1_gpu{i}.npy')[:-1])\n",
    "tf = np.array(tf)"
   ]
  },
  {
   "cell_type": "code",
   "execution_count": null,
   "id": "eb1a60e0",
   "metadata": {},
   "outputs": [],
   "source": [
    "print(tf.shape)"
   ]
  },
  {
   "cell_type": "code",
   "execution_count": null,
   "id": "adb8f959",
   "metadata": {},
   "outputs": [],
   "source": [
    "data_size = 50000\n",
    "batch_sizes = np.arange(start, stop)\n",
    "batches = np.ceil(data_size / batch_sizes)"
   ]
  },
  {
   "cell_type": "code",
   "execution_count": null,
   "id": "f24ec449",
   "metadata": {},
   "outputs": [],
   "source": [
    "train_time_an_epoch = tf\n",
    "train_time_a_batch = tf / batches"
   ]
  },
  {
   "cell_type": "code",
   "execution_count": null,
   "id": "9a25c107",
   "metadata": {},
   "outputs": [],
   "source": [
    "DPI = 300"
   ]
  },
  {
   "cell_type": "code",
   "execution_count": null,
   "id": "68673870",
   "metadata": {},
   "outputs": [],
   "source": [
    "plt.figure(dpi=DPI)\n",
    "for i in range(len(index)):\n",
    "    plt.plot(\n",
    "        batch_sizes,\n",
    "        train_time_an_epoch[i],\n",
    "        label=f'gpu{index[i]}',\n",
    "        linewidth=1,\n",
    "    )\n",
    "plt.xlabel('Batch Size')\n",
    "plt.ylabel('Measurement Time (sec)')\n",
    "plt.legend()\n",
    "#plt.show()\n",
    "plt.savefig('./temp_figure/RTX3090_epoch.png', transparent=True)"
   ]
  },
  {
   "cell_type": "code",
   "execution_count": null,
   "id": "364598ed",
   "metadata": {},
   "outputs": [],
   "source": [
    "plt.figure(dpi=DPI)\n",
    "for i in range(len(index)):\n",
    "    plt.plot(\n",
    "        batch_sizes,\n",
    "        train_time_a_batch[i],\n",
    "        label=f'gpu{index[i]}',\n",
    "        #linestyle='--',\n",
    "        linewidth=1,\n",
    "    )\n",
    "plt.xlabel('Batch Size')\n",
    "plt.ylabel('Measurement Time (sec)')\n",
    "plt.legend()\n",
    "#plt.show()\n",
    "plt.savefig('./temp_figure/RTX3090_batch.png', transparent=True)"
   ]
  },
  {
   "cell_type": "code",
   "execution_count": null,
   "id": "c7a001fe",
   "metadata": {},
   "outputs": [],
   "source": [
    "plt.figure(dpi=DPI)\n",
    "for i in range(len(index)):\n",
    "    plt.plot(\n",
    "        batch_sizes[:25],\n",
    "        train_time_an_epoch[i][:25],\n",
    "        label=f'gpu{index[i]}',\n",
    "        linewidth=1,\n",
    "    )\n",
    "plt.xlabel('Batch Size')\n",
    "plt.ylabel('Measurement Time (sec)')\n",
    "plt.legend()\n",
    "#plt.show()\n",
    "plt.savefig('./temp_figure/RTX3090_1_25.png', transparent=True)"
   ]
  },
  {
   "cell_type": "code",
   "execution_count": null,
   "id": "f66f5e38",
   "metadata": {},
   "outputs": [],
   "source": [
    "plt.figure(dpi=DPI)\n",
    "for i in range(len(index)):\n",
    "    plt.plot(\n",
    "        batch_sizes[900:],\n",
    "        train_time_an_epoch[i][900:],\n",
    "        label=f'gpu{index[i]}',\n",
    "        linewidth=1,\n",
    "    )\n",
    "plt.xlabel('Batch Size')\n",
    "plt.ylabel('Measurement Time (sec)')\n",
    "plt.legend()\n",
    "#plt.show()\n",
    "plt.savefig('./temp_figure/RTX3090_900_1000.png', transparent=True)"
   ]
  },
  {
   "cell_type": "code",
   "execution_count": null,
   "id": "525dfef7",
   "metadata": {},
   "outputs": [],
   "source": []
  }
 ],
 "metadata": {
  "kernelspec": {
   "display_name": "Python 3 (ipykernel)",
   "language": "python",
   "name": "python3"
  },
  "language_info": {
   "codemirror_mode": {
    "name": "ipython",
    "version": 3
   },
   "file_extension": ".py",
   "mimetype": "text/x-python",
   "name": "python",
   "nbconvert_exporter": "python",
   "pygments_lexer": "ipython3",
   "version": "3.10.8"
  }
 },
 "nbformat": 4,
 "nbformat_minor": 5
}
