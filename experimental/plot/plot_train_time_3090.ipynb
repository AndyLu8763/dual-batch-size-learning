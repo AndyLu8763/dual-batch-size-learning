{
 "cells": [
  {
   "cell_type": "code",
   "execution_count": null,
   "id": "0e04d6a7",
   "metadata": {},
   "outputs": [],
   "source": [
    "import numpy as np\n",
    "import matplotlib.pyplot as plt\n",
    "from sklearn.linear_model import LinearRegression"
   ]
  },
  {
   "cell_type": "code",
   "execution_count": null,
   "id": "1bb7415e",
   "metadata": {},
   "outputs": [],
   "source": [
    "start = 1\n",
    "stop = 1001\n",
    "step = 1\n",
    "\n",
    "start_size = start\n",
    "stop_size = stop"
   ]
  },
  {
   "cell_type": "code",
   "execution_count": null,
   "id": "2858a326",
   "metadata": {},
   "outputs": [],
   "source": [
    "pt1 = np.load(f'record/pt_train_time_{start}_{stop}_{step}_gpu06.npy')\n",
    "#pt2 = np.load(f'record/pt_train_time_{start}_{stop}_{step}_gpu09.npy')\n",
    "\n",
    "tf1 = np.load(f'record/tf_train_time_{start}_{stop}_{step}_gpu06.npy')\n",
    "#tf2 = np.load(f'record/tf_train_time_{start}_{stop}_{step}_gpu09.npy')"
   ]
  },
  {
   "cell_type": "code",
   "execution_count": null,
   "id": "4986e2c2",
   "metadata": {},
   "outputs": [],
   "source": [
    "pt_epoch_true_val = np.mean([pt1], axis=0)[start_size-1:stop_size-1]\n",
    "tf_epoch_true_val = np.mean([tf1], axis=0)[start_size-1:stop_size-1]"
   ]
  },
  {
   "cell_type": "code",
   "execution_count": null,
   "id": "ac457747",
   "metadata": {},
   "outputs": [],
   "source": [
    "data_size = 50000\n",
    "batch_sizes = np.arange(start_size, stop_size, step)\n",
    "batches = np.ceil(data_size / batch_sizes)"
   ]
  },
  {
   "cell_type": "code",
   "execution_count": null,
   "id": "448d7f45",
   "metadata": {},
   "outputs": [],
   "source": [
    "pt_batch_true_val = pt_epoch_true_val / batches\n",
    "tf_batch_true_val = tf_epoch_true_val / batches"
   ]
  },
  {
   "cell_type": "code",
   "execution_count": null,
   "id": "7ea2cd22",
   "metadata": {},
   "outputs": [],
   "source": [
    "pt_reg_model = LinearRegression().fit(batch_sizes.reshape(-1,1), pt_batch_true_val)\n",
    "tf_reg_model = LinearRegression().fit(batch_sizes.reshape(-1,1), tf_batch_true_val)"
   ]
  },
  {
   "cell_type": "code",
   "execution_count": null,
   "id": "c714f418",
   "metadata": {},
   "outputs": [],
   "source": [
    "print('Results on RTX-3090')\n",
    "print(f'PyTorch Predict: {pt_reg_model.coef_} * batch_size + {pt_reg_model.intercept_}')\n",
    "print(f'TensorFlow Predict: {tf_reg_model.coef_} * batch_size + {tf_reg_model.intercept_}')"
   ]
  },
  {
   "cell_type": "code",
   "execution_count": null,
   "id": "b397b476",
   "metadata": {},
   "outputs": [],
   "source": [
    "pt_batch_predict_val = pt_reg_model.predict(batch_sizes.reshape(-1,1))\n",
    "tf_batch_predict_val = tf_reg_model.predict(batch_sizes.reshape(-1,1))\n",
    "\n",
    "pt_epoch_predict_val = pt_batch_predict_val * batches\n",
    "tf_epoch_predict_val = tf_batch_predict_val * batches"
   ]
  },
  {
   "cell_type": "code",
   "execution_count": null,
   "id": "9d02a263",
   "metadata": {},
   "outputs": [],
   "source": [
    "DPI = 300"
   ]
  },
  {
   "cell_type": "code",
   "execution_count": null,
   "id": "bf17faeb",
   "metadata": {},
   "outputs": [],
   "source": [
    "plt.figure(dpi=DPI)\n",
    "plt.plot(\n",
    "    batch_sizes,\n",
    "    pt_batch_true_val,\n",
    "    label='PyTorch, measurement',\n",
    "    linewidth=1,\n",
    ")\n",
    "#'''\n",
    "plt.plot(\n",
    "    batch_sizes,\n",
    "    pt_batch_predict_val,\n",
    "    label='PyTorch, prediction',\n",
    "    linestyle='--',\n",
    "    linewidth=1,\n",
    ")\n",
    "#'''\n",
    "plt.plot(\n",
    "    batch_sizes,\n",
    "    tf_batch_true_val,\n",
    "    label='TensorFlow, measurement',\n",
    "    linewidth=1,\n",
    ")\n",
    "#'''\n",
    "plt.plot(\n",
    "    batch_sizes,\n",
    "    tf_batch_predict_val,\n",
    "    label='TensorFlow, prediction',\n",
    "    linestyle='--',\n",
    "    linewidth=1,\n",
    ")\n",
    "#'''\n",
    "#plt.title('Training Time a Batch')\n",
    "plt.xlabel('Batch Size')\n",
    "plt.ylabel('Time (sec)')\n",
    "plt.legend()\n",
    "plt.show()"
   ]
  },
  {
   "cell_type": "code",
   "execution_count": null,
   "id": "bca7f2c2",
   "metadata": {},
   "outputs": [],
   "source": [
    "plt.figure(dpi=DPI)\n",
    "plt.plot(\n",
    "    batch_sizes,\n",
    "    pt_epoch_true_val,\n",
    "    label='PyTorch, measurement',\n",
    "    linewidth=1,\n",
    ")\n",
    "'''\n",
    "plt.plot(\n",
    "    batch_sizes,\n",
    "    pt_epoch_predict_val,\n",
    "    label='PyTorch, prediction',\n",
    "    linestyle='--',\n",
    "    linewidth=1,\n",
    ")\n",
    "'''\n",
    "plt.plot(\n",
    "    batch_sizes,\n",
    "    tf_epoch_true_val,\n",
    "    label='TensorFlow, measurement',\n",
    "    linewidth=1,\n",
    ")\n",
    "'''\n",
    "plt.plot(\n",
    "    batch_sizes,\n",
    "    tf_epoch_predict_val,\n",
    "    label='TensorFlow, prediction',\n",
    "    linestyle='--',\n",
    "    linewidth=1,\n",
    ")\n",
    "'''\n",
    "#plt.title('Training Time an Epoch')\n",
    "plt.xlabel('Batch Size')\n",
    "plt.ylabel('Time (sec)')\n",
    "plt.legend()\n",
    "plt.show()"
   ]
  },
  {
   "cell_type": "code",
   "execution_count": null,
   "id": "dc6340b7",
   "metadata": {},
   "outputs": [],
   "source": []
  }
 ],
 "metadata": {
  "kernelspec": {
   "display_name": "Python 3 (ipykernel)",
   "language": "python",
   "name": "python3"
  },
  "language_info": {
   "codemirror_mode": {
    "name": "ipython",
    "version": 3
   },
   "file_extension": ".py",
   "mimetype": "text/x-python",
   "name": "python",
   "nbconvert_exporter": "python",
   "pygments_lexer": "ipython3",
   "version": "3.10.6"
  }
 },
 "nbformat": 4,
 "nbformat_minor": 5
}
