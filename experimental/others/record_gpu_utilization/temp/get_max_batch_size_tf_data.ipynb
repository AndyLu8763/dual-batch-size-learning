{
 "cells": [
  {
   "cell_type": "code",
   "execution_count": null,
   "id": "32a0a149",
   "metadata": {},
   "outputs": [],
   "source": [
    "import argparse\n",
    "import time\n",
    "import tensorflow as tf\n",
    "from tensorflow import keras\n",
    "from tensorflow.keras import layers\n",
    "from tensorflow.keras import mixed_precision"
   ]
  },
  {
   "cell_type": "code",
   "execution_count": null,
   "id": "758fb5e8",
   "metadata": {},
   "outputs": [],
   "source": [
    "parser = argparse.ArgumentParser(\n",
    "        description='Too Simple! Sometimes Naive!'\n",
    ")\n",
    "parser.add_argument(\n",
    "    '-m', '--mixed',\n",
    "    type=bool,\n",
    "    default=True,\n",
    "    help='MIXED_PRECISION'\n",
    ")\n",
    "parser.add_argument(\n",
    "    '-j', '--jit',\n",
    "    type=bool,\n",
    "    default=True,\n",
    "    help='JIT_COMPILE'\n",
    ")\n",
    "parser.add_argument(\n",
    "    '-b', '--batch',\n",
    "    type=int,\n",
    "    default=100,\n",
    "    help='batch_size'\n",
    ")\n",
    "# parser.parse_args() used in .py\n",
    "# parser.parse_args('') used in .ipynb\n",
    "args = parser.parse_args('')"
   ]
  },
  {
   "cell_type": "code",
   "execution_count": null,
   "id": "861a2160",
   "metadata": {},
   "outputs": [],
   "source": [
    "# Optimization Setting\n",
    "device_index = -1\n",
    "MIXED_PRECISION_FLAG = args.mixed\n",
    "JIT_COMPILE_FLAG = args.jit\n",
    "\n",
    "# Dataloader Setting\n",
    "batch_size = args.batch\n",
    "\n",
    "# Training Setting\n",
    "learning_rate = 1e-2\n",
    "momentum = 0.9\n",
    "epochs = 1"
   ]
  },
  {
   "cell_type": "code",
   "execution_count": null,
   "id": "7c4f9fac",
   "metadata": {},
   "outputs": [],
   "source": [
    "physical_devices = tf.config.list_physical_devices('GPU')\n",
    "tf.config.set_visible_devices(physical_devices[device_index], 'GPU')\n",
    "#tf.config.experimental.set_memory_growth(physical_devices[device_index], True)"
   ]
  },
  {
   "cell_type": "code",
   "execution_count": null,
   "id": "03060f97",
   "metadata": {},
   "outputs": [],
   "source": [
    "if MIXED_PRECISION_FLAG:\n",
    "    policy = mixed_precision.Policy('mixed_float16')\n",
    "    mixed_precision.set_global_policy(policy)"
   ]
  },
  {
   "cell_type": "code",
   "execution_count": null,
   "id": "06a5868f",
   "metadata": {},
   "outputs": [],
   "source": [
    "def load_cifar100(\n",
    "    batch_size: int,\n",
    "    seed: int = None,\n",
    "    num_parallel_calls: int = tf.data.AUTOTUNE):\n",
    "    \n",
    "    def map_func(image, label, TRAIN_FLAG):\n",
    "        mean = [0.50705886, 0.48666665, 0.4407843 ]\n",
    "        variance = [0.07153001, 0.06577717, 0.0762193 ]\n",
    "        transform = keras.Sequential([\n",
    "            layers.Rescaling(1/255),\n",
    "            layers.Normalization(mean=mean, variance=variance)\n",
    "        ])\n",
    "        if TRAIN_FLAG:\n",
    "            transform = keras.Sequential([\n",
    "                transform,\n",
    "                layers.RandomTranslation(height_factor=0.1, width_factor=0.1, fill_mode='constant'),\n",
    "                layers.RandomFlip('horizontal')\n",
    "            ])\n",
    "        return transform(image), label\n",
    "    \n",
    "    def dataloader(image, label, TRAIN_FLAG, batch_size, seed, num_parallel_calls):\n",
    "        return (\n",
    "            tf.data.Dataset.from_tensor_slices((image, label))\n",
    "            .shuffle(buffer_size=len(label), seed=seed)\n",
    "            .map(lambda x, y: (map_func(x, y, TRAIN_FLAG)), num_parallel_calls=num_parallel_calls)\n",
    "            .batch(batch_size=batch_size)\n",
    "            .prefetch(buffer_size=tf.data.AUTOTUNE)\n",
    "        )\n",
    "    \n",
    "    (x_train, y_train), (x_test, y_test) = keras.datasets.cifar100.load_data()\n",
    "    train_dataset = dataloader(x_train, y_train, True, batch_size, seed, num_parallel_calls)\n",
    "    test_dataset = dataloader(x_test, y_test, False, batch_size, seed, num_parallel_calls)\n",
    "    return train_dataset, test_dataset"
   ]
  },
  {
   "cell_type": "code",
   "execution_count": null,
   "id": "d8bc6425",
   "metadata": {},
   "outputs": [],
   "source": [
    "def make_resnet18(inputs: keras.Input = keras.Input(shape=(32, 32, 3)),\n",
    "                  num_classes: int = 100\n",
    "                 ) -> keras.Model:\n",
    "    def basicblock(inputs: keras.Input, filters: int, bottleneck: bool):\n",
    "        if bottleneck:\n",
    "            identity = layers.Conv2D(filters, 1, strides=2, padding='valid',\n",
    "                                     kernel_initializer='he_normal'\n",
    "                                    )(inputs)\n",
    "            identity = layers.BatchNormalization()(identity)\n",
    "            x = layers.Conv2D(filters, 3, strides=2, padding='same',\n",
    "                              kernel_initializer='he_normal'\n",
    "                             )(inputs)\n",
    "        else:\n",
    "            identity = inputs\n",
    "            x = layers.Conv2D(filters, 3, strides=1, padding='same',\n",
    "                              kernel_initializer='he_normal',\n",
    "                             )(inputs)\n",
    "        x = layers.BatchNormalization()(x)\n",
    "        x = layers.Activation('relu')(x)\n",
    "        x = layers.Conv2D(filters, 3, strides=1, padding='same',\n",
    "                          kernel_initializer='he_normal',\n",
    "                         )(x)\n",
    "        x = layers.BatchNormalization()(x)\n",
    "        x = layers.Add()([x, identity])\n",
    "        x = layers.Activation('relu')(x)\n",
    "        return x\n",
    "    \n",
    "    x = layers.Conv2D(64, 3, strides=1, padding='same',\n",
    "                      kernel_initializer='he_normal',\n",
    "                     )(inputs)\n",
    "    x = layers.BatchNormalization()(x)\n",
    "    x = layers.Activation('relu')(x)\n",
    "    x = basicblock(x, 64, False)\n",
    "    x = basicblock(x, 64, False)\n",
    "    x = basicblock(x, 128, True)\n",
    "    x = basicblock(x, 128, False)\n",
    "    x = basicblock(x, 256, True)\n",
    "    x = basicblock(x, 256, False)\n",
    "    x = basicblock(x, 512, True)\n",
    "    x = basicblock(x, 512, False)\n",
    "    x = layers.GlobalAveragePooling2D()(x)\n",
    "    outputs = layers.Dense(num_classes, activation='softmax')(x)\n",
    "    return keras.Model(inputs=inputs, outputs=outputs)"
   ]
  },
  {
   "cell_type": "code",
   "execution_count": null,
   "id": "8e02f872",
   "metadata": {},
   "outputs": [],
   "source": [
    "train_dataset, test_dataset = load_cifar100(batch_size=batch_size)"
   ]
  },
  {
   "cell_type": "code",
   "execution_count": null,
   "id": "f750ddd1",
   "metadata": {},
   "outputs": [],
   "source": [
    "model = make_resnet18()"
   ]
  },
  {
   "cell_type": "code",
   "execution_count": null,
   "id": "ad600376",
   "metadata": {},
   "outputs": [],
   "source": [
    "model.compile(\n",
    "    optimizer=(\n",
    "        keras.mixed_precision.LossScaleOptimizer(\n",
    "            keras.optimizers.SGD(learning_rate=learning_rate, momentum=momentum)\n",
    "        ) if MIXED_PRECISION_FLAG\n",
    "        else keras.optimizers.SGD(learning_rate=learning_rate, momentum=momentum)\n",
    "    ),\n",
    "    loss=keras.losses.SparseCategoricalCrossentropy(),\n",
    "    metrics=['accuracy'],\n",
    "    jit_compile=JIT_COMPILE_FLAG\n",
    ")"
   ]
  },
  {
   "cell_type": "code",
   "execution_count": null,
   "id": "3c3c07f6",
   "metadata": {},
   "outputs": [],
   "source": [
    "# get time\n",
    "#model.fit(train_dataset, epochs=1)"
   ]
  },
  {
   "cell_type": "code",
   "execution_count": null,
   "id": "e06d514e",
   "metadata": {},
   "outputs": [],
   "source": [
    "t = time.monotonic()\n",
    "logs = model.fit(\n",
    "    train_dataset,\n",
    "    epochs=epochs,\n",
    "    validation_data=test_dataset\n",
    ")\n",
    "t = time.monotonic() - t"
   ]
  },
  {
   "cell_type": "code",
   "execution_count": null,
   "id": "2d82e40f",
   "metadata": {},
   "outputs": [],
   "source": [
    "print('----')\n",
    "print(f'BATCH_SIZE: {batch_size}')\n",
    "print(f'MIXED_PRECISION: {MIXED_PRECISION_FLAG}')\n",
    "print(f'JIT_COMPILE: {JIT_COMPILE_FLAG}')\n",
    "print(f'TIME: {t}')\n",
    "print(f'LOGS: {logs.history}')\n",
    "print('----')"
   ]
  },
  {
   "cell_type": "code",
   "execution_count": null,
   "id": "980643e8",
   "metadata": {},
   "outputs": [],
   "source": []
  }
 ],
 "metadata": {
  "kernelspec": {
   "display_name": "Python 3 (ipykernel)",
   "language": "python",
   "name": "python3"
  },
  "language_info": {
   "codemirror_mode": {
    "name": "ipython",
    "version": 3
   },
   "file_extension": ".py",
   "mimetype": "text/x-python",
   "name": "python",
   "nbconvert_exporter": "python",
   "pygments_lexer": "ipython3",
   "version": "3.10.8"
  }
 },
 "nbformat": 4,
 "nbformat_minor": 5
}
