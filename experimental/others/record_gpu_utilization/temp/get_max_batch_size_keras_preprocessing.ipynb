{
 "cells": [
  {
   "cell_type": "code",
   "execution_count": null,
   "id": "3770c771",
   "metadata": {},
   "outputs": [],
   "source": [
    "import argparse\n",
    "import time\n",
    "import tensorflow as tf\n",
    "from tensorflow import keras\n",
    "from tensorflow.keras import layers\n",
    "from tensorflow.keras import mixed_precision"
   ]
  },
  {
   "cell_type": "code",
   "execution_count": null,
   "id": "63243f9d",
   "metadata": {},
   "outputs": [],
   "source": [
    "parser = argparse.ArgumentParser(\n",
    "        description='Too Simple! Sometimes Naive!'\n",
    ")\n",
    "parser.add_argument(\n",
    "    '-m', '--mixed',\n",
    "    type=bool,\n",
    "    default=False,\n",
    "    help='MIXED_PRECISION'\n",
    ")\n",
    "parser.add_argument(\n",
    "    '-j', '--jit',\n",
    "    type=bool,\n",
    "    default=False,\n",
    "    help='JIT_COMPILE'\n",
    ")\n",
    "parser.add_argument(\n",
    "    '-b', '--batch',\n",
    "    type=int,\n",
    "    default=500,\n",
    "    help='batch_size'\n",
    ")\n",
    "# parser.parse_args() used in .py\n",
    "# parser.parse_args('') used in .ipynb\n",
    "args = parser.parse_args('')"
   ]
  },
  {
   "cell_type": "code",
   "execution_count": null,
   "id": "e9e70f99",
   "metadata": {},
   "outputs": [],
   "source": [
    "# Optimization Setting\n",
    "device_index = -1\n",
    "MIXED_PRECISION_FLAG = args.mixed\n",
    "JIT_COMPILE_FLAG = args.jit\n",
    "\n",
    "# Dataloader Setting\n",
    "batch_size = args.batch\n",
    "\n",
    "# Training Setting\n",
    "learning_rate = 1e-2\n",
    "momentum = 0.9\n",
    "epochs = 1"
   ]
  },
  {
   "cell_type": "code",
   "execution_count": null,
   "id": "5301c0a8",
   "metadata": {},
   "outputs": [],
   "source": [
    "physical_devices = tf.config.list_physical_devices('GPU')\n",
    "tf.config.set_visible_devices(physical_devices[device_index], 'GPU')\n",
    "#tf.config.experimental.set_memory_growth(physical_devices[device_index], True)"
   ]
  },
  {
   "cell_type": "code",
   "execution_count": null,
   "id": "a2bc8e4c",
   "metadata": {},
   "outputs": [],
   "source": [
    "if MIXED_PRECISION_FLAG:\n",
    "    policy = mixed_precision.Policy('mixed_float16')\n",
    "    mixed_precision.set_global_policy(policy)"
   ]
  },
  {
   "cell_type": "code",
   "execution_count": null,
   "id": "031e572c",
   "metadata": {},
   "outputs": [],
   "source": [
    "def load_cifar100():\n",
    "    def data_preprocessing(x, y):\n",
    "        mean = tf.constant([129.3, 124.1, 112.4]) / 255\n",
    "        std = tf.constant([68.2, 65.4, 70.4]) / 255\n",
    "        pre = keras.Sequential([\n",
    "            layers.Rescaling(1/255),\n",
    "            layers.Normalization(mean=mean, variance=tf.math.square(std))\n",
    "        ])\n",
    "        return pre(x), keras.utils.to_categorical(y)\n",
    "    \n",
    "    (x_train, y_train), (x_test, y_test) = keras.datasets.cifar100.load_data()\n",
    "    x_train, y_train = data_preprocessing(x_train, y_train)\n",
    "    x_test, y_test = data_preprocessing(x_test, y_test)\n",
    "    return (x_train, y_train), (x_test, y_test)"
   ]
  },
  {
   "cell_type": "code",
   "execution_count": null,
   "id": "db6cea3e",
   "metadata": {},
   "outputs": [],
   "source": [
    "def make_resnet18(inputs: keras.Input = keras.Input(shape=(32, 32, 3)),\n",
    "                  num_classes: int = 100\n",
    "                 ) -> keras.Model:\n",
    "    def basicblock(inputs: keras.Input, filters: int, bottleneck: bool):\n",
    "        if bottleneck:\n",
    "            identity = layers.Conv2D(filters, 1, strides=2, padding='valid',\n",
    "                                     kernel_initializer='he_normal'\n",
    "                                    )(inputs)\n",
    "            identity = layers.BatchNormalization()(identity)\n",
    "            x = layers.Conv2D(filters, 3, strides=2, padding='same',\n",
    "                              kernel_initializer='he_normal'\n",
    "                             )(inputs)\n",
    "        else:\n",
    "            identity = inputs\n",
    "            x = layers.Conv2D(filters, 3, strides=1, padding='same',\n",
    "                              kernel_initializer='he_normal',\n",
    "                             )(inputs)\n",
    "        x = layers.BatchNormalization()(x)\n",
    "        x = layers.Activation('relu')(x)\n",
    "        x = layers.Conv2D(filters, 3, strides=1, padding='same',\n",
    "                          kernel_initializer='he_normal',\n",
    "                         )(x)\n",
    "        x = layers.BatchNormalization()(x)\n",
    "        x = layers.Add()([x, identity])\n",
    "        x = layers.Activation('relu')(x)\n",
    "        return x\n",
    "    \n",
    "    x = layers.Conv2D(64, 3, strides=1, padding='same',\n",
    "                      kernel_initializer='he_normal',\n",
    "                     )(inputs)\n",
    "    x = layers.BatchNormalization()(x)\n",
    "    x = layers.Activation('relu')(x)\n",
    "    x = basicblock(x, 64, False)\n",
    "    x = basicblock(x, 64, False)\n",
    "    x = basicblock(x, 128, True)\n",
    "    x = basicblock(x, 128, False)\n",
    "    x = basicblock(x, 256, True)\n",
    "    x = basicblock(x, 256, False)\n",
    "    x = basicblock(x, 512, True)\n",
    "    x = basicblock(x, 512, False)\n",
    "    x = layers.GlobalAveragePooling2D()(x)\n",
    "    outputs = layers.Dense(num_classes, activation='softmax')(x)\n",
    "    return keras.Model(inputs=inputs, outputs=outputs)"
   ]
  },
  {
   "cell_type": "code",
   "execution_count": null,
   "id": "282a02e0",
   "metadata": {},
   "outputs": [],
   "source": [
    "(x_train, y_train), (x_test, y_test) = load_cifar100()"
   ]
  },
  {
   "cell_type": "code",
   "execution_count": null,
   "id": "b3c334c5",
   "metadata": {},
   "outputs": [],
   "source": [
    "datagen = keras.preprocessing.image.ImageDataGenerator(\n",
    "    width_shift_range=0.1,\n",
    "    height_shift_range=0.1,\n",
    "    horizontal_flip=True\n",
    ")"
   ]
  },
  {
   "cell_type": "code",
   "execution_count": null,
   "id": "342e8b5e",
   "metadata": {},
   "outputs": [],
   "source": [
    "model = make_resnet18()"
   ]
  },
  {
   "cell_type": "code",
   "execution_count": null,
   "id": "81894f1f",
   "metadata": {},
   "outputs": [],
   "source": [
    "model.compile(\n",
    "optimizer=(\n",
    "    keras.mixed_precision.LossScaleOptimizer(\n",
    "            keras.optimizers.SGD(learning_rate=learning_rate, momentum=momentum)\n",
    "        ) if MIXED_PRECISION_FLAG\n",
    "        else keras.optimizers.SGD(learning_rate=learning_rate, momentum=momentum)\n",
    "    ),\n",
    "    loss=keras.losses.CategoricalCrossentropy(),\n",
    "    metrics=['accuracy'],\n",
    "    jit_compile=JIT_COMPILE_FLAG\n",
    ")"
   ]
  },
  {
   "cell_type": "code",
   "execution_count": null,
   "id": "9f59b23e",
   "metadata": {},
   "outputs": [],
   "source": [
    "# get time\n",
    "#model.fit(\n",
    "#    datagen.flow(x_train[:batch_size], y_train[:batch_size], batch_size=batch_size),\n",
    "#    epochs=epochs,\n",
    "#    workers=tf.data.AUTOTUNE\n",
    "#)"
   ]
  },
  {
   "cell_type": "code",
   "execution_count": null,
   "id": "bd6e301a",
   "metadata": {},
   "outputs": [],
   "source": [
    "t = time.monotonic()\n",
    "logs = model.fit(\n",
    "    datagen.flow(x_train, y_train, batch_size=batch_size),\n",
    "    epochs=epochs,\n",
    "    validation_data=(x_test, y_test),\n",
    "    validation_batch_size=batch_size,\n",
    "    workers=tf.data.AUTOTUNE\n",
    ")\n",
    "t = time.monotonic() - t"
   ]
  },
  {
   "cell_type": "code",
   "execution_count": null,
   "id": "9ebd8961",
   "metadata": {},
   "outputs": [],
   "source": [
    "print('----')\n",
    "print(f'BATCH_SIZE: {batch_size}')\n",
    "print(f'MIXED_PRECISION: {MIXED_PRECISION_FLAG}')\n",
    "print(f'JIT_COMPILE: {JIT_COMPILE_FLAG}')\n",
    "print(f'TIME: {t}')\n",
    "print(f'LOGS: {logs.history}')\n",
    "print('----')"
   ]
  },
  {
   "cell_type": "code",
   "execution_count": null,
   "id": "ee128baf",
   "metadata": {},
   "outputs": [],
   "source": []
  }
 ],
 "metadata": {
  "kernelspec": {
   "display_name": "Python 3 (ipykernel)",
   "language": "python",
   "name": "python3"
  },
  "language_info": {
   "codemirror_mode": {
    "name": "ipython",
    "version": 3
   },
   "file_extension": ".py",
   "mimetype": "text/x-python",
   "name": "python",
   "nbconvert_exporter": "python",
   "pygments_lexer": "ipython3",
   "version": "3.10.8"
  }
 },
 "nbformat": 4,
 "nbformat_minor": 5
}
