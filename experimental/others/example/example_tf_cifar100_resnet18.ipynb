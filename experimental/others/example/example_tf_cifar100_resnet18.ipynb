{
 "cells": [
  {
   "cell_type": "code",
   "execution_count": null,
   "id": "43adf4cb",
   "metadata": {},
   "outputs": [],
   "source": [
    "import time\n",
    "import tensorflow as tf\n",
    "from tensorflow import keras"
   ]
  },
  {
   "cell_type": "code",
   "execution_count": null,
   "id": "ba9fb0fd",
   "metadata": {},
   "outputs": [],
   "source": [
    "# Optimization Setting\n",
    "device_index = -1\n",
    "MIXED_PRECISION_FLAG = True\n",
    "JIT_COMPILE_FLAG = True\n",
    "\n",
    "# Dataloader Setting\n",
    "batch_size = 100\n",
    "validation_batch_size = 1000\n",
    "seed = None\n",
    "num_parallel_calls = tf.data.AUTOTUNE\n",
    "\n",
    "# Training Setting\n",
    "epochs = 5\n",
    "## loss function\n",
    "learning_rate = 1e-1\n",
    "momentum = 0.9\n",
    "weight_decay = 1e-4\n",
    "## lr scheduler\n",
    "step_size = 25\n",
    "gamma = 0.2"
   ]
  },
  {
   "cell_type": "code",
   "execution_count": null,
   "id": "95d291fa",
   "metadata": {},
   "outputs": [],
   "source": [
    "physical_devices = tf.config.list_physical_devices('GPU')\n",
    "print(f'Numbers of Physical Devices: {len(physical_devices)}')\n",
    "tf.config.set_visible_devices(physical_devices[device_index], 'GPU')\n",
    "tf.config.experimental.set_memory_growth(physical_devices[device_index], True)\n",
    "print(f'Using device: {physical_devices[device_index]}')"
   ]
  },
  {
   "cell_type": "code",
   "execution_count": null,
   "id": "53d768bd",
   "metadata": {},
   "outputs": [],
   "source": [
    "# only TPUs support 'mixed_bfloat16'\n",
    "# if using NVIDIA GPUs, choose 'mixed_float16'\n",
    "if MIXED_PRECISION_FLAG:\n",
    "    policy = keras.mixed_precision.Policy('mixed_float16')\n",
    "    keras.mixed_precision.set_global_policy(policy)\n",
    "    print(f'Policy: {policy.name}')\n",
    "    print(f'Compute dtype: {policy.compute_dtype}')\n",
    "    print(f'Variable dtype: {policy.variable_dtype}')"
   ]
  },
  {
   "cell_type": "code",
   "execution_count": null,
   "id": "0bb5fb08",
   "metadata": {},
   "outputs": [],
   "source": [
    "def load_cifar100(\n",
    "    batch_size: int,\n",
    "    validation_batch_size: int = batch_size,\n",
    "    seed: int = None,\n",
    "    num_parallel_calls: int = tf.data.AUTOTUNE):\n",
    "    \n",
    "    def map_preprocessing(image):\n",
    "        mean = [0.50705886, 0.48666665, 0.4407843 ]\n",
    "        variance = [0.07153001, 0.06577717, 0.0762193 ]\n",
    "        transform = keras.Sequential([\n",
    "            keras.layers.Rescaling(1/255),\n",
    "            keras.layers.Normalization(mean=mean, variance=variance)\n",
    "        ])\n",
    "        return transform(image)\n",
    "    \n",
    "    def map_augmentation(image):\n",
    "        transform = keras.Sequential([\n",
    "            keras.layers.RandomTranslation(\n",
    "                height_factor=0.1,\n",
    "                width_factor=0.1,\n",
    "                fill_mode='constant'\n",
    "            ),\n",
    "            keras.layers.RandomFlip('horizontal')\n",
    "        ])\n",
    "        return transform(image)\n",
    "    \n",
    "    (x_train, y_train), (x_test, y_test) = keras.datasets.cifar100.load_data()\n",
    "    dataloader = {\n",
    "        'train': (tf.data.Dataset.from_tensor_slices((x_train, y_train))\n",
    "                  .map(lambda x, y: (map_preprocessing(x), y),\n",
    "                       num_parallel_calls=num_parallel_calls)\n",
    "                  .cache()\n",
    "                  .shuffle(buffer_size=len(x_train), seed=seed)\n",
    "                  .map(lambda x, y: (map_augmentation(x), y),\n",
    "                       num_parallel_calls=num_parallel_calls)\n",
    "                  .batch(batch_size=batch_size)\n",
    "                  .prefetch(buffer_size=tf.data.AUTOTUNE)),\n",
    "        'test': (tf.data.Dataset.from_tensor_slices((x_test, y_test))\n",
    "                 .map(lambda x, y: (map_preprocessing(x), y),\n",
    "                      num_parallel_calls=num_parallel_calls)\n",
    "                 .cache()\n",
    "                 .batch(batch_size=validation_batch_size)\n",
    "                 .prefetch(buffer_size=tf.data.AUTOTUNE))\n",
    "    }\n",
    "    return dataloader"
   ]
  },
  {
   "cell_type": "code",
   "execution_count": null,
   "id": "8685c1c6",
   "metadata": {},
   "outputs": [],
   "source": [
    "def make_resnet18(\n",
    "    inputs: keras.Input = keras.Input(shape=(32, 32, 3)),\n",
    "    num_classes: int = 100) -> keras.Model:\n",
    "    \n",
    "    def basicblock(inputs: keras.Input, filters: int, bottleneck: bool):\n",
    "        if bottleneck:\n",
    "            identity = keras.layers.Conv2D(\n",
    "                filters, 1, strides=2, padding='valid', kernel_initializer='he_normal'\n",
    "            )(inputs)\n",
    "            identity = keras.layers.BatchNormalization()(identity)\n",
    "            x = keras.layers.Conv2D(\n",
    "                filters, 3, strides=2, padding='same', kernel_initializer='he_normal'\n",
    "            )(inputs)\n",
    "        else:\n",
    "            identity = inputs\n",
    "            x = keras.layers.Conv2D(\n",
    "                filters, 3, strides=1, padding='same', kernel_initializer='he_normal'\n",
    "            )(inputs)\n",
    "        x = keras.layers.BatchNormalization()(x)\n",
    "        x = keras.layers.Activation('relu')(x)\n",
    "        x = keras.layers.Conv2D(\n",
    "            filters, 3, strides=1, padding='same', kernel_initializer='he_normal'\n",
    "        )(x)\n",
    "        x = keras.layers.BatchNormalization()(x)\n",
    "        x = keras.layers.Add()([x, identity])\n",
    "        x = keras.layers.Activation('relu')(x)\n",
    "        return x\n",
    "    \n",
    "    x = keras.layers.Conv2D(\n",
    "        64, 3, strides=1, padding='same', kernel_initializer='he_normal'\n",
    "    )(inputs)\n",
    "    x = keras.layers.BatchNormalization()(x)\n",
    "    x = keras.layers.Activation('relu')(x)\n",
    "    x = basicblock(x, 64, False)\n",
    "    x = basicblock(x, 64, False)\n",
    "    x = basicblock(x, 128, True)\n",
    "    x = basicblock(x, 128, False)\n",
    "    x = basicblock(x, 256, True)\n",
    "    x = basicblock(x, 256, False)\n",
    "    x = basicblock(x, 512, True)\n",
    "    x = basicblock(x, 512, False)\n",
    "    x = keras.layers.GlobalAveragePooling2D()(x)\n",
    "    outputs = keras.layers.Dense(num_classes, activation='softmax')(x)\n",
    "    return keras.Model(inputs=inputs, outputs=outputs)"
   ]
  },
  {
   "cell_type": "code",
   "execution_count": null,
   "id": "d5fe7a30",
   "metadata": {},
   "outputs": [],
   "source": [
    "dataloader = load_cifar100(\n",
    "    batch_size=batch_size,\n",
    "    validation_batch_size=validation_batch_size,\n",
    "    seed=seed,\n",
    "    num_parallel_calls=num_parallel_calls\n",
    ")"
   ]
  },
  {
   "cell_type": "code",
   "execution_count": null,
   "id": "56163eb8",
   "metadata": {},
   "outputs": [],
   "source": [
    "model = make_resnet18(num_classes=100)"
   ]
  },
  {
   "cell_type": "code",
   "execution_count": null,
   "id": "22a78fe4",
   "metadata": {},
   "outputs": [],
   "source": [
    "def lr_schedule(epoch, lr, step_size: int = 25, gamma: float = 0.2):\n",
    "    if not epoch % step_size and epoch:\n",
    "        lr *= gamma\n",
    "    return lr\n",
    "\n",
    "class TimeCallback(keras.callbacks.Callback):\n",
    "    def on_train_begin(self, logs=None):\n",
    "        self.history = []\n",
    "    def on_epoch_begin(self, epoch, logs=None):\n",
    "        self.time_epoch_begin = time.perf_counter()\n",
    "    def on_epoch_end(self, epoch, logs=None):\n",
    "        self.history.append(time.perf_counter() - self.time_epoch_begin)\n",
    "\n",
    "lr_scheduler_callback = keras.callbacks.LearningRateScheduler(\n",
    "    lambda x, y: lr_schedule(x, y, step_size=step_size, gamma=gamma)\n",
    ")\n",
    "time_callback = TimeCallback()"
   ]
  },
  {
   "cell_type": "code",
   "execution_count": null,
   "id": "71f1cc11",
   "metadata": {},
   "outputs": [],
   "source": [
    "model.compile(\n",
    "    optimizer=keras.optimizers.SGD(\n",
    "        learning_rate=learning_rate,\n",
    "        momentum=momentum,\n",
    "        weight_decay=weight_decay\n",
    "    ),\n",
    "    loss=keras.losses.SparseCategoricalCrossentropy(),\n",
    "    metrics=['accuracy'],\n",
    "    jit_compile=JIT_COMPILE_FLAG\n",
    ")"
   ]
  },
  {
   "cell_type": "code",
   "execution_count": null,
   "id": "bd619f40",
   "metadata": {},
   "outputs": [],
   "source": [
    "logs = model.fit(\n",
    "    dataloader['train'],\n",
    "    epochs=epochs,\n",
    "    callbacks=[lr_scheduler_callback, time_callback],\n",
    "    validation_data=dataloader['test']\n",
    ")\n",
    "logs.history['t'] = time_callback.history"
   ]
  },
  {
   "cell_type": "code",
   "execution_count": null,
   "id": "713d003d",
   "metadata": {},
   "outputs": [],
   "source": [
    "logs.history"
   ]
  },
  {
   "cell_type": "code",
   "execution_count": null,
   "id": "1d5668c3",
   "metadata": {},
   "outputs": [],
   "source": [
    "print('----')\n",
    "print(f'batch_size: {batch_size}')\n",
    "print(f'MIXED_PRECISION: {MIXED_PRECISION_FLAG}')\n",
    "print(f'JIT_COMPILE: {JIT_COMPILE_FLAG}')\n",
    "print(f'time: {logs.history[\"t\"]}')\n",
    "print(f'learning_rate: {logs.history[\"lr\"]}')\n",
    "print(f'loss: {logs.history[\"loss\"]}')\n",
    "print(f'acc: {logs.history[\"accuracy\"]}')\n",
    "print(f'val_loss: {logs.history[\"val_loss\"]}')\n",
    "print(f'val_acc: {logs.history[\"val_accuracy\"]}')\n",
    "print('----')"
   ]
  },
  {
   "cell_type": "code",
   "execution_count": null,
   "id": "3d134b91",
   "metadata": {},
   "outputs": [],
   "source": []
  }
 ],
 "metadata": {
  "kernelspec": {
   "display_name": "Python 3 (ipykernel)",
   "language": "python",
   "name": "python3"
  },
  "language_info": {
   "codemirror_mode": {
    "name": "ipython",
    "version": 3
   },
   "file_extension": ".py",
   "mimetype": "text/x-python",
   "name": "python",
   "nbconvert_exporter": "python",
   "pygments_lexer": "ipython3",
   "version": "3.10.9"
  }
 },
 "nbformat": 4,
 "nbformat_minor": 5
}
