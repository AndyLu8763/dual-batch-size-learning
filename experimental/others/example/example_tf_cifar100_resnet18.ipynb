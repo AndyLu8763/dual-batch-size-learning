{
 "cells": [
  {
   "cell_type": "code",
   "execution_count": null,
   "id": "43adf4cb",
   "metadata": {},
   "outputs": [],
   "source": [
    "import tensorflow as tf\n",
    "from tensorflow import keras\n",
    "from tensorflow.keras import layers\n",
    "from tensorflow.keras import mixed_precision"
   ]
  },
  {
   "cell_type": "code",
   "execution_count": null,
   "id": "95d291fa",
   "metadata": {},
   "outputs": [],
   "source": [
    "physical_devices = tf.config.list_physical_devices('GPU')\n",
    "print(f'Numbers of Physical Devices: {len(physical_devices)}')\n",
    "device_index = 3\n",
    "tf.config.set_visible_devices(physical_devices[device_index], 'GPU')\n",
    "tf.config.experimental.set_memory_growth(physical_devices[device_index], True)\n",
    "print(f'Using device: {physical_devices[device_index]}')"
   ]
  },
  {
   "cell_type": "code",
   "execution_count": null,
   "id": "53d768bd",
   "metadata": {},
   "outputs": [],
   "source": [
    "# only TPUs support 'mix_bfloat16'\n",
    "# if using NVIDIA GPUs, choose 'mixed_float16'\n",
    "MIX_PRECISION_FLAG = True\n",
    "if MIX_PRECISION_FLAG:\n",
    "    policy = mixed_precision.Policy('mixed_float16')\n",
    "    mixed_precision.set_global_policy(policy)\n",
    "    print(f'Policy: {policy.name}')\n",
    "    print(f'Compute dtype: {policy.compute_dtype}')\n",
    "    print(f'Variable dtype: {policy.variable_dtype}')"
   ]
  },
  {
   "cell_type": "code",
   "execution_count": null,
   "id": "260d26e0",
   "metadata": {},
   "outputs": [],
   "source": [
    "def load_cifar10():\n",
    "    def data_preprocessing(x, y):\n",
    "        mean = tf.constant([125.3, 123.0, 113.9]) / 255\n",
    "        std = tf.constant([63.0, 62.1, 66.7]) / 255\n",
    "        pre = keras.Sequential([\n",
    "            layers.Rescaling(1/255),\n",
    "            layers.Normalization(mean=mean, variance=tf.math.square(std))\n",
    "        ])\n",
    "        return pre(x), keras.utils.to_categorical(y)\n",
    "    \n",
    "    (x_train, y_train), (x_test, y_test) = keras.datasets.cifar10.load_data()\n",
    "    x_train, y_train = data_preprocessing(x_train, y_train)\n",
    "    x_test, y_test = data_preprocessing(x_test, y_test)\n",
    "    return (x_train, y_train), (x_test, y_test)\n",
    "\n",
    "def load_cifar100():\n",
    "    def data_preprocessing(x, y):\n",
    "        mean = tf.constant([129.3, 124.1, 112.4]) / 255\n",
    "        std = tf.constant([68.2, 65.4, 70.4]) / 255\n",
    "        pre = keras.Sequential([\n",
    "            layers.Rescaling(1/255),\n",
    "            layers.Normalization(mean=mean, variance=tf.math.square(std))\n",
    "        ])\n",
    "        return pre(x), keras.utils.to_categorical(y)\n",
    "    \n",
    "    (x_train, y_train), (x_test, y_test) = keras.datasets.cifar100.load_data()\n",
    "    x_train, y_train = data_preprocessing(x_train, y_train)\n",
    "    x_test, y_test = data_preprocessing(x_test, y_test)\n",
    "    return (x_train, y_train), (x_test, y_test)\n",
    "\n",
    "def make_resnet18(\n",
    "    inputs: keras.Input = keras.Input(shape=(32, 32, 3)), num_classes: int = 100\n",
    ") -> keras.Model:\n",
    "    def basicblock(inputs: keras.Input, filters: int, bottleneck: bool):\n",
    "        if bottleneck:\n",
    "            identity = layers.Conv2D(\n",
    "                filters, 1, strides=2, padding='valid', kernel_initializer='he_normal'\n",
    "            )(inputs)\n",
    "            identity = layers.BatchNormalization()(identity)\n",
    "            x = layers.Conv2D(\n",
    "                filters, 3, strides=2, padding='same', kernel_initializer='he_normal'\n",
    "            )(inputs)\n",
    "        else:\n",
    "            identity = inputs\n",
    "            x = layers.Conv2D(\n",
    "                filters, 3, strides=1, padding='same', kernel_initializer='he_normal'\n",
    "            )(inputs)\n",
    "        x = layers.BatchNormalization()(x)\n",
    "        x = layers.Activation('relu')(x)\n",
    "        x = layers.Conv2D(filters, 3, strides=1, padding='same', kernel_initializer='he_normal')(x)\n",
    "        x = layers.BatchNormalization()(x)\n",
    "        x = layers.Add()([x, identity])\n",
    "        x = layers.Activation('relu')(x)\n",
    "        return x\n",
    "    \n",
    "    x = layers.Conv2D(64, 3, strides=1, padding='same', kernel_initializer='he_normal')(inputs)\n",
    "    x = layers.BatchNormalization()(x)\n",
    "    x = layers.Activation('relu')(x)\n",
    "    x = basicblock(x, 64, False)\n",
    "    x = basicblock(x, 64, False)\n",
    "    x = basicblock(x, 128, True)\n",
    "    x = basicblock(x, 128, False)\n",
    "    x = basicblock(x, 256, True)\n",
    "    x = basicblock(x, 256, False)\n",
    "    x = basicblock(x, 512, True)\n",
    "    x = basicblock(x, 512, False)\n",
    "    x = layers.GlobalAveragePooling2D()(x)\n",
    "    outputs = layers.Dense(num_classes, activation='softmax')(x)\n",
    "    return keras.Model(inputs=inputs, outputs=outputs)"
   ]
  },
  {
   "cell_type": "code",
   "execution_count": null,
   "id": "db7d07b8",
   "metadata": {},
   "outputs": [],
   "source": [
    "model = make_resnet18()\n",
    "(x_train, y_train), (x_test, y_test) = load_cifar100()"
   ]
  },
  {
   "cell_type": "code",
   "execution_count": null,
   "id": "e2a57494",
   "metadata": {},
   "outputs": [],
   "source": [
    "model.compile(\n",
    "    optimizer=(\n",
    "        keras.mixed_precision.LossScaleOptimizer(\n",
    "            keras.optimizers.SGD(learning_rate=1e-1, momentum=0.9))\n",
    "        if MIX_PRECISION_FLAG\n",
    "        else keras.optimizers.SGD(learning_rate=1e-1, momentum=0.9)),\n",
    "    loss=keras.losses.CategoricalCrossentropy(),\n",
    "    metrics=['accuracy'],\n",
    "    jit_compile=True\n",
    ")"
   ]
  },
  {
   "cell_type": "code",
   "execution_count": null,
   "id": "c4daa532",
   "metadata": {},
   "outputs": [],
   "source": [
    "datagen = keras.preprocessing.image.ImageDataGenerator(\n",
    "    width_shift_range=0.1,\n",
    "    height_shift_range=0.1,\n",
    "    horizontal_flip=True\n",
    ")"
   ]
  },
  {
   "cell_type": "code",
   "execution_count": null,
   "id": "167c7f6b",
   "metadata": {},
   "outputs": [],
   "source": [
    "workers = 2\n",
    "epochs = 10\n",
    "batch_size = 500\n",
    "validation_batch_size = 1000"
   ]
  },
  {
   "cell_type": "code",
   "execution_count": null,
   "id": "68bed350",
   "metadata": {},
   "outputs": [],
   "source": [
    "logs = model.fit(\n",
    "    datagen.flow(x_train, y_train, batch_size=batch_size),\n",
    "    epochs=epochs,\n",
    "    verbose=2,\n",
    "    validation_data=(x_test, y_test),\n",
    "    validation_batch_size=validation_batch_size,\n",
    "    workers=workers\n",
    ")"
   ]
  },
  {
   "cell_type": "code",
   "execution_count": null,
   "id": "a608d99e",
   "metadata": {},
   "outputs": [],
   "source": [
    "logs.history"
   ]
  },
  {
   "cell_type": "code",
   "execution_count": null,
   "id": "427b6f83",
   "metadata": {},
   "outputs": [],
   "source": []
  }
 ],
 "metadata": {
  "kernelspec": {
   "display_name": "Python 3 (ipykernel)",
   "language": "python",
   "name": "python3"
  },
  "language_info": {
   "codemirror_mode": {
    "name": "ipython",
    "version": 3
   },
   "file_extension": ".py",
   "mimetype": "text/x-python",
   "name": "python",
   "nbconvert_exporter": "python",
   "pygments_lexer": "ipython3",
   "version": "3.10.8"
  }
 },
 "nbformat": 4,
 "nbformat_minor": 5
}
