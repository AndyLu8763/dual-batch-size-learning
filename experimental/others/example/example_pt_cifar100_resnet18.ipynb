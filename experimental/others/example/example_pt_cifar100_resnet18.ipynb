{
 "cells": [
  {
   "cell_type": "code",
   "execution_count": null,
   "id": "819b1f7a",
   "metadata": {},
   "outputs": [],
   "source": [
    "import torch\n",
    "from torch import autocast, nn, optim\n",
    "from torchvision import datasets, models, transforms"
   ]
  },
  {
   "cell_type": "code",
   "execution_count": null,
   "id": "5c25c963",
   "metadata": {},
   "outputs": [],
   "source": [
    "AUTOCAST_FLAG = True\n",
    "COMPILE_FLAG = True\n",
    "num_workers = 2\n",
    "epochs = 5\n",
    "batch_size = 100\n",
    "eval_batch_size = 1000"
   ]
  },
  {
   "cell_type": "code",
   "execution_count": null,
   "id": "fd001a5d",
   "metadata": {},
   "outputs": [],
   "source": [
    "root = '~/.pytorch/datasets/'\n",
    "device = torch.device(f'cuda:{torch.cuda.device_count() - 1}' if torch.cuda.is_available() else 'cpu')\n",
    "print(f'Device: {device}, Type: {device.type}')"
   ]
  },
  {
   "cell_type": "code",
   "execution_count": null,
   "id": "6ac34bec",
   "metadata": {},
   "outputs": [],
   "source": [
    "mean = torch.tensor([129.3, 124.1, 112.4]) / 255\n",
    "std = torch.tensor([68.2, 65.4, 70.4]) / 255\n",
    "\n",
    "transform = {\n",
    "    'train': transforms.Compose([\n",
    "        transforms.ToTensor(),\n",
    "        transforms.Normalize(mean, std),\n",
    "        transforms.RandomCrop(32, padding=4, padding_mode='constant'),\n",
    "        transforms.RandomHorizontalFlip()\n",
    "    ]),\n",
    "    'eval': transforms.Compose([\n",
    "        transforms.ToTensor(),\n",
    "        transforms.Normalize(mean, std)\n",
    "    ])\n",
    "}\n",
    "\n",
    "dataset = {\n",
    "    'train': datasets.CIFAR100(root=root, train=True, download=True, transform=transform['train']),\n",
    "    'test': datasets.CIFAR100(root=root, train=False, download=True, transform=transform['eval'])\n",
    "}\n",
    "\n",
    "dataloader = {\n",
    "    'train': torch.utils.data.DataLoader(\n",
    "        dataset['train'], batch_size=batch_size, shuffle=True, num_workers=num_workers\n",
    "    ),\n",
    "    'test': torch.utils.data.DataLoader(\n",
    "        dataset['test'], batch_size=eval_batch_size, num_workers=num_workers\n",
    "    )\n",
    "}"
   ]
  },
  {
   "cell_type": "code",
   "execution_count": null,
   "id": "7ca7f94e",
   "metadata": {},
   "outputs": [],
   "source": [
    "model = models.resnet18()\n",
    "model.conv1 = nn.Conv2d(3, 64, kernel_size=(3, 3), stride=(1, 1), padding=(1, 1), bias=False)\n",
    "model.maxpool = nn.Sequential()\n",
    "model.fc = nn.Linear(in_features=512, out_features=100, bias=True)\n",
    "model = model.to(device)"
   ]
  },
  {
   "cell_type": "code",
   "execution_count": null,
   "id": "656161da",
   "metadata": {},
   "outputs": [],
   "source": [
    "scaler = torch.cuda.amp.GradScaler(enabled=True if device.type=='cuda' and AUTOCAST_FLAG else False)\n",
    "# compile_mode: 'default', 'reduce-overhead', 'max-autotune'\n",
    "model = torch.compile(model, mode='default', fullgraph=True, disable=not COMPILE_FLAG)"
   ]
  },
  {
   "cell_type": "code",
   "execution_count": null,
   "id": "516ee4c1",
   "metadata": {},
   "outputs": [],
   "source": [
    "criterion = nn.CrossEntropyLoss()\n",
    "optimizer = optim.SGD(model.parameters(), lr=1e-1, momentum=0.9, weight_decay=1e-4)\n",
    "scheduler = optim.lr_scheduler.StepLR(optimizer, step_size=25, gamma=0.2)"
   ]
  },
  {
   "cell_type": "code",
   "execution_count": null,
   "id": "6eb462c6",
   "metadata": {},
   "outputs": [],
   "source": [
    "def train_step(model, dataset, dataloader, AUTOCAST_FLAG=False):\n",
    "    record_loss, record_acc = 0, 0\n",
    "    model.train()\n",
    "    for i, data in enumerate(dataloader):\n",
    "        # load data\n",
    "        inputs = data[0].to(device)\n",
    "        labels = data[1].to(device)\n",
    "        # compute\n",
    "        optimizer.zero_grad()\n",
    "        with autocast(device.type, enabled=AUTOCAST_FLAG):\n",
    "            outputs = model(inputs)\n",
    "            loss = criterion(outputs, labels)\n",
    "        scaler.scale(loss).backward()\n",
    "        scaler.step(optimizer)\n",
    "        scaler.update()\n",
    "        # record\n",
    "        predict_labels = torch.max(outputs, dim=1).indices\n",
    "        record_loss += loss.item()\n",
    "        record_acc += torch.sum(labels==predict_labels).item()\n",
    "    record_loss /= len(dataloader)\n",
    "    record_acc /= len(dataset)\n",
    "    return record_loss, record_acc\n",
    "\n",
    "def eval_step(model, dataset, dataloader, AUTOCAST_FLAG=False):\n",
    "    record_loss, record_acc = 0, 0\n",
    "    model.eval()\n",
    "    with torch.no_grad():\n",
    "        for i, data in enumerate(dataloader):\n",
    "            # load data\n",
    "            inputs = data[0].to(device)\n",
    "            labels = data[1].to(device)\n",
    "            # compute\n",
    "            with autocast(device.type, enabled=AUTOCAST_FLAG):\n",
    "                outputs = model(inputs)\n",
    "                loss = criterion(outputs, labels)\n",
    "            # record\n",
    "            predict_labels = torch.max(outputs, dim=1).indices\n",
    "            record_loss += loss.item()\n",
    "            record_acc += torch.sum(labels==predict_labels).item()\n",
    "    record_loss /= len(dataloader)\n",
    "    record_acc /= len(dataset)\n",
    "    return record_loss, record_acc"
   ]
  },
  {
   "cell_type": "code",
   "execution_count": null,
   "id": "341ec9e9",
   "metadata": {},
   "outputs": [],
   "source": [
    "def timed(fn):\n",
    "    start = torch.cuda.Event(enable_timing=True)\n",
    "    end = torch.cuda.Event(enable_timing=True)\n",
    "    start.record()\n",
    "    result = fn()\n",
    "    end.record()\n",
    "    torch.cuda.synchronize()\n",
    "    return result, start.elapsed_time(end) / 1000"
   ]
  },
  {
   "cell_type": "code",
   "execution_count": null,
   "id": "8da9051b",
   "metadata": {},
   "outputs": [],
   "source": [
    "for epoch in range(epochs):\n",
    "    # train\n",
    "    result, time_cost = timed(\n",
    "        lambda: train_step(model, dataset['train'], dataloader['train'], AUTOCAST_FLAG)\n",
    "    )\n",
    "    train_loss, train_acc = result\n",
    "    # eval\n",
    "    test_loss, test_acc = eval_step(model, dataset['test'], dataloader['test'], AUTOCAST_FLAG)\n",
    "    # print results\n",
    "    print('----')\n",
    "    print(f'epoch {epoch}')\n",
    "    print(f'AUTOCAST: {AUTOCAST_FLAG}, COMPILE: {COMPILE_FLAG}')\n",
    "    print(f'time_cost: {time_cost}')\n",
    "    print(f'batch_size: {batch_size}')\n",
    "    print(f'learning_rate: {scheduler.get_last_lr()}')\n",
    "    print(f'train_loss: {train_loss}, train_acc: {train_acc}')\n",
    "    print(f'test_loss: {test_loss}, test_acc: {test_acc}')\n",
    "    print('----')\n",
    "    # scheduler\n",
    "    scheduler.step()"
   ]
  },
  {
   "cell_type": "code",
   "execution_count": null,
   "id": "304d4634",
   "metadata": {},
   "outputs": [],
   "source": []
  }
 ],
 "metadata": {
  "kernelspec": {
   "display_name": "Python 3 (ipykernel)",
   "language": "python",
   "name": "python3"
  },
  "language_info": {
   "codemirror_mode": {
    "name": "ipython",
    "version": 3
   },
   "file_extension": ".py",
   "mimetype": "text/x-python",
   "name": "python",
   "nbconvert_exporter": "python",
   "pygments_lexer": "ipython3",
   "version": "3.10.9"
  }
 },
 "nbformat": 4,
 "nbformat_minor": 5
}
