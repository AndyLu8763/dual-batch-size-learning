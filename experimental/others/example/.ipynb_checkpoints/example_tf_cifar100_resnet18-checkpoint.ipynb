{
 "cells": [
  {
   "cell_type": "code",
   "execution_count": null,
   "id": "43adf4cb",
   "metadata": {},
   "outputs": [],
   "source": [
    "import tensorflow as tf\n",
    "from tensorflow import keras\n",
    "from tensorflow.keras import layers\n",
    "from tensorflow.keras import mixed_precision"
   ]
  },
  {
   "cell_type": "code",
   "execution_count": null,
   "id": "ba9fb0fd",
   "metadata": {},
   "outputs": [],
   "source": [
    "# Optimization Setting\n",
    "device_index = -1\n",
    "MIXED_PRECISION_FLAG = True\n",
    "JIT_COMPILE_FLAG = True\n",
    "\n",
    "# Dataloader Setting\n",
    "batch_size = 50\n",
    "seed = None\n",
    "num_parallel_calls = tf.data.AUTOTUNE\n",
    "\n",
    "# Training Setting\n",
    "learning_rate = 1e-3\n",
    "momentum = 0.9\n",
    "epochs = 50"
   ]
  },
  {
   "cell_type": "code",
   "execution_count": null,
   "id": "95d291fa",
   "metadata": {},
   "outputs": [],
   "source": [
    "physical_devices = tf.config.list_physical_devices('GPU')\n",
    "print(f'Numbers of Physical Devices: {len(physical_devices)}')\n",
    "tf.config.set_visible_devices(physical_devices[device_index], 'GPU')\n",
    "tf.config.experimental.set_memory_growth(physical_devices[device_index], True)\n",
    "print(f'Using device: {physical_devices[device_index]}')"
   ]
  },
  {
   "cell_type": "code",
   "execution_count": null,
   "id": "53d768bd",
   "metadata": {},
   "outputs": [],
   "source": [
    "# only TPUs support 'mixed_bfloat16'\n",
    "# if using NVIDIA GPUs, choose 'mixed_float16'\n",
    "if MIXED_PRECISION_FLAG:\n",
    "    policy = mixed_precision.Policy('mixed_float16')\n",
    "    mixed_precision.set_global_policy(policy)\n",
    "    print(f'Policy: {policy.name}')\n",
    "    print(f'Compute dtype: {policy.compute_dtype}')\n",
    "    print(f'Variable dtype: {policy.variable_dtype}')"
   ]
  },
  {
   "cell_type": "code",
   "execution_count": null,
   "id": "260d26e0",
   "metadata": {},
   "outputs": [],
   "source": [
    "def load_cifar(\n",
    "    CIFAR_NAME: str = 'cifar100',\n",
    "    batch_size: int = 500,\n",
    "    seed: int = None,\n",
    "    num_parallel_calls: int = tf.data.AUTOTUNE):\n",
    "    def map_func(image, label, CIFAR_NAME, TRAIN_FLAG):\n",
    "        if CIFAR_NAME == 'cifar10':\n",
    "            mean = [0.49137256, 0.48235294, 0.44666666]\n",
    "            variance = [0.06103806, 0.05930657, 0.06841814]\n",
    "        else:\n",
    "            mean = [0.50705886, 0.48666665, 0.4407843 ]\n",
    "            variance = [0.07153001, 0.06577717, 0.0762193 ]\n",
    "        transform = keras.Sequential([\n",
    "            layers.Rescaling(1/255),\n",
    "            layers.Normalization(mean=mean, variance=variance)])\n",
    "        if TRAIN_FLAG:\n",
    "            transform = keras.Sequential([\n",
    "                transform,\n",
    "                layers.RandomTranslation(height_factor=0.1, width_factor=0.1, fill_mode='constant'),\n",
    "                layers.RandomFlip('horizontal')])\n",
    "        return transform(image), label\n",
    "    \n",
    "    def dataloader(\n",
    "        image, label, CIFAR_NAME, TRAIN_FLAG, batch_size, seed, num_parallel_calls):\n",
    "        return (\n",
    "            tf.data.Dataset.from_tensor_slices((image, label))\n",
    "            .cache()\n",
    "            .shuffle(buffer_size=len(label), seed=seed)\n",
    "            .map(\n",
    "                lambda x, y: (map_func(x, y, CIFAR_NAME, TRAIN_FLAG)),\n",
    "                num_parallel_calls=num_parallel_calls)\n",
    "            .batch(batch_size=batch_size)\n",
    "            .prefetch(buffer_size=tf.data.AUTOTUNE))\n",
    "    \n",
    "    if CIFAR_NAME == 'cifar10':\n",
    "        (x_train, y_train), (x_test, y_test) = keras.datasets.cifar10.load_data()\n",
    "    elif CIFAR_NAME == 'cifar100':\n",
    "        (x_train, y_train), (x_test, y_test) = keras.datasets.cifar100.load_data()\n",
    "    else:\n",
    "        print('Wrong inputs, the argument \"CIFAR_NAME\" should be \"cifar10\" or \"cifar100\".')\n",
    "        return None, None\n",
    "    train_dataset = dataloader(\n",
    "        x_train, y_train, CIFAR_NAME, True, batch_size, seed, num_parallel_calls)\n",
    "    test_dataset = dataloader(\n",
    "        x_test, y_test, CIFAR_NAME, False, batch_size, seed, num_parallel_calls)\n",
    "    print(f'load_data: {CIFAR_NAME}')\n",
    "    return train_dataset, test_dataset\n",
    "\n",
    "\n",
    "def make_resnet18(\n",
    "    CIFAR_NAME: str = 'cifar100',\n",
    "    num_classes: int = 100,\n",
    "    inputs: keras.Input = keras.Input(shape=(32, 32, 3))) -> keras.Model:\n",
    "    def basicblock(inputs: keras.Input, filters: int, bottleneck: bool):\n",
    "        if bottleneck:\n",
    "            identity = layers.Conv2D(\n",
    "                filters, 1, strides=2, padding='valid', kernel_initializer='he_normal'\n",
    "            )(inputs)\n",
    "            identity = layers.BatchNormalization()(identity)\n",
    "            x = layers.Conv2D(\n",
    "                filters, 3, strides=2, padding='same', kernel_initializer='he_normal'\n",
    "            )(inputs)\n",
    "        else:\n",
    "            identity = inputs\n",
    "            x = layers.Conv2D(\n",
    "                filters, 3, strides=1, padding='same', kernel_initializer='he_normal'\n",
    "            )(inputs)\n",
    "        x = layers.BatchNormalization()(x)\n",
    "        x = layers.Activation('relu')(x)\n",
    "        x = layers.Conv2D(filters, 3, strides=1, padding='same', kernel_initializer='he_normal')(x)\n",
    "        x = layers.BatchNormalization()(x)\n",
    "        x = layers.Add()([x, identity])\n",
    "        x = layers.Activation('relu')(x)\n",
    "        return x\n",
    "    \n",
    "    x = layers.Conv2D(64, 3, strides=1, padding='same', kernel_initializer='he_normal')(inputs)\n",
    "    x = layers.BatchNormalization()(x)\n",
    "    x = layers.Activation('relu')(x)\n",
    "    x = basicblock(x, 64, False)\n",
    "    x = basicblock(x, 64, False)\n",
    "    x = basicblock(x, 128, True)\n",
    "    x = basicblock(x, 128, False)\n",
    "    x = basicblock(x, 256, True)\n",
    "    x = basicblock(x, 256, False)\n",
    "    x = basicblock(x, 512, True)\n",
    "    x = basicblock(x, 512, False)\n",
    "    x = layers.GlobalAveragePooling2D()(x)\n",
    "    if CIFAR_NAME == 'cifar10':\n",
    "        num_classes = 10\n",
    "    elif CIFAR_NAME == 'cifar100':\n",
    "        num_classes = 100\n",
    "    print(f'resnet18 num_classes = {num_classes}')\n",
    "    outputs = layers.Dense(num_classes, activation='softmax')(x)\n",
    "    return keras.Model(inputs=inputs, outputs=outputs)"
   ]
  },
  {
   "cell_type": "code",
   "execution_count": null,
   "id": "db7d07b8",
   "metadata": {},
   "outputs": [],
   "source": [
    "train_dataset, test_dataset = load_cifar(\n",
    "    'cifar100', batch_size=batch_size, seed=seed, num_parallel_calls=num_parallel_calls)\n",
    "model = make_resnet18('cifar100', num_classes=None)"
   ]
  },
  {
   "cell_type": "code",
   "execution_count": null,
   "id": "e2a57494",
   "metadata": {},
   "outputs": [],
   "source": [
    "model.compile(\n",
    "    optimizer=(\n",
    "        keras.mixed_precision.LossScaleOptimizer(\n",
    "            keras.optimizers.SGD(learning_rate=learning_rate, momentum=momentum)\n",
    "        ) if MIXED_PRECISION_FLAG\n",
    "        else keras.optimizers.SGD(learning_rate=learning_rate, momentum=momentum)),\n",
    "    loss=keras.losses.SparseCategoricalCrossentropy(),\n",
    "    metrics=['accuracy'],\n",
    "    jit_compile=JIT_COMPILE_FLAG\n",
    ")"
   ]
  },
  {
   "cell_type": "code",
   "execution_count": null,
   "id": "e0331191",
   "metadata": {},
   "outputs": [],
   "source": [
    "#log_dir = 'logs/' + datetime.datetime.now().strftime('%Y%m%d-%H%M%S')\n",
    "#tensorboard_callback = tf.keras.callbacks.TensorBoard(log_dir=log_dir)"
   ]
  },
  {
   "cell_type": "code",
   "execution_count": null,
   "id": "68bed350",
   "metadata": {},
   "outputs": [],
   "source": [
    "logs = model.fit(\n",
    "    train_dataset,\n",
    "    epochs=epochs,\n",
    "    verbose=2,\n",
    "    validation_data=test_dataset,\n",
    "    #callbacks=[tensorboard_callback]\n",
    ")"
   ]
  },
  {
   "cell_type": "code",
   "execution_count": null,
   "id": "a608d99e",
   "metadata": {},
   "outputs": [],
   "source": [
    "logs.history"
   ]
  },
  {
   "cell_type": "code",
   "execution_count": null,
   "id": "427b6f83",
   "metadata": {},
   "outputs": [],
   "source": []
  }
 ],
 "metadata": {
  "kernelspec": {
   "display_name": "Python 3 (ipykernel)",
   "language": "python",
   "name": "python3"
  },
  "language_info": {
   "codemirror_mode": {
    "name": "ipython",
    "version": 3
   },
   "file_extension": ".py",
   "mimetype": "text/x-python",
   "name": "python",
   "nbconvert_exporter": "python",
   "pygments_lexer": "ipython3",
   "version": "3.10.8"
  }
 },
 "nbformat": 4,
 "nbformat_minor": 5
}
