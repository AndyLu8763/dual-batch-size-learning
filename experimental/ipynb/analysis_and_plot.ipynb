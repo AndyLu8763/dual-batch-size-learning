{
 "cells": [
  {
   "cell_type": "code",
   "execution_count": null,
   "id": "671019a4",
   "metadata": {},
   "outputs": [],
   "source": [
    "import matplotlib.pyplot as plt\n",
    "import numpy as np\n",
    "from sklearn.linear_model import LinearRegression"
   ]
  },
  {
   "cell_type": "code",
   "execution_count": null,
   "id": "49b81c5e",
   "metadata": {},
   "outputs": [],
   "source": [
    "measurement = {\n",
    "    'c24': np.load('../npy/time_cifar100_resnet18_r24_10_601_10.npy', allow_pickle=True).item(),\n",
    "    'c32': np.load('../npy/time_cifar100_resnet18_r32_10_571_10.npy', allow_pickle=True).item(),\n",
    "    'cx24': np.load('../npy/time_cifar100_resnet18_r24_20_2561_20_xla.npy', allow_pickle=True).item(),\n",
    "    'cx32': np.load('../npy/time_cifar100_resnet18_r32_20_1461_20_xla.npy', allow_pickle=True).item(),\n",
    "    'ia160': np.load('../npy/time_imagenet_resnet18_r160_10_341_10_amp.npy', allow_pickle=True).item(),\n",
    "    'ia224': np.load('../npy/time_imagenet_resnet18_r224_10_161_10_amp.npy', allow_pickle=True).item(),\n",
    "    'ia288': np.load('../npy/time_imagenet_resnet18_r288_10_141_10_amp.npy', allow_pickle=True).item(),\n",
    "    'iax160': np.load('../npy/time_imagenet_resnet18_r160_20_1281_20_amp_xla.npy', allow_pickle=True).item(),\n",
    "    'iax224': np.load('../npy/time_imagenet_resnet18_r224_20_621_20_amp_xla.npy', allow_pickle=True).item(),\n",
    "    'iax288': np.load('../npy/time_imagenet_resnet18_r288_20_301_20_amp_xla.npy', allow_pickle=True).item(),\n",
    "}"
   ]
  },
  {
   "cell_type": "code",
   "execution_count": null,
   "id": "92d9f1cb",
   "metadata": {},
   "outputs": [],
   "source": [
    "for key, value in measurement['c24'].items():\n",
    "    print(key, end=', ')"
   ]
  },
  {
   "cell_type": "code",
   "execution_count": null,
   "id": "e0e94479",
   "metadata": {},
   "outputs": [],
   "source": [
    "for key, value in measurement.items():\n",
    "    validation_tuple = (\n",
    "        value['batch_size'][0],\n",
    "        value['batch_size'][-1] + 1,\n",
    "        value['batch_size'][1] - value['batch_size'][0],\n",
    "    )\n",
    "    if validation_tuple != value['sss']:\n",
    "        raise ValueError(\n",
    "            f'for the file \"{key}\", '\n",
    "            f'\"validation_tuple\" {validation_tuple} and \"sss\" {value[\"sss\"]} are mismatched'\n",
    "        )\n",
    "    print(key, value['sss'])"
   ]
  },
  {
   "cell_type": "code",
   "execution_count": null,
   "id": "9c25decb",
   "metadata": {},
   "outputs": [],
   "source": [
    "reg_model = {}\n",
    "\n",
    "for key, value in measurement.items():\n",
    "    reg_model[key] = LinearRegression().fit(\n",
    "        np.array(value['batch_size']).reshape(-1, 1),\n",
    "        value['avg_train_time'],\n",
    "    )\n",
    "    print(key, reg_model[key].intercept_, reg_model[key].coef_)"
   ]
  },
  {
   "cell_type": "code",
   "execution_count": null,
   "id": "b372799c",
   "metadata": {},
   "outputs": [],
   "source": [
    "type(reg_model['c24'].coef_[0])"
   ]
  },
  {
   "cell_type": "code",
   "execution_count": null,
   "id": "10c010ec",
   "metadata": {},
   "outputs": [],
   "source": [
    "prediction = {}\n",
    "\n",
    "for key, value in reg_model.items():\n",
    "    prediction[key] = {\n",
    "        'batch_size': np.arange(1, measurement[key]['batch_size'][-1] + 1),\n",
    "    }\n",
    "    prediction[key]['batch_time'] = value.predict(prediction[key]['batch_size'].reshape(-1, 1))\n",
    "    if 'c' in key: # cifar\n",
    "        prediction[key]['epoch_time'] = (\n",
    "            prediction[key]['batch_time'] * np.ceil(50000 / prediction[key]['batch_size'])\n",
    "        )\n",
    "    elif 'i' in key: # imagenet\n",
    "        prediction[key]['epoch_time'] = (\n",
    "            prediction[key]['batch_time'] * np.ceil(1281167 / prediction[key]['batch_size'])\n",
    "        )\n",
    "    else:\n",
    "        prediction[key]['epoch_time'] = None"
   ]
  },
  {
   "cell_type": "code",
   "execution_count": null,
   "id": "505782c1",
   "metadata": {},
   "outputs": [],
   "source": [
    "DPI = 72 # [72, 150, 240, 300]"
   ]
  },
  {
   "cell_type": "code",
   "execution_count": null,
   "id": "73e82e64",
   "metadata": {},
   "outputs": [],
   "source": [
    "plt.figure(dpi=DPI)\n",
    "for key, value in measurement.items():\n",
    "    if 'c' in key:\n",
    "        plt.plot(value['batch_size'], value['avg_train_time'], label=key + ', measurement')\n",
    "for key, value in prediction.items():\n",
    "    if 'c' in key:\n",
    "        plt.plot(value['batch_size'], value['batch_time'], '--', label=key + ', prediction')\n",
    "plt.title('Training CIFAR-100 on ResNet-18')\n",
    "plt.xlabel('Batch Size')\n",
    "plt.ylabel('Training Time for a Batch (sec)')\n",
    "plt.legend()\n",
    "plt.show()"
   ]
  },
  {
   "cell_type": "code",
   "execution_count": null,
   "id": "c9e8105b",
   "metadata": {},
   "outputs": [],
   "source": [
    "plt.figure(dpi=DPI)\n",
    "for key, value in measurement.items():\n",
    "    if 'i' in key:\n",
    "        plt.plot(value['batch_size'], value['avg_train_time'], label=key + ', measurement')\n",
    "for key, value in prediction.items():\n",
    "    if 'i' in key:\n",
    "        plt.plot(value['batch_size'], value['batch_time'], '--', label=key + ', prediction')\n",
    "plt.title('Training ImageNet on ResNet-18')\n",
    "plt.xlabel('Batch Size')\n",
    "plt.ylabel('Training Time for a Batch (sec)')\n",
    "plt.legend()\n",
    "plt.show()"
   ]
  },
  {
   "cell_type": "code",
   "execution_count": null,
   "id": "c62429a3",
   "metadata": {},
   "outputs": [],
   "source": [
    "plt.figure(dpi=DPI)\n",
    "for key, value in prediction.items():\n",
    "    if 'c' in key:\n",
    "        plt.plot(value['batch_size'], value['epoch_time'], label=key + ', prediction')\n",
    "plt.title('Training CIFAR-100 on ResNet-18')\n",
    "plt.xlabel('Batch Size')\n",
    "plt.ylabel('Training Time for an Epoch (sec)')\n",
    "plt.legend()\n",
    "plt.show()"
   ]
  },
  {
   "cell_type": "code",
   "execution_count": null,
   "id": "db85733d",
   "metadata": {},
   "outputs": [],
   "source": [
    "plt.figure(dpi=DPI)\n",
    "for key, value in prediction.items():\n",
    "    if 'i' in key:\n",
    "        plt.plot(value['batch_size'], value['epoch_time'], label=key + ', prediction')\n",
    "plt.title('Training ImageNet on ResNet-18')\n",
    "plt.xlabel('Batch Size')\n",
    "plt.ylabel('Training Time for an Epoch (sec)')\n",
    "plt.legend()\n",
    "plt.show()"
   ]
  },
  {
   "cell_type": "code",
   "execution_count": null,
   "id": "daa1ec89",
   "metadata": {},
   "outputs": [],
   "source": [
    "min_time_index = np.argmin(prediction['iax160']['epoch_time'])\n",
    "print('prediction training time (batch_size, epoch_time)')\n",
    "print(\n",
    "    'min_time',\n",
    "    prediction['iax160']['batch_size'][min_time_index],\n",
    "    prediction['iax160']['epoch_time'][min_time_index],\n",
    ")\n",
    "print(\n",
    "    'last_time',\n",
    "    prediction['iax160']['batch_size'][-1],\n",
    "    prediction['iax160']['epoch_time'][-1],\n",
    ")"
   ]
  },
  {
   "cell_type": "code",
   "execution_count": null,
   "id": "a025679d",
   "metadata": {},
   "outputs": [],
   "source": []
  }
 ],
 "metadata": {
  "kernelspec": {
   "display_name": "Python 3 (ipykernel)",
   "language": "python",
   "name": "python3"
  },
  "language_info": {
   "codemirror_mode": {
    "name": "ipython",
    "version": 3
   },
   "file_extension": ".py",
   "mimetype": "text/x-python",
   "name": "python",
   "nbconvert_exporter": "python",
   "pygments_lexer": "ipython3",
   "version": "3.11.7"
  }
 },
 "nbformat": 4,
 "nbformat_minor": 5
}
