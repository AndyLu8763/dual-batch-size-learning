{
 "cells": [
  {
   "cell_type": "code",
   "execution_count": null,
   "id": "840bebed",
   "metadata": {},
   "outputs": [],
   "source": [
    "import time\n",
    "\n",
    "import numpy as np\n",
    "import torch\n",
    "import torch.nn as nn\n",
    "import torch.optim as optim\n",
    "from torchvision import datasets, models, transforms"
   ]
  },
  {
   "cell_type": "code",
   "execution_count": null,
   "id": "6953aab4",
   "metadata": {},
   "outputs": [],
   "source": [
    "root = '~/.pytorch/datasets/'\n",
    "device = torch.device('cuda:0' if torch.cuda.is_available() else 'cpu')"
   ]
  },
  {
   "cell_type": "code",
   "execution_count": null,
   "id": "5e04d83c",
   "metadata": {},
   "outputs": [],
   "source": [
    "mean = torch.tensor([129.3, 124.1, 112.4]) / 255\n",
    "std = torch.tensor([68.2, 65.4, 70.4]) / 255\n",
    "\n",
    "train_transform = transforms.Compose(\n",
    "    [transforms.ToTensor(),\n",
    "     transforms.Normalize(mean, std),\n",
    "     transforms.RandomCrop(32, padding=4, padding_mode='constant'),\n",
    "     transforms.RandomHorizontalFlip()])\n",
    "eval_transform = transforms.Compose(\n",
    "    [transforms.ToTensor(),\n",
    "     transforms.Normalize(mean, std)])\n",
    "\n",
    "trainset = datasets.CIFAR100(root=root, train=True, download=True, transform=train_transform)\n",
    "testset = datasets.CIFAR100(root=root, train=False, download=True, transform=eval_transform)"
   ]
  },
  {
   "cell_type": "code",
   "execution_count": null,
   "id": "2112096d",
   "metadata": {},
   "outputs": [],
   "source": [
    "model = models.resnet18()\n",
    "model.conv1 = nn.Conv2d(3, 64, kernel_size=(3, 3), stride=(1, 1), padding=(1, 1), bias=False)\n",
    "model.maxpool = nn.Sequential()\n",
    "model.fc = nn.Linear(in_features=512, out_features=100, bias=True)\n",
    "model = model.to(device)"
   ]
  },
  {
   "cell_type": "code",
   "execution_count": null,
   "id": "fd597181",
   "metadata": {},
   "outputs": [],
   "source": [
    "criterion = nn.CrossEntropyLoss()\n",
    "optimizer = optim.SGD(model.parameters(), lr=1e-1, momentum=0.9, weight_decay=0)\n",
    "#scheduler = optim.lr_scheduler.StepLR(optimizer, step_size=25, gamma=0.5)"
   ]
  },
  {
   "cell_type": "code",
   "execution_count": null,
   "id": "723eaa12",
   "metadata": {},
   "outputs": [],
   "source": [
    "num_workers = 2"
   ]
  },
  {
   "cell_type": "code",
   "execution_count": null,
   "id": "d5d197ea",
   "metadata": {},
   "outputs": [],
   "source": [
    "start_batch = 1\n",
    "stop_batch = 1000 + 1\n",
    "step = 1\n",
    "record_train_time = np.zeros((stop_batch - start_batch) // step + 1)"
   ]
  },
  {
   "cell_type": "code",
   "execution_count": null,
   "id": "81c93dad",
   "metadata": {},
   "outputs": [],
   "source": [
    "counter = 0\n",
    "for batch_size in range(start_batch, stop_batch, step):\n",
    "    # start\n",
    "    record_train_time[counter] = time.time()\n",
    "    # dataloader\n",
    "    trainloader = torch.utils.data.DataLoader(\n",
    "        trainset,\n",
    "        batch_size=batch_size,\n",
    "        shuffle=True,\n",
    "        num_workers=num_workers\n",
    "    )\n",
    "    # loss acc initialization\n",
    "    train_loss, train_acc = 0, 0\n",
    "    #train\n",
    "    model.train()\n",
    "    for i, data in enumerate(trainloader):\n",
    "        # load data\n",
    "        inputs = data[0].to(device)\n",
    "        labels = data[1].to(device)\n",
    "        # compute\n",
    "        optimizer.zero_grad()\n",
    "        outputs = model(inputs)\n",
    "        loss = criterion(outputs, labels)\n",
    "        loss.backward()\n",
    "        optimizer.step()\n",
    "        # record\n",
    "        predict_labels = torch.max(outputs, dim=1).indices\n",
    "        train_loss += loss.item()\n",
    "        train_acc += torch.sum(labels==predict_labels).item()\n",
    "    train_loss /= len(trainloader)\n",
    "    train_acc /= len(trainset)\n",
    "    print(f'train_loss: {train_loss}, train_acc: {train_acc}')\n",
    "    # end\n",
    "    record_train_time[counter] = time.time() - record_train_time[counter]\n",
    "    counter += 1"
   ]
  },
  {
   "cell_type": "code",
   "execution_count": null,
   "id": "348d885b",
   "metadata": {},
   "outputs": [],
   "source": [
    "np.save(f'pt_train_time_{start_batch}_{stop_batch}_{step}.npy', record_train_time)"
   ]
  },
  {
   "cell_type": "code",
   "execution_count": null,
   "id": "fbc81d00",
   "metadata": {},
   "outputs": [],
   "source": []
  }
 ],
 "metadata": {
  "kernelspec": {
   "display_name": "Python 3 (ipykernel)",
   "language": "python",
   "name": "python3"
  },
  "language_info": {
   "codemirror_mode": {
    "name": "ipython",
    "version": 3
   },
   "file_extension": ".py",
   "mimetype": "text/x-python",
   "name": "python",
   "nbconvert_exporter": "python",
   "pygments_lexer": "ipython3",
   "version": "3.10.6"
  }
 },
 "nbformat": 4,
 "nbformat_minor": 5
}
