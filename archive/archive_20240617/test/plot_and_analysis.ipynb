{
 "cells": [
  {
   "cell_type": "code",
   "execution_count": null,
   "id": "b7bc7959",
   "metadata": {},
   "outputs": [],
   "source": [
    "import matplotlib.pyplot as plt\n",
    "import numpy as np\n",
    "import scipy\n",
    "from sklearn.linear_model import LinearRegression"
   ]
  },
  {
   "cell_type": "code",
   "execution_count": null,
   "id": "b718653c",
   "metadata": {},
   "outputs": [],
   "source": [
    "DPI = 90\n",
    "SAVE = False\n",
    "label = ['gpu01', 'gpu02', 'gpu03', 'gpu04']"
   ]
  },
  {
   "cell_type": "markdown",
   "id": "85a0c544",
   "metadata": {},
   "source": [
    "### Time"
   ]
  },
  {
   "cell_type": "code",
   "execution_count": null,
   "id": "ff3ed1fc",
   "metadata": {},
   "outputs": [],
   "source": [
    "batch_sizes = np.arange(1, 513)\n",
    "batch_sizes_4x = np.arange(4, 2049, 4)"
   ]
  },
  {
   "cell_type": "code",
   "execution_count": null,
   "id": "975bd5a0",
   "metadata": {},
   "outputs": [],
   "source": [
    "te_32_1 = []\n",
    "te_16_4 = []\n",
    "\n",
    "for i in label:\n",
    "    te_32_1.append(np.load(f'./temp/time_cResNetOld18_s32_b1_e512_g1_{i}.npy'))\n",
    "    te_16_4.append(np.load(f'./temp/time_cResNetOld18_s16_b4_e2048_g4_{i}.npy'))\n",
    "\n",
    "tb_32_1 = []\n",
    "tb_16_4 = []\n",
    "for i, j in zip(te_32_1, te_16_4):\n",
    "    tb_32_1.append(i / np.ceil(50000 / batch_sizes))\n",
    "    tb_16_4.append(j / np.ceil(50000 / batch_sizes_4x))"
   ]
  },
  {
   "cell_type": "code",
   "execution_count": null,
   "id": "a6d6bf38",
   "metadata": {},
   "outputs": [],
   "source": [
    "te_avg_32_1 = np.average(te_32_1, axis=0)\n",
    "te_avg_16_4 = np.average(te_16_4, axis=0)\n",
    "\n",
    "tb_avg_32_1 = np.average(tb_32_1, axis=0)\n",
    "tb_avg_16_4 = np.average(tb_16_4, axis=0)"
   ]
  },
  {
   "cell_type": "code",
   "execution_count": null,
   "id": "87a50e65",
   "metadata": {},
   "outputs": [],
   "source": [
    "reg_model_32_1 = LinearRegression().fit(batch_sizes.reshape(-1,1), tb_avg_32_1)\n",
    "reg_model_16_4 = LinearRegression().fit(batch_sizes_4x.reshape(-1,1), tb_avg_16_4)\n",
    "\n",
    "print(reg_model_32_1.intercept_, reg_model_32_1.coef_)\n",
    "print(reg_model_16_4.intercept_, reg_model_16_4.coef_)\n",
    "print(reg_model_32_1.coef_ / reg_model_16_4.coef_)"
   ]
  },
  {
   "cell_type": "code",
   "execution_count": null,
   "id": "d8dc9822",
   "metadata": {},
   "outputs": [],
   "source": [
    "tb_predict_32_1 = reg_model_32_1.predict(batch_sizes.reshape(-1,1))\n",
    "tb_predict_16_4 = reg_model_16_4.predict(batch_sizes_4x.reshape(-1,1))\n",
    "\n",
    "te_predict_32_1 = tb_predict_32_1 * np.ceil(50000 / batch_sizes)\n",
    "te_predict_16_4 = tb_predict_16_4 * np.ceil(50000 / batch_sizes_4x)"
   ]
  },
  {
   "cell_type": "code",
   "execution_count": null,
   "id": "14520910",
   "metadata": {},
   "outputs": [],
   "source": [
    "plt.figure(dpi=DPI)\n",
    "plt.plot(batch_sizes, tb_avg_32_1, label='measurement_32_1')\n",
    "plt.plot(batch_sizes, tb_predict_32_1, '--', label='prediction_32_1')\n",
    "plt.plot(batch_sizes_4x, tb_avg_16_4, label='measurement_16_4')\n",
    "plt.plot(batch_sizes_4x, tb_predict_16_4, '--', label='prediction_16_4')\n",
    "plt.xlabel('Batch Size')\n",
    "plt.ylabel('Time')\n",
    "plt.title('Training Time for a Batch')\n",
    "plt.legend()\n",
    "if SAVE:\n",
    "    plt.savefig('train_time_a_batch.png', transparent=True)\n",
    "plt.show()"
   ]
  },
  {
   "cell_type": "code",
   "execution_count": null,
   "id": "1bcaa6c5",
   "metadata": {},
   "outputs": [],
   "source": [
    "plt.figure(dpi=DPI)\n",
    "plt.plot(batch_sizes, te_avg_32_1, label='measurement_32_1')\n",
    "plt.plot(batch_sizes, te_predict_32_1, '--', label='prediction_32_1')\n",
    "plt.plot(batch_sizes_4x, te_avg_16_4, label='measurement_16_4')\n",
    "plt.plot(batch_sizes_4x, te_predict_16_4, '--', label='prediction_16_4')\n",
    "plt.xlabel('Batch Size')\n",
    "plt.ylabel('Time')\n",
    "plt.title('Training Time for an Epoch')\n",
    "plt.legend()\n",
    "if SAVE:\n",
    "    plt.savefig('train_time_an_epoch.png', transparent=True)\n",
    "plt.show()"
   ]
  },
  {
   "cell_type": "markdown",
   "id": "2f5b851b",
   "metadata": {},
   "source": [
    "### Result"
   ]
  },
  {
   "cell_type": "code",
   "execution_count": null,
   "id": "1bc0fd66",
   "metadata": {},
   "outputs": [],
   "source": [
    "result_origin = []\n",
    "result_progressive = []\n",
    "\n",
    "'''\n",
    "log = {\n",
    "    'epoch': [],\n",
    "    'batch_size': [],\n",
    "    'time_cost': [],\n",
    "    'train_loss': [],\n",
    "    'train_acc': [],\n",
    "    'test_loss': [],\n",
    "    'test_acc': []\n",
    "}\n",
    "'''\n",
    "\n",
    "for i in label:\n",
    "    result_origin.append(np.load(f'./temp/results_origin_{i}.npy', allow_pickle=True).item())\n",
    "    result_progressive.append(np.load(f'./temp/results_progressive_{i}.npy', allow_pickle=True).item())"
   ]
  },
  {
   "cell_type": "code",
   "execution_count": null,
   "id": "39cad2d7",
   "metadata": {},
   "outputs": [],
   "source": [
    "result_origin_time_cum_sum = []\n",
    "result_progressive_time_cum_sum = []\n",
    "\n",
    "for i, j in zip(result_origin, result_progressive):\n",
    "    result_origin_time_cum_sum.append(np.cumsum(i['time_cost']))\n",
    "    result_progressive_time_cum_sum.append(np.cumsum(j['time_cost']))"
   ]
  },
  {
   "cell_type": "code",
   "execution_count": null,
   "id": "9cecf4e3",
   "metadata": {},
   "outputs": [],
   "source": [
    "acc_origin = []\n",
    "acc_progressive = []\n",
    "\n",
    "for i, j in zip(result_origin, result_progressive):\n",
    "    acc_origin.append(i['test_acc'][-1])\n",
    "    acc_progressive.append(j['test_acc'][-1])\n",
    "\n",
    "print(np.average(acc_origin), np.max(acc_origin) - np.average(acc_origin))\n",
    "print(np.average(acc_progressive), np.max(acc_progressive) - np.average(acc_progressive))"
   ]
  },
  {
   "cell_type": "code",
   "execution_count": null,
   "id": "b1e4becf",
   "metadata": {},
   "outputs": [],
   "source": [
    "time_origin = []\n",
    "time_progressive = []\n",
    "\n",
    "for i, j in zip(result_origin_time_cum_sum, result_progressive_time_cum_sum):\n",
    "    time_origin.append(i[-1])\n",
    "    time_progressive.append(j[-1])\n",
    "    #print(i[-1], j[-1])\n",
    "\n",
    "print(np.average(time_origin), np.max(time_origin) - np.average(time_origin))\n",
    "print(np.average(time_progressive), np.max(time_progressive) - np.average(time_progressive))"
   ]
  },
  {
   "cell_type": "code",
   "execution_count": null,
   "id": "f97d0e73",
   "metadata": {},
   "outputs": [],
   "source": [
    "index = 3\n",
    "plt.figure(dpi=DPI)\n",
    "plt.plot(\n",
    "    result_origin_time_cum_sum[index], result_origin[index]['test_acc'],\n",
    "    label='origin', #linewidth=1\n",
    ")\n",
    "plt.plot(\n",
    "    result_progressive_time_cum_sum[index], result_progressive[index]['test_acc'],\n",
    "    label='progressive', #linewidth=1\n",
    ")\n",
    "plt.xlabel('Time')\n",
    "plt.ylabel('Testing Accuracy')\n",
    "plt.title(f'Testing Accuracy on gpu0{index+1}')\n",
    "plt.legend()\n",
    "if SAVE:\n",
    "    plt.savefig(f'result_acc_gpu0{index+1}.png', transparent=True)\n",
    "plt.show()"
   ]
  },
  {
   "cell_type": "code",
   "execution_count": null,
   "id": "b1678902",
   "metadata": {},
   "outputs": [],
   "source": [
    "index = 3\n",
    "plt.figure(dpi=DPI)\n",
    "plt.plot(\n",
    "    result_origin_time_cum_sum[index], result_origin[index]['test_loss'],\n",
    "    label='origin', #linewidth=1\n",
    ")\n",
    "plt.plot(\n",
    "    result_progressive_time_cum_sum[index], result_progressive[index]['test_loss'],\n",
    "    label='progressive', #linewidth=1\n",
    ")\n",
    "plt.xlabel('Time')\n",
    "plt.ylabel('Testing Loss')\n",
    "plt.title(f'Testing Loss on gpu0{index+1}')\n",
    "plt.legend()\n",
    "if SAVE:\n",
    "    plt.savefig(f'result_loss_gpu0{index+1}.png', transparent=True)\n",
    "plt.show()"
   ]
  },
  {
   "cell_type": "code",
   "execution_count": null,
   "id": "46827f5a",
   "metadata": {},
   "outputs": [],
   "source": []
  }
 ],
 "metadata": {
  "kernelspec": {
   "display_name": "Python 3 (ipykernel)",
   "language": "python",
   "name": "python3"
  },
  "language_info": {
   "codemirror_mode": {
    "name": "ipython",
    "version": 3
   },
   "file_extension": ".py",
   "mimetype": "text/x-python",
   "name": "python",
   "nbconvert_exporter": "python",
   "pygments_lexer": "ipython3",
   "version": "3.11.7"
  }
 },
 "nbformat": 4,
 "nbformat_minor": 5
}
