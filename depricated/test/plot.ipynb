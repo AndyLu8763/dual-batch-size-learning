{
 "cells": [
  {
   "cell_type": "code",
   "execution_count": 1,
   "id": "980c6872",
   "metadata": {},
   "outputs": [],
   "source": [
    "import matplotlib.pyplot as plt\n",
    "import numpy as np\n",
    "import scipy\n",
    "from sklearn.linear_model import LinearRegression"
   ]
  },
  {
   "cell_type": "markdown",
   "id": "a1ba6412",
   "metadata": {},
   "source": [
    "### New"
   ]
  },
  {
   "cell_type": "code",
   "execution_count": 2,
   "id": "dda5491b",
   "metadata": {},
   "outputs": [],
   "source": [
    "DPI = 60\n",
    "PLOT = False"
   ]
  },
  {
   "cell_type": "code",
   "execution_count": 3,
   "id": "146e4bbd",
   "metadata": {},
   "outputs": [],
   "source": [
    "batch_sizes = np.arange(1, 513, 1)\n",
    "batch_sizes_4x = np.arange(4, 2049, 4)\n",
    "file_label = ['res20', 'res18_32_1', 'res18_16_1', 'res18_16_4']\n",
    "gpu_label = ['gpu01', 'gpu02', 'gpu03', 'gpu04']"
   ]
  },
  {
   "cell_type": "code",
   "execution_count": 4,
   "id": "2145533c",
   "metadata": {},
   "outputs": [],
   "source": [
    "#tem.keys()\n",
    "#tem.values()\n",
    "#for key, value in tem.items():\n",
    "#    print (key)\n",
    "#    break"
   ]
  },
  {
   "cell_type": "code",
   "execution_count": 5,
   "id": "a3c283a1",
   "metadata": {},
   "outputs": [],
   "source": [
    "tem = {} # time_epoch_measurement\n",
    "tbm = {} # time_batch_measurement\n",
    "tem_avg = {}\n",
    "tbm_avg = {}"
   ]
  },
  {
   "cell_type": "code",
   "execution_count": 6,
   "id": "53b812bb",
   "metadata": {},
   "outputs": [],
   "source": [
    "for i in gpu_label:\n",
    "    tem['res20_'+i] = np.load(f'./temp/time_cResNet20_s32_b1_e512_g1_{i}.npy')\n",
    "    tem['res18_32_1_'+i] = np.load(f'./temp/time_cResNetOld18_s32_b1_e512_g1_{i}.npy')\n",
    "    tem['res18_16_1_'+i] = np.load(f'./temp/time_cResNetOld18_s16_b1_e512_g1_{i}.npy')\n",
    "    tem['res18_16_4_'+i] = np.load(f'./temp/time_cResNetOld18_s16_b4_e2048_g4_{i}.npy')\n",
    "\n",
    "for key, value in tem.items():\n",
    "    bs = batch_sizes_4x if 'res18_16_4' in key else batch_sizes\n",
    "    tbm[key] = value / np.ceil(50000 / bs)"
   ]
  },
  {
   "cell_type": "code",
   "execution_count": 8,
   "id": "e7f75c46",
   "metadata": {},
   "outputs": [],
   "source": [
    "for i in file_label:\n",
    "    tem_avg[i] = np.zeros_like(tem[i+'_'+gpu_label[0]])\n",
    "    tbm_avg[i] = np.zeros_like(tbm[i+'_'+gpu_label[0]])\n",
    "\n",
    "for key, value in tem.items():\n",
    "    if \n",
    "    pass"
   ]
  },
  {
   "cell_type": "code",
   "execution_count": 11,
   "id": "14637f40",
   "metadata": {},
   "outputs": [
    {
     "data": {
      "text/plain": [
       "dict_keys(['res20', 'res18_32_1', 'res18_16_1', 'res18_16_4'])"
      ]
     },
     "execution_count": 11,
     "metadata": {},
     "output_type": "execute_result"
    }
   ],
   "source": [
    "tem_avg.keys()"
   ]
  },
  {
   "cell_type": "code",
   "execution_count": null,
   "id": "ed964f6b",
   "metadata": {},
   "outputs": [],
   "source": []
  },
  {
   "cell_type": "code",
   "execution_count": null,
   "id": "14a92242",
   "metadata": {},
   "outputs": [],
   "source": []
  },
  {
   "cell_type": "code",
   "execution_count": null,
   "id": "94846460",
   "metadata": {},
   "outputs": [],
   "source": []
  },
  {
   "cell_type": "code",
   "execution_count": null,
   "id": "a17be2b4",
   "metadata": {},
   "outputs": [],
   "source": []
  },
  {
   "cell_type": "code",
   "execution_count": null,
   "id": "e3c9d622",
   "metadata": {},
   "outputs": [],
   "source": [
    "plt.figure(dpi=DPI)\n",
    "for key, value in tem.items():\n",
    "    if 'res18_32_1' in key:\n",
    "        plt.plot(batch_sizes, value, label=key, linewidth=1)\n",
    "plt.xlabel('Batch Size')\n",
    "plt.ylabel('Time')\n",
    "plt.legend()\n",
    "plt.show()\n",
    "\n",
    "plt.figure(dpi=DPI)\n",
    "for key, value in tbm.items():\n",
    "    if 'res18_32_1' in key:\n",
    "        plt.plot(batch_sizes, value, label=key, linewidth=1)\n",
    "plt.xlabel('Batch Size')\n",
    "plt.ylabel('Time')\n",
    "plt.legend()\n",
    "plt.show()"
   ]
  },
  {
   "cell_type": "code",
   "execution_count": null,
   "id": "4c4da6b6",
   "metadata": {},
   "outputs": [],
   "source": []
  },
  {
   "cell_type": "code",
   "execution_count": null,
   "id": "40ba5fc1",
   "metadata": {},
   "outputs": [],
   "source": []
  },
  {
   "cell_type": "code",
   "execution_count": null,
   "id": "cb7d06ae",
   "metadata": {},
   "outputs": [],
   "source": []
  },
  {
   "cell_type": "markdown",
   "id": "36131a08",
   "metadata": {},
   "source": [
    "### Old"
   ]
  },
  {
   "cell_type": "code",
   "execution_count": null,
   "id": "0a139a8e",
   "metadata": {},
   "outputs": [],
   "source": [
    "DPI = 100\n",
    "PLOT = False"
   ]
  },
  {
   "cell_type": "code",
   "execution_count": null,
   "id": "42da2d47",
   "metadata": {},
   "outputs": [],
   "source": [
    "batch_sizes = np.arange(1, 513, 1)\n",
    "label = ['gpu01', 'gpu02', 'gpu03', 'gpu04']"
   ]
  },
  {
   "cell_type": "code",
   "execution_count": null,
   "id": "76f24704",
   "metadata": {},
   "outputs": [],
   "source": [
    "time_epoch_measure_avg = []\n",
    "time_batch_measure_avg = []\n",
    "file_label = ['res20', 'res18_32_1', 'res18_16_1', 'res18_16_4']"
   ]
  },
  {
   "cell_type": "code",
   "execution_count": null,
   "id": "504757d1",
   "metadata": {},
   "outputs": [],
   "source": [
    "time_epoch_measure = []\n",
    "for i in range(1, 5):\n",
    "    time_epoch_measure.append(np.load(f'./temp/time_cResNet20_s32_b1_e512_g1_gpu0{i}.npy'))\n",
    "\n",
    "\n",
    "time_batch_measure = []\n",
    "for i in time_epoch_measure:\n",
    "    time_batch_measure.append(i / np.ceil(50000 / batch_sizes))\n",
    "\n",
    "time_epoch_measure_avg.append(np.average(time_epoch_measure, axis=0))\n",
    "time_batch_measure_avg.append(np.average(time_batch_measure, axis=0))\n",
    "\n",
    "if PLOT:\n",
    "    plt.figure(dpi=DPI)\n",
    "    for i, j in zip(time_epoch_measure, label):\n",
    "        plt.plot(batch_sizes, i, label=j, linewidth=1)\n",
    "    plt.xlabel('Batch Size')\n",
    "    plt.ylabel('Time')\n",
    "    plt.legend()\n",
    "    plt.show()\n",
    "\n",
    "    plt.figure(dpi=DPI)\n",
    "    for i, j in zip(time_batch_measure, label):\n",
    "        plt.plot(batch_sizes, i, label=j, linewidth=1)\n",
    "    plt.xlabel('Batch Size')\n",
    "    plt.ylabel('Time')\n",
    "    plt.legend()\n",
    "    plt.show()"
   ]
  },
  {
   "cell_type": "code",
   "execution_count": null,
   "id": "c02a3e22",
   "metadata": {},
   "outputs": [],
   "source": [
    "time_epoch_measure = []\n",
    "for i in range(1, 5):\n",
    "    time_epoch_measure.append(np.load(f'./temp/time_cResNetOld18_s32_b1_e512_g1_gpu0{i}.npy'))\n",
    "\n",
    "\n",
    "time_batch_measure = []\n",
    "for i in time_epoch_measure:\n",
    "    time_batch_measure.append(i / np.ceil(50000 / batch_sizes))\n",
    "\n",
    "time_epoch_measure_avg.append(np.average(time_epoch_measure, axis=0))\n",
    "time_batch_measure_avg.append(np.average(time_batch_measure, axis=0))\n",
    "\n",
    "if PLOT:\n",
    "    plt.figure(dpi=DPI)\n",
    "    for i, j in zip(time_epoch_measure, label):\n",
    "        plt.plot(batch_sizes, i, label=j, linewidth=1)\n",
    "    plt.xlabel('Batch Size')\n",
    "    plt.ylabel('Time')\n",
    "    plt.legend()\n",
    "    plt.show()\n",
    "\n",
    "    plt.figure(dpi=DPI)\n",
    "    for i, j in zip(time_batch_measure, label):\n",
    "        plt.plot(batch_sizes, i, label=j, linewidth=1)\n",
    "    plt.xlabel('Batch Size')\n",
    "    plt.ylabel('Time')\n",
    "    plt.legend()\n",
    "    plt.show()"
   ]
  },
  {
   "cell_type": "code",
   "execution_count": null,
   "id": "7b6d6326",
   "metadata": {},
   "outputs": [],
   "source": [
    "time_epoch_measure = []\n",
    "for i in range(1, 5):\n",
    "    time_epoch_measure.append(np.load(f'./temp/time_cResNetOld18_s16_b1_e512_g1_gpu0{i}.npy'))\n",
    "\n",
    "\n",
    "time_batch_measure = []\n",
    "for i in time_epoch_measure:\n",
    "    time_batch_measure.append(i / np.ceil(50000 / batch_sizes))\n",
    "\n",
    "time_epoch_measure_avg.append(np.average(time_epoch_measure, axis=0))\n",
    "time_batch_measure_avg.append(np.average(time_batch_measure, axis=0))\n",
    "\n",
    "if PLOT:\n",
    "    plt.figure(dpi=DPI)\n",
    "    for i, j in zip(time_epoch_measure, label):\n",
    "        plt.plot(batch_sizes, i, label=j, linewidth=1)\n",
    "    plt.xlabel('Batch Size')\n",
    "    plt.ylabel('Time')\n",
    "    plt.legend()\n",
    "    plt.show()\n",
    "\n",
    "    plt.figure(dpi=DPI)\n",
    "    for i, j in zip(time_batch_measure, label):\n",
    "        plt.plot(batch_sizes, i, label=j, linewidth=1)\n",
    "    plt.xlabel('Batch Size')\n",
    "    plt.ylabel('Time')\n",
    "    plt.legend()\n",
    "    plt.show()"
   ]
  },
  {
   "cell_type": "code",
   "execution_count": null,
   "id": "a5e70c00",
   "metadata": {},
   "outputs": [],
   "source": [
    "time_epoch_measure = []\n",
    "for i in range(1, 5):\n",
    "    time_epoch_measure.append(np.load(f'./temp/time_cResNetOld18_s16_b4_e2048_g4_gpu0{i}.npy'))\n",
    "\n",
    "\n",
    "time_batch_measure = []\n",
    "for i in time_epoch_measure:\n",
    "    time_batch_measure.append(i / np.ceil(50000 / (batch_sizes*4)))\n",
    "\n",
    "time_epoch_measure_avg.append(np.average(time_epoch_measure, axis=0))\n",
    "time_batch_measure_avg.append(np.average(time_batch_measure, axis=0))\n",
    "\n",
    "if PLOT:\n",
    "    plt.figure(dpi=DPI)\n",
    "    for i, j in zip(time_epoch_measure, label):\n",
    "        plt.plot(batch_sizes, i, label=j, linewidth=1)\n",
    "    plt.xlabel('Batch Size')\n",
    "    plt.ylabel('Time')\n",
    "    plt.legend()\n",
    "    plt.show()\n",
    "\n",
    "    plt.figure(dpi=DPI)\n",
    "    for i, j in zip(time_batch_measure, label):\n",
    "        plt.plot(batch_sizes, i, label=j, linewidth=1)\n",
    "    plt.xlabel('Batch Size')\n",
    "    plt.ylabel('Time')\n",
    "    plt.legend()\n",
    "    plt.show()"
   ]
  },
  {
   "cell_type": "code",
   "execution_count": null,
   "id": "7bc58aff",
   "metadata": {},
   "outputs": [],
   "source": []
  },
  {
   "cell_type": "code",
   "execution_count": null,
   "id": "052a997a",
   "metadata": {},
   "outputs": [],
   "source": [
    "print(len(time_epoch_measure_avg), time_epoch_measure_avg[0].shape)\n",
    "print(len(time_batch_measure_avg), time_batch_measure_avg[0].shape)\n",
    "print(file_label)"
   ]
  },
  {
   "cell_type": "code",
   "execution_count": null,
   "id": "de296f01",
   "metadata": {},
   "outputs": [],
   "source": [
    "plt.figure(dpi=DPI)\n",
    "for i, j in zip(time_epoch_measure_avg, file_label):\n",
    "    plt.plot(batch_sizes, i, label=j, linewidth=1)\n",
    "plt.xlabel('Batch Size')\n",
    "plt.ylabel('Time')\n",
    "plt.legend()\n",
    "plt.show()\n",
    "\n",
    "plt.figure(dpi=DPI)\n",
    "for i, j in zip(time_batch_measure_avg, file_label):\n",
    "    plt.plot(batch_sizes, i, label=j, linewidth=1)\n",
    "plt.xlabel('Batch Size')\n",
    "plt.ylabel('Time')\n",
    "plt.legend()\n",
    "plt.show()"
   ]
  },
  {
   "cell_type": "code",
   "execution_count": null,
   "id": "ca9eaa06",
   "metadata": {},
   "outputs": [],
   "source": [
    "bs_temp = np.arange(4, 513, 4)\n",
    "print(bs_temp.shape[0])\n",
    "\n",
    "plt.figure(dpi=DPI)\n",
    "plt.plot(batch_sizes, time_batch_measure_avg[1], label=file_label[1], linewidth=1)\n",
    "plt.plot(bs_temp, time_batch_measure_avg[3][:bs_temp.shape[0]], label=file_label[3], linewidth=1)\n",
    "plt.xlabel('Batch Size')\n",
    "plt.ylabel('Time')\n",
    "plt.legend()\n",
    "plt.show()"
   ]
  },
  {
   "cell_type": "code",
   "execution_count": null,
   "id": "835ba4b6",
   "metadata": {},
   "outputs": [],
   "source": []
  },
  {
   "cell_type": "code",
   "execution_count": null,
   "id": "8e1a2f0b",
   "metadata": {},
   "outputs": [],
   "source": [
    "batch_time_16 = time_batch_measure_avg[2]\n",
    "batch_time_32 = time_batch_measure_avg[1]"
   ]
  },
  {
   "cell_type": "code",
   "execution_count": null,
   "id": "6a6743c9",
   "metadata": {},
   "outputs": [],
   "source": [
    "reg_model_16 = LinearRegression().fit(batch_sizes.reshape(-1,1), batch_time_16)\n",
    "reg_model_32 = LinearRegression().fit(batch_sizes.reshape(-1,1), batch_time_32)"
   ]
  },
  {
   "cell_type": "code",
   "execution_count": null,
   "id": "d3c188e5",
   "metadata": {},
   "outputs": [],
   "source": [
    "batch_time_predict_16 = reg_model_16.predict(batch_sizes.reshape(-1,1))\n",
    "batch_time_predict_32 = reg_model_32.predict(batch_sizes.reshape(-1,1))"
   ]
  },
  {
   "cell_type": "code",
   "execution_count": null,
   "id": "01b99c74",
   "metadata": {},
   "outputs": [],
   "source": [
    "plt.figure(dpi=DPI)\n",
    "plt.plot(batch_sizes, batch_time_16, label='measurement_16', linewidth=1)\n",
    "plt.plot(batch_sizes, batch_time_predict_16, '--', label='prediction_16', linewidth=1)\n",
    "plt.plot(batch_sizes, batch_time_32, label='measurement_32', linewidth=1)\n",
    "plt.plot(batch_sizes, batch_time_predict_32, '--', label='prediction_32', linewidth=1)\n",
    "plt.xlabel('Batch Size')\n",
    "plt.ylabel('Time')\n",
    "plt.legend()\n",
    "plt.show()"
   ]
  },
  {
   "cell_type": "code",
   "execution_count": null,
   "id": "bcb1bf2f",
   "metadata": {},
   "outputs": [],
   "source": [
    "print(reg_model_16.coef_, reg_model_16.intercept_)\n",
    "print(reg_model_32.coef_, reg_model_32.intercept_)\n",
    "print(reg_model_32.coef_ / reg_model_16.coef_)"
   ]
  },
  {
   "cell_type": "code",
   "execution_count": null,
   "id": "03d9ce9d",
   "metadata": {},
   "outputs": [],
   "source": []
  }
 ],
 "metadata": {
  "kernelspec": {
   "display_name": "Python 3 (ipykernel)",
   "language": "python",
   "name": "python3"
  },
  "language_info": {
   "codemirror_mode": {
    "name": "ipython",
    "version": 3
   },
   "file_extension": ".py",
   "mimetype": "text/x-python",
   "name": "python",
   "nbconvert_exporter": "python",
   "pygments_lexer": "ipython3",
   "version": "3.11.4"
  }
 },
 "nbformat": 4,
 "nbformat_minor": 5
}
