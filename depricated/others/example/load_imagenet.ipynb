{
 "cells": [
  {
   "cell_type": "code",
   "execution_count": null,
   "id": "ba7cf47b",
   "metadata": {},
   "outputs": [],
   "source": [
    "import torch\n",
    "from torchvision import datasets, transforms"
   ]
  },
  {
   "cell_type": "code",
   "execution_count": null,
   "id": "5621b24e",
   "metadata": {},
   "outputs": [],
   "source": [
    "root = '/ssd/imagenet/'\n",
    "device = torch.device(\n",
    "    f'cuda:{torch.cuda.device_count() - 1}' if torch.cuda.is_available() else 'cpu'\n",
    ")\n",
    "if device.type == 'cuda':\n",
    "    torch.cuda.set_device(device)\n",
    "    torch.backends.cudnn.benchmark = True\n",
    "print(f'Device: {device}, Type: {device.type}')"
   ]
  },
  {
   "cell_type": "code",
   "execution_count": null,
   "id": "3373e04d",
   "metadata": {},
   "outputs": [],
   "source": [
    "normalize = transforms.Normalize(mean=[0.485, 0.456, 0.406], std=[0.229, 0.224, 0.225])\n",
    "transform = {\n",
    "    'train': transforms.Compose([\n",
    "        transforms.RandomResizedCrop(224),\n",
    "        transforms.RandomHorizontalFlip(),\n",
    "        transforms.ToTensor(),\n",
    "        normalize,\n",
    "    ]),\n",
    "    'eval': transforms.Compose([\n",
    "        transforms.Resize(256),\n",
    "        transforms.CenterCrop(224),\n",
    "        transforms.ToTensor(),\n",
    "        normalize,\n",
    "    ])\n",
    "}\n",
    "\n",
    "dataset = {\n",
    "    'train': datasets.ImageFolder(\n",
    "        root=root+'train/'#, transform=transform['train']\n",
    "    ),\n",
    "    'val': datasets.ImageFolder(\n",
    "        root=root+'val/'#, transform=transform['eval']\n",
    "    )\n",
    "}"
   ]
  },
  {
   "cell_type": "code",
   "execution_count": null,
   "id": "ae8fa9e2",
   "metadata": {},
   "outputs": [],
   "source": []
  }
 ],
 "metadata": {
  "kernelspec": {
   "display_name": "Python 3 (ipykernel)",
   "language": "python",
   "name": "python3"
  },
  "language_info": {
   "codemirror_mode": {
    "name": "ipython",
    "version": 3
   },
   "file_extension": ".py",
   "mimetype": "text/x-python",
   "name": "python",
   "nbconvert_exporter": "python",
   "pygments_lexer": "ipython3",
   "version": "3.10.10"
  }
 },
 "nbformat": 4,
 "nbformat_minor": 5
}
