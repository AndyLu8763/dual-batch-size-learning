{
 "cells": [
  {
   "cell_type": "code",
   "execution_count": null,
   "id": "4c0e712e",
   "metadata": {},
   "outputs": [],
   "source": [
    "import matplotlib.pyplot as plt\n",
    "import numpy as np"
   ]
  },
  {
   "cell_type": "code",
   "execution_count": null,
   "id": "eb07f89f",
   "metadata": {},
   "outputs": [],
   "source": [
    "#additional_time_ratio = 1.05\n",
    "#str_t = (\"%.2f\" % additional_time_ratio).replace(\".\", \"\")\n",
    "dir_path = './npy_result'\n",
    "common_name = 'cifar100_resnet18_e140'\n",
    "\n",
    "def load_npy(filename: str):\n",
    "    return np.load(filename, allow_pickle=True).item()\n",
    "\n",
    "def print_results(key, npy):\n",
    "    best = np.argmax(npy['val_acc'])\n",
    "    print(\n",
    "        f'{key},',\n",
    "        f'time: {npy[\"commit_time\"][-1]: .1f},',\n",
    "        f'loss: {npy[\"val_loss\"][-1]: .3f},',\n",
    "        f'acc: {round(npy[\"val_acc\"][-1] * 100, 1)}%,',\n",
    "        f'index: {best},',\n",
    "        f'best_loss: {npy[\"val_loss\"][best]: .3f},',\n",
    "        f'best_acc: {round(npy[\"val_acc\"][best] * 100, 1)}%'\n",
    "    )"
   ]
  },
  {
   "cell_type": "code",
   "execution_count": null,
   "id": "e550a2b0",
   "metadata": {},
   "outputs": [],
   "source": [
    "npy = {\n",
    "    'conf': {\n",
    "        #'single': load_npy(f'{dir_path}/conf_{common_name}_t105_w2s0.npy'),\n",
    "        's0': load_npy(f'{dir_path}/conf_{common_name}_t105_w5s0.npy'),\n",
    "        't105': {\n",
    "            's1': load_npy(f'{dir_path}/conf_{common_name}_t105_w5s1.npy'),\n",
    "            's2': load_npy(f'{dir_path}/conf_{common_name}_t105_w5s2.npy'),\n",
    "            's3': load_npy(f'{dir_path}/conf_{common_name}_t105_w5s3.npy'),\n",
    "            's4': load_npy(f'{dir_path}/conf_{common_name}_t105_w5s4.npy'),\n",
    "        },\n",
    "        't110': {\n",
    "            's1': load_npy(f'{dir_path}/conf_{common_name}_t110_w5s1.npy'),\n",
    "            's2': load_npy(f'{dir_path}/conf_{common_name}_t110_w5s2.npy'),\n",
    "            's3': load_npy(f'{dir_path}/conf_{common_name}_t110_w5s3.npy'),\n",
    "            's4': load_npy(f'{dir_path}/conf_{common_name}_t110_w5s4.npy'),\n",
    "        },\n",
    "    },\n",
    "    'journal': {\n",
    "        #'single': load_npy(f'{dir_path}/{common_name}_t105_w2s0.npy'),\n",
    "        's0': load_npy(f'{dir_path}/{common_name}_t105_w5s0.npy'),\n",
    "        't105': {\n",
    "            's1': load_npy(f'{dir_path}/{common_name}_t105_w5s1.npy'),\n",
    "            's2': load_npy(f'{dir_path}/{common_name}_t105_w5s2.npy'),\n",
    "            's3': load_npy(f'{dir_path}/{common_name}_t105_w5s3.npy'),\n",
    "            's4': load_npy(f'{dir_path}/{common_name}_t105_w5s4.npy'),\n",
    "        },\n",
    "        't110': {\n",
    "            's1': load_npy(f'{dir_path}/{common_name}_t110_w5s1.npy'),\n",
    "            's2': load_npy(f'{dir_path}/{common_name}_t110_w5s2.npy'),\n",
    "            's3': load_npy(f'{dir_path}/{common_name}_t110_w5s3.npy'),\n",
    "            's4': load_npy(f'{dir_path}/{common_name}_t110_w5s4.npy'),\n",
    "        },\n",
    "    },\n",
    "}"
   ]
  },
  {
   "cell_type": "code",
   "execution_count": null,
   "id": "76ac4f4f",
   "metadata": {},
   "outputs": [],
   "source": [
    "print(npy['journal']['t105']['s1'].keys())"
   ]
  },
  {
   "cell_type": "markdown",
   "id": "ce7f5fb7",
   "metadata": {},
   "source": [
    "### Result"
   ]
  },
  {
   "cell_type": "code",
   "execution_count": null,
   "id": "71007939",
   "metadata": {},
   "outputs": [],
   "source": [
    "for key1, value1 in npy.items():\n",
    "    print(key1)\n",
    "    #print_results('single', value1['single'])\n",
    "    print_results('s0', value1['s0'])\n",
    "    print('- t105')\n",
    "    for key2, value2 in value1['t105'].items():\n",
    "        print_results(key2, value2)\n",
    "    print('- t110')\n",
    "    for key2, value2 in value1['t110'].items():\n",
    "        print_results(key2, value2)\n",
    "    print('====')"
   ]
  },
  {
   "cell_type": "markdown",
   "id": "385a6e5b",
   "metadata": {},
   "source": [
    "### Plot"
   ]
  },
  {
   "cell_type": "code",
   "execution_count": null,
   "id": "0b5cb924",
   "metadata": {},
   "outputs": [],
   "source": [
    "SAVE = True\n",
    "DPI = 300 if SAVE else 72 # [72, 150, 240, 300]\n",
    "fig_data = 'cifar100'\n",
    "fig_path = './fig'"
   ]
  },
  {
   "cell_type": "code",
   "execution_count": null,
   "id": "8f1bbe0e",
   "metadata": {},
   "outputs": [],
   "source": [
    "tag = 't105'\n",
    "feature = 'val_loss'\n",
    "fig_name = f'{fig_data}_{tag}_{feature}'\n",
    "\n",
    "plt.figure(dpi=DPI)\n",
    "\n",
    "plt.plot(npy['journal']['s0']['commit_time'], npy['journal']['s0'][feature],\n",
    "         label='$n_S=0$, hybrid', zorder=-npy['journal']['s0']['commit_time'][-1])\n",
    "for key, value in npy['journal'][tag].items():\n",
    "    plt.plot(value['commit_time'], value[feature],\n",
    "             label=f'$n_S={key[1]}$, hybrid', zorder=-value['commit_time'][-1])\n",
    "\n",
    "plt.plot(npy['conf']['s0']['commit_time'], npy['conf']['s0'][feature],\n",
    "         '--', label='$n_S=0$, DBSL', zorder=-npy['conf']['s0']['commit_time'][-1])\n",
    "for key, value in npy['conf'][tag].items():\n",
    "    plt.plot(value['commit_time'], value[feature],\n",
    "             '--', label=f'$n_S={key[1]}$, DBSL', zorder=-value['commit_time'][-1])\n",
    "\n",
    "plt.ylim(bottom=1.5, top=5)\n",
    "plt.xlabel('Time (sec)')\n",
    "plt.ylabel('Loss')\n",
    "plt.legend()\n",
    "None if SAVE else plt.title(fig_name)\n",
    "plt.savefig(f'{fig_path}/{fig_name}.png', transparent=True) if SAVE else plt.show()"
   ]
  },
  {
   "cell_type": "code",
   "execution_count": null,
   "id": "cc6617a4",
   "metadata": {},
   "outputs": [],
   "source": [
    "tag = 't105'\n",
    "feature = 'val_acc'\n",
    "fig_name = f'{fig_data}_{tag}_{feature}'\n",
    "\n",
    "plt.figure(dpi=DPI)\n",
    "\n",
    "plt.plot(npy['journal']['s0']['commit_time'], npy['journal']['s0'][feature],\n",
    "         label='$n_S=0$, hybrid', zorder=-npy['journal']['s0']['commit_time'][-1])\n",
    "for key, value in npy['journal'][tag].items():\n",
    "    plt.plot(value['commit_time'], value[feature],\n",
    "             label=f'$n_S={key[1]}$, hybrid', zorder=-value['commit_time'][-1])\n",
    "\n",
    "plt.plot(npy['conf']['s0']['commit_time'], npy['conf']['s0'][feature],\n",
    "         '--', label='$n_S=0$, DBSL', zorder=-npy['conf']['s0']['commit_time'][-1])\n",
    "for key, value in npy['conf'][tag].items():\n",
    "    plt.plot(value['commit_time'], value[feature],\n",
    "             '--', label=f'$n_S={key[1]}$, DBSL', zorder=-value['commit_time'][-1])\n",
    "\n",
    "plt.xlabel('Time (sec)')\n",
    "plt.ylabel('Accuracy')\n",
    "plt.legend()\n",
    "None if SAVE else plt.title(fig_name)\n",
    "plt.savefig(f'{fig_path}/{fig_name}.png', transparent=True) if SAVE else plt.show()"
   ]
  },
  {
   "cell_type": "code",
   "execution_count": null,
   "id": "70b78afa",
   "metadata": {},
   "outputs": [],
   "source": [
    "tag = 't110'\n",
    "feature = 'val_loss'\n",
    "fig_name = f'{fig_data}_{tag}_{feature}'\n",
    "\n",
    "plt.figure(dpi=DPI)\n",
    "\n",
    "plt.plot(npy['journal']['s0']['commit_time'], npy['journal']['s0'][feature],\n",
    "         label='$n_S=0$, hybrid', zorder=-npy['journal']['s0']['commit_time'][-1])\n",
    "for key, value in npy['journal'][tag].items():\n",
    "    plt.plot(value['commit_time'], value[feature],\n",
    "             label=f'$n_S={key[1]}$, hybrid', zorder=-value['commit_time'][-1])\n",
    "\n",
    "plt.plot(npy['conf']['s0']['commit_time'], npy['conf']['s0'][feature],\n",
    "         '--', label='$n_S=0$, DBSL', zorder=-npy['conf']['s0']['commit_time'][-1])\n",
    "for key, value in npy['conf'][tag].items():\n",
    "    plt.plot(value['commit_time'], value[feature],\n",
    "             '--', label=f'$n_S={key[1]}$, DBSL', zorder=-value['commit_time'][-1])\n",
    "\n",
    "plt.ylim(bottom=1.5, top=5)\n",
    "plt.xlabel('Time (sec)')\n",
    "plt.ylabel('Loss')\n",
    "plt.legend()\n",
    "None if SAVE else plt.title(fig_name)\n",
    "plt.savefig(f'{fig_path}/{fig_name}.png', transparent=True) if SAVE else plt.show()"
   ]
  },
  {
   "cell_type": "code",
   "execution_count": null,
   "id": "d0e0a0a1",
   "metadata": {},
   "outputs": [],
   "source": [
    "tag = 't110'\n",
    "feature = 'val_acc'\n",
    "fig_name = f'{fig_data}_{tag}_{feature}'\n",
    "\n",
    "plt.figure(dpi=DPI)\n",
    "\n",
    "plt.plot(npy['journal']['s0']['commit_time'], npy['journal']['s0'][feature],\n",
    "         label='$n_S=0$, hybrid', zorder=-npy['journal']['s0']['commit_time'][-1])\n",
    "for key, value in npy['journal'][tag].items():\n",
    "    plt.plot(value['commit_time'], value[feature],\n",
    "             label=f'$n_S={key[1]}$, hybrid', zorder=-value['commit_time'][-1])\n",
    "\n",
    "plt.plot(npy['conf']['s0']['commit_time'], npy['conf']['s0'][feature],\n",
    "         '--', label='$n_S=0$, DBSL', zorder=-npy['conf']['s0']['commit_time'][-1])\n",
    "for key, value in npy['conf'][tag].items():\n",
    "    plt.plot(value['commit_time'], value[feature],\n",
    "             '--', label=f'$n_S={key[1]}$, DBSL', zorder=-value['commit_time'][-1])\n",
    "\n",
    "plt.xlabel('Time (sec)')\n",
    "plt.ylabel('Accuracy')\n",
    "plt.legend()\n",
    "None if SAVE else plt.title(fig_name)\n",
    "plt.savefig(f'{fig_path}/{fig_name}.png', transparent=True) if SAVE else plt.show()"
   ]
  },
  {
   "cell_type": "code",
   "execution_count": null,
   "id": "ad25527f",
   "metadata": {},
   "outputs": [],
   "source": []
  }
 ],
 "metadata": {
  "kernelspec": {
   "display_name": "Python 3 (ipykernel)",
   "language": "python",
   "name": "python3"
  },
  "language_info": {
   "codemirror_mode": {
    "name": "ipython",
    "version": 3
   },
   "file_extension": ".py",
   "mimetype": "text/x-python",
   "name": "python",
   "nbconvert_exporter": "python",
   "pygments_lexer": "ipython3",
   "version": "3.11.7"
  }
 },
 "nbformat": 4,
 "nbformat_minor": 5
}
